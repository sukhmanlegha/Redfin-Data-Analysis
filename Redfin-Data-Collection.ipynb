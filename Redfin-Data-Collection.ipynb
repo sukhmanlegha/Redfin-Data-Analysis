{
 "cells": [
  {
   "cell_type": "code",
   "execution_count": 6,
   "id": "b00c3677",
   "metadata": {},
   "outputs": [],
   "source": [
    "import requests \n",
    "from bs4 import BeautifulSoup\n",
    "import re\n",
    "import pandas as pd\n",
    "import numpy as np\n",
    "from collections import defaultdict\n",
    "import seaborn as sns\n",
    "from urllib.request import urlopen"
   ]
  },
  {
   "cell_type": "code",
   "execution_count": 7,
   "id": "a10f3b11",
   "metadata": {},
   "outputs": [],
   "source": [
    "url = \"https://www.redfin.com/state/California\""
   ]
  },
  {
   "cell_type": "code",
   "execution_count": 16,
   "id": "12a4ff24",
   "metadata": {},
   "outputs": [],
   "source": [
    "req_headers = {\n",
    "    'accept': '*/*',\n",
    "    'accept-encoding': 'gzip, deflate, br',\n",
    "    'accept-language': 'en-US,en;q=0.8',\n",
    "    'upgrade-insecure-requests': '1',\n",
    "    'authority': 'www.redfin.com',\n",
    "    'user-agent': 'Mozilla/5.0 (Macintosh; Intel Mac OS X 10_15_7) AppleWebKit/537.36 (KHTML, like Gecko) Chrome/105.0.0.0 Safari/537.36',\n",
    "    'cookie': 'RF_BROWSER_ID=L60AjcauTBebcYlIR2U4kw; G_ENABLED_IDPS=google; searchMode=1; sortOrder=1; sortOption=special_blend; collapsedMapView=1; RF_BUSINESS_MARKET=2; g_state={\"i_p\":1664477071453,\"i_l\":3}; RF_LDP_VIEWS_FOR_PROMPT=%7B%22viewsData%22%3A%7B%2209-18-2022%22%3A%7B%22156376334%22%3A2%2C%22156597405%22%3A1%2C%22156758795%22%3A1%2C%22157099478%22%3A1%2C%22157135189%22%3A1%2C%22157151930%22%3A1%2C%22157161427%22%3A3%7D%2C%2209-19-2022%22%3A%7B%22153865147%22%3A1%2C%22157119319%22%3A2%2C%22157168473%22%3A1%7D%2C%2209-20-2022%22%3A%7B%22156448970%22%3A1%2C%22156904928%22%3A1%7D%2C%2209-22-2022%22%3A%7B%22157144246%22%3A1%2C%22157190844%22%3A2%2C%22157210293%22%3A1%2C%22157227537%22%3A1%2C%22157230771%22%3A1%2C%22157353619%22%3A1%7D%2C%2209-25-2022%22%3A%7B%22156936145%22%3A1%2C%22157527548%22%3A1%7D%7D%2C%22expiration%22%3A%222024-09-17T20%3A50%3A26.681Z%22%2C%22totalPromptedLdps%22%3A0%7D; RF_LISTING_VIEWS=156936145.157527548.157227537.157144246.157210293.157230771.157353619.157190844.156904928.156448970.157168473.157119319.153865147.156376334.157161427.157135189.157099478.156597405.156758795.157151930; RF_LAST_DP_SERVICE_REGION=1077; RF_LAST_SEARCHED_CITY=San%20Bruno; userPreferences=parcels%3Dtrue%26schools%3Dfalse%26mapStyle%3Ds%26statistics%3Dtrue%26agcTooltip%3Dfalse%26agentReset%3Dfalse%26ldpRegister%3Dfalse%26afCard%3D2%26schoolType%3D0%26lastSeenLdp%3DnoSharedSearchCookie%26viewedSwipeableHomeCardsDate%3D1664165946420; RF_UNBLOCK_ID=wCqEglla; AKA_A2=A; ak_bmsc=57A850EC50D2954AAA0419C6D177A935~000000000000000000000000000000~YAAQ0JTYF5ZIgpaDAQAAKIgDnxGfYe1YNwTJw6mekKkcE5nssQDSrdsUFiwwxWyVrpvyvhnhncenIYgSmII9TwxluJVvEbu/tSUA8+/x3EM6yHei8eKMGAMPKEXs+xIR8u8Hf3k6s3HacFNu1qkh2h07TrJvIDAWTDrhoL6OcfAp7/CbcwQpKp7Pocp2h2hPgkz67zj0Z3r9InkPnvnNRNIL/t3BvTDL2PxnQJrTfrkhfIaitiKoHeF7QwWsMq1j+SrBc5eTQTA9sbPGaAN+0EGk9EE+0jOrKIv8qAjdnUzUCee09zkdlDSciEsp6laLxBYdYn12Nzkg9hCdSyYLvDA3a4icF9GO7BpK21KF8H6nEnFOQZRKVVYNVkbYfLda7ywMou4gLIpI9pw=; RF_CORVAIR_LAST_VERSION=438.2.1; RF_BROWSER_ID_GREAT_FIRST_VISIT_TIMESTAMP=2022-10-03T11%3A02%3A37.559025; RF_BID_UPDATED=1; bm_mi=93FC1225292EA26E5BF28146B44094DB~YAAQ0JTYF/BLgpaDAQAAEp0DnxGHhDCs8mc21i2Dx+0ew80H+sc60/eEiX1lmxobxK/NRjrLVtcm4UEoauvXlXiAl8+Z1WaiNvLo0ZJBgCCZCvVxGCC2E3xVkl81ndIvalVW/U/d1nPOOK3XFuLTSWrMgBiny6GOOETBYHm6DyYPb6Ntoq3ksWcXw8DSuhJ4fDN85gYSsPLJyoEDoILSXl2rPCLSOtTso6GDk0IEcNImEr1HdWiaEtFTNl7iS5tE84eBj+2KFID+B1M+TNDpAaufrXq1HOIxe8WFuBLa/NRF56c9uco/l2df9ynZ~1; RF_LAST_NAV=1; audS=t; FEED_COUNT=%5B%2210%22%2C%22f%22%5D; RF_BROWSER_CAPABILITIES=%7B%22screen-size%22%3A3%2C%22events-touch%22%3Afalse%2C%22ios-app-store%22%3Afalse%2C%22google-play-store%22%3Afalse%2C%22ios-web-view%22%3Afalse%2C%22android-web-view%22%3Afalse%7D; RF_VISITED=true; bm_sv=CD12C71B261FDC72BDB3D61405E55061~YAAQ0JTYF+tRgpaDAQAALMcDnxHjrt/ADbihWy6+dkJ3T8DDBOsnmekzaIYfQH2v4SiuPvZn/+xxnjrtdCZj1SzNSp2A8btPLdYNYWPccr8pbh4DSGuhMicHQtxH7XKiD86A8B5aHIQMI2UqK9WWzXrmMahkEBOR9tsnLuclJZaMV/hkqs5qecN25o/+r+W+RB0TPyZnlYPGRveIs074kfnwyTc5f4VtAkgNANpBGqzow8WBIgKn5/C706Pl7R4n~1',\n",
    "    'referer': 'https://www.redfin.com/',\n",
    "    'sec-ch-ua': '\"Google Chrome\";v=\"105\", \"Not)A;Brand\";v=\"8\", \"Chromium\";v=\"105\"',\n",
    "    'sec-ch-ua-mobile': '?0',\n",
    "    'sec-ch-ua-platform': '\"macOS\"',\n",
    "    'sec-fetch-dest': 'empty',\n",
    "    'sec-fetch-mode': 'cors',\n",
    "    'sec-fetch-site': 'same-origin'\n",
    "}"
   ]
  },
  {
   "cell_type": "code",
   "execution_count": 17,
   "id": "ec137619",
   "metadata": {},
   "outputs": [],
   "source": [
    "# Send a GET request to the URL\n",
    "response = requests.get(url, headers=req_headers)\n",
    "\n",
    "# Parse the HTML content using BeautifulSoup\n",
    "soup = BeautifulSoup(response.content, 'html.parser')"
   ]
  },
  {
   "cell_type": "code",
   "execution_count": 15,
   "id": "e460ade6",
   "metadata": {
    "scrolled": true
   },
   "outputs": [
    {
     "data": {
      "text/plain": [
       "['/',\n",
       " '/houses-near-me',\n",
       " '/rentals',\n",
       " '/feed',\n",
       " '/myredfin/favorites',\n",
       " '/premier',\n",
       " '/sell-a-home/seller-consultation/address?inquirySource=285',\n",
       " '/rentals/list-my-home-for-rent',\n",
       " 'https://redfin.onelink.me/iy7h/?pid=redfin&af_channel=mobile-web-organic&c=mobile-menu',\n",
       " '/',\n",
       " '/myredfin/saved-searches',\n",
       " '/selling-options',\n",
       " '/myredfin/owner-dashboard',\n",
       " '/myredfin/openhouses',\n",
       " '/myredfin/tours',\n",
       " '/myredfin/agent',\n",
       " '/mortgage-menu',\n",
       " '/careers/real-estate',\n",
       " '/myredfin/alerts-settings',\n",
       " 'tel:1-844-759-7732',\n",
       " 'tel:1-844-759-7732',\n",
       " '/houses-near-me',\n",
       " '/rentals',\n",
       " '/why-sell?inquirySource=484',\n",
       " '/premier',\n",
       " '/mortgage-rates?context=3',\n",
       " '/real-estate-agents',\n",
       " '/feed',\n",
       " '/state/California/housing-market',\n",
       " 'https://www.redfin.com/city/10940/CA/Long-Beach',\n",
       " 'https://www.redfin.com/city/10940/CA/Long-Beach',\n",
       " 'https://www.redfin.com/city/16904/CA/San-Diego',\n",
       " 'https://www.redfin.com/city/16904/CA/San-Diego',\n",
       " 'https://www.redfin.com/city/11203/CA/Los-Angeles',\n",
       " 'https://www.redfin.com/city/11203/CA/Los-Angeles',\n",
       " 'https://www.redfin.com/city/17151/CA/San-Francisco',\n",
       " 'https://www.redfin.com/city/17151/CA/San-Francisco',\n",
       " 'https://www.redfin.com/city/17420/CA/San-Jose',\n",
       " 'https://www.redfin.com/city/17420/CA/San-Jose',\n",
       " 'https://www.redfin.com/city/9361/CA/Irvine',\n",
       " 'https://www.redfin.com/city/9361/CA/Irvine',\n",
       " 'https://www.redfin.com/city/6671/CA/Fremont',\n",
       " 'https://www.redfin.com/city/6671/CA/Fremont',\n",
       " 'https://www.redfin.com/city/14986/CA/Pleasanton',\n",
       " 'https://www.redfin.com/city/14986/CA/Pleasanton',\n",
       " '/city/10940/CA/Long-Beach',\n",
       " '/city/16904/CA/San-Diego',\n",
       " '/city/11203/CA/Los-Angeles',\n",
       " '/city/17151/CA/San-Francisco',\n",
       " '/city/17420/CA/San-Jose',\n",
       " '/city/9361/CA/Irvine',\n",
       " '/city/6671/CA/Fremont',\n",
       " '/city/14986/CA/Pleasanton',\n",
       " '/city/17519/CA/San-Ramon',\n",
       " '/city/14498/CA/Pasadena',\n",
       " '/city/5159/CA/Dublin',\n",
       " '/city/19701/CA/Temecula',\n",
       " '/city/15935/CA/Riverside',\n",
       " '/city/4249/CA/Corona',\n",
       " '/city/13654/CA/Oakland',\n",
       " '/city/15390/CA/Rancho-Cucamonga',\n",
       " '/city/9164/CA/Huntington-Beach',\n",
       " '/city/10683/CA/Livermore',\n",
       " '/city/14315/CA/Palm-Springs',\n",
       " '/city/16409/CA/Sacramento',\n",
       " 'https://www.redfin.com/county/343/CA/San-Mateo-County',\n",
       " 'https://www.redfin.com/county/343/CA/San-Mateo-County',\n",
       " 'https://www.redfin.com/county/332/CA/Orange-County',\n",
       " 'https://www.redfin.com/county/332/CA/Orange-County',\n",
       " 'https://www.redfin.com/county/321/CA/Los-Angeles-County',\n",
       " 'https://www.redfin.com/county/321/CA/Los-Angeles-County',\n",
       " 'https://www.redfin.com/county/339/CA/San-Diego-County',\n",
       " 'https://www.redfin.com/county/339/CA/San-Diego-County',\n",
       " 'https://www.redfin.com/county/323/CA/Marin-County',\n",
       " 'https://www.redfin.com/county/323/CA/Marin-County',\n",
       " 'https://www.redfin.com/county/336/CA/Sacramento-County',\n",
       " 'https://www.redfin.com/county/336/CA/Sacramento-County',\n",
       " 'https://www.redfin.com/county/345/CA/Santa-Clara-County',\n",
       " 'https://www.redfin.com/county/345/CA/Santa-Clara-County',\n",
       " 'https://www.redfin.com/county/351/CA/Sonoma-County',\n",
       " 'https://www.redfin.com/county/351/CA/Sonoma-County',\n",
       " 'https://www.redfin.com/county/335/CA/Riverside-County',\n",
       " 'https://www.redfin.com/county/335/CA/Riverside-County',\n",
       " 'https://www.redfin.com/county/358/CA/Ventura-County',\n",
       " 'https://www.redfin.com/county/358/CA/Ventura-County',\n",
       " 'https://www.redfin.com/county/346/CA/Santa-Cruz-County',\n",
       " 'https://www.redfin.com/county/346/CA/Santa-Cruz-County',\n",
       " 'https://www.redfin.com/county/338/CA/San-Bernardino-County',\n",
       " 'https://www.redfin.com/county/338/CA/San-Bernardino-County',\n",
       " 'https://www.redfin.com/county/309/CA/Contra-Costa-County',\n",
       " 'https://www.redfin.com/county/309/CA/Contra-Costa-County',\n",
       " 'https://www.redfin.com/county/303/CA/Alameda-County',\n",
       " 'https://www.redfin.com/county/303/CA/Alameda-County',\n",
       " 'https://www.redfin.com/county/333/CA/Placer-County',\n",
       " 'https://www.redfin.com/county/333/CA/Placer-County',\n",
       " 'https://www.redfin.com',\n",
       " 'https://www.redfin.com/state/California',\n",
       " '/state/California/apartments-for-rent',\n",
       " '/state/California/houses-for-rent',\n",
       " '/state/California/cheap-homes',\n",
       " '/state/California/single-story',\n",
       " '/state/California/land',\n",
       " '/state/California/luxury-homes',\n",
       " '/state/California/pools',\n",
       " '/state/California/new-listings',\n",
       " '/state/California/vintage',\n",
       " '/state/California/open-houses',\n",
       " '/state/California/condos',\n",
       " '/state/California/new-homes',\n",
       " '/state/California/multi-family-homes-for-sale',\n",
       " '/state/California/fixer-upper',\n",
       " '/state/California/townhouses',\n",
       " '/state/California/waterfront',\n",
       " '/houses-near-me',\n",
       " '/land-near-me',\n",
       " '/open-houses-near-me',\n",
       " '/condos-near-me',\n",
       " 'https://www.facebook.com/redfin',\n",
       " 'https://twitter.com/Redfin',\n",
       " 'https://www.pinterest.com/redfin/',\n",
       " 'https://www.instagram.com/redfinrealestate/',\n",
       " 'https://www.redfin.ca',\n",
       " '/about/terms-of-use',\n",
       " '/about/privacy-policy',\n",
       " '/about/privacy/cookie',\n",
       " 'https://redfin.widen.net/s/c2njc52hnk/redfin_new-york-standardized-operating-procedures',\n",
       " 'https://ssl.cdn-redfin.com/v460.2.0/images/about/ibs-statement/texas.pdf',\n",
       " 'https://www.trec.texas.gov/forms/consumer-protection-notice',\n",
       " 'tel:1-844-759-7732',\n",
       " '/about/terms-of-use#Equal_Housing_Opportunity',\n",
       " '/about/fair-housing-policy']"
      ]
     },
     "execution_count": 15,
     "metadata": {},
     "output_type": "execute_result"
    }
   ],
   "source": [
    "all_urls = [a['href'] for a in soup('a')  if a.has_attr('href')]\n",
    "all_urls"
   ]
  },
  {
   "cell_type": "code",
   "execution_count": 18,
   "id": "b13f2191",
   "metadata": {
    "scrolled": true
   },
   "outputs": [
    {
     "data": {
      "text/plain": [
       "['https://www.redfin.com/county/343/CA/San-Mateo-County',\n",
       " 'https://www.redfin.com/county/321/CA/Los-Angeles-County',\n",
       " 'https://www.redfin.com/county/351/CA/Sonoma-County',\n",
       " 'https://www.redfin.com/county/358/CA/Ventura-County',\n",
       " 'https://www.redfin.com/county/335/CA/Riverside-County',\n",
       " 'https://www.redfin.com/county/303/CA/Alameda-County',\n",
       " 'https://www.redfin.com/county/345/CA/Santa-Clara-County',\n",
       " 'https://www.redfin.com/county/339/CA/San-Diego-County',\n",
       " 'https://www.redfin.com/county/338/CA/San-Bernardino-County',\n",
       " 'https://www.redfin.com/county/333/CA/Placer-County',\n",
       " 'https://www.redfin.com/county/323/CA/Marin-County',\n",
       " 'https://www.redfin.com/county/336/CA/Sacramento-County',\n",
       " 'https://www.redfin.com/county/346/CA/Santa-Cruz-County',\n",
       " 'https://www.redfin.com/county/309/CA/Contra-Costa-County',\n",
       " 'https://www.redfin.com/county/332/CA/Orange-County']"
      ]
     },
     "execution_count": 18,
     "metadata": {},
     "output_type": "execute_result"
    }
   ],
   "source": [
    "regex = r\"https://www.redfin.com/county/?\"\n",
    "good_urls = [url for url in all_urls if re.match(regex, url)]\n",
    "good_urls = list(set(good_urls))\n",
    "good_urls"
   ]
  },
  {
   "cell_type": "code",
   "execution_count": 21,
   "id": "0f95ddff",
   "metadata": {},
   "outputs": [
    {
     "data": {
      "text/plain": [
       "['https://www.redfin.com/county/343/CA/San-Mateo-County',\n",
       " 'https://www.redfin.com/county/303/CA/Alameda-County',\n",
       " 'https://www.redfin.com/county/345/CA/Santa-Clara-County',\n",
       " 'https://www.redfin.com/county/309/CA/Contra-Costa-County']"
      ]
     },
     "execution_count": 21,
     "metadata": {},
     "output_type": "execute_result"
    }
   ],
   "source": [
    "req_county_lst = []\n",
    "req_counties = [\"Alameda-County\",\"Santa-Clara-County\",\"San-Mateo-County\",\"Contra-Costa-County\"]\n",
    "\n",
    "# Filter all the required counties\n",
    "for url in good_urls:\n",
    "    if url.split(\"/\")[6] in req_counties:\n",
    "        req_county_lst.append(url)\n",
    "req_county_lst"
   ]
  },
  {
   "cell_type": "code",
   "execution_count": 23,
   "id": "b4a797b0",
   "metadata": {},
   "outputs": [
    {
     "name": "stdout",
     "output_type": "stream",
     "text": [
      "56\n",
      "['https://www.redfin.com/county/343/CA/San-Mateo-County', 'https://www.redfin.com/county/343/CA/San-Mateo-County/page-2', 'https://www.redfin.com/county/343/CA/San-Mateo-County/page-3', 'https://www.redfin.com/county/343/CA/San-Mateo-County/page-4', 'https://www.redfin.com/county/343/CA/San-Mateo-County/page-5', 'https://www.redfin.com/county/343/CA/San-Mateo-County/page-6', 'https://www.redfin.com/county/343/CA/San-Mateo-County/page-7', 'https://www.redfin.com/county/343/CA/San-Mateo-County/page-8', 'https://www.redfin.com/county/343/CA/San-Mateo-County/page-9', 'https://www.redfin.com/county/343/CA/San-Mateo-County/page-10', 'https://www.redfin.com/county/343/CA/San-Mateo-County/page-11', 'https://www.redfin.com/county/343/CA/San-Mateo-County/page-12', 'https://www.redfin.com/county/343/CA/San-Mateo-County/page-13', 'https://www.redfin.com/county/343/CA/San-Mateo-County/page-14', 'https://www.redfin.com/county/303/CA/Alameda-County', 'https://www.redfin.com/county/303/CA/Alameda-County/page-2', 'https://www.redfin.com/county/303/CA/Alameda-County/page-3', 'https://www.redfin.com/county/303/CA/Alameda-County/page-4', 'https://www.redfin.com/county/303/CA/Alameda-County/page-5', 'https://www.redfin.com/county/303/CA/Alameda-County/page-6', 'https://www.redfin.com/county/303/CA/Alameda-County/page-7', 'https://www.redfin.com/county/303/CA/Alameda-County/page-8', 'https://www.redfin.com/county/303/CA/Alameda-County/page-9', 'https://www.redfin.com/county/303/CA/Alameda-County/page-10', 'https://www.redfin.com/county/303/CA/Alameda-County/page-11', 'https://www.redfin.com/county/303/CA/Alameda-County/page-12', 'https://www.redfin.com/county/303/CA/Alameda-County/page-13', 'https://www.redfin.com/county/303/CA/Alameda-County/page-14', 'https://www.redfin.com/county/345/CA/Santa-Clara-County', 'https://www.redfin.com/county/345/CA/Santa-Clara-County/page-2', 'https://www.redfin.com/county/345/CA/Santa-Clara-County/page-3', 'https://www.redfin.com/county/345/CA/Santa-Clara-County/page-4', 'https://www.redfin.com/county/345/CA/Santa-Clara-County/page-5', 'https://www.redfin.com/county/345/CA/Santa-Clara-County/page-6', 'https://www.redfin.com/county/345/CA/Santa-Clara-County/page-7', 'https://www.redfin.com/county/345/CA/Santa-Clara-County/page-8', 'https://www.redfin.com/county/345/CA/Santa-Clara-County/page-9', 'https://www.redfin.com/county/345/CA/Santa-Clara-County/page-10', 'https://www.redfin.com/county/345/CA/Santa-Clara-County/page-11', 'https://www.redfin.com/county/345/CA/Santa-Clara-County/page-12', 'https://www.redfin.com/county/345/CA/Santa-Clara-County/page-13', 'https://www.redfin.com/county/345/CA/Santa-Clara-County/page-14', 'https://www.redfin.com/county/309/CA/Contra-Costa-County', 'https://www.redfin.com/county/309/CA/Contra-Costa-County/page-2', 'https://www.redfin.com/county/309/CA/Contra-Costa-County/page-3', 'https://www.redfin.com/county/309/CA/Contra-Costa-County/page-4', 'https://www.redfin.com/county/309/CA/Contra-Costa-County/page-5', 'https://www.redfin.com/county/309/CA/Contra-Costa-County/page-6', 'https://www.redfin.com/county/309/CA/Contra-Costa-County/page-7', 'https://www.redfin.com/county/309/CA/Contra-Costa-County/page-8', 'https://www.redfin.com/county/309/CA/Contra-Costa-County/page-9', 'https://www.redfin.com/county/309/CA/Contra-Costa-County/page-10', 'https://www.redfin.com/county/309/CA/Contra-Costa-County/page-11', 'https://www.redfin.com/county/309/CA/Contra-Costa-County/page-12', 'https://www.redfin.com/county/309/CA/Contra-Costa-County/page-13', 'https://www.redfin.com/county/309/CA/Contra-Costa-County/page-14']\n"
     ]
    }
   ],
   "source": [
    "req_county_link =[]\n",
    "\n",
    "for link in req_county_lst:\n",
    "    req_county_link.append(link)\n",
    "    for i in range(2,15):\n",
    "        req_county_link.append(link + '/page-' + str(i))\n",
    "print(len(req_county_link))        \n",
    "print(req_county_link)  "
   ]
  },
  {
   "cell_type": "code",
   "execution_count": 13,
   "id": "176d862c",
   "metadata": {},
   "outputs": [
    {
     "name": "stdout",
     "output_type": "stream",
     "text": [
      "4\n",
      "defaultdict(<class 'set'>, {'Contra-Costa-County': {'https://www.redfin.com/CA/Clayton/1701-Trail-Ride-Rd-94517/home/167202213', 'https://www.redfin.com/CA/Richmond/6217-Bernhard-Ave-94805/home/1751430', 'https://www.redfin.com/CA/Walnut-Creek/203-Mayhew-Way-94597/home/799163', 'https://www.redfin.com/CA/Richmond/164-Lakeshore-Ct-94804/home/12128738', 'https://www.redfin.com/CA/Richmond/6151-Plymouth-Ave-94805/home/23155214', 'https://www.redfin.com/CA/Discovery-Bay/1727-Newport-Dr-94505/home/1864700', 'https://www.redfin.com/CA/Walnut-Creek/3041-Grey-Eagle-Dr-94595/home/167237090', 'https://www.redfin.com/CA/Concord/3112-Mt-Diablo-St-94518/home/1853806', 'https://www.redfin.com/CA/Brentwood/168-Davidson-Ct-94513/home/1633336', 'https://www.redfin.com/CA/Clayton/35-Eastbrook-Ct-94517/home/716494', 'https://www.redfin.com/CA/Discovery-Bay/4093-S-Anchor-Ct-94505/home/1551230', 'https://www.redfin.com/CA/Pittsburg/265-Balsam-St-94565/home/23317169', 'https://www.redfin.com/CA/Walnut-Creek/2029-Ptarmigan-Dr-94595/unit-1/home/167235362', 'https://www.redfin.com/CA/Pleasant-Hill/708-Poppy-Pl-94523/home/1856415', 'https://www.redfin.com/CA/Oakley/43-Sugarbush-Ct-94561/home/40090461', 'https://www.redfin.com/CA/Danville/24-Way-Points-Rd-94526/home/1762237', 'https://www.redfin.com/CA/San-Ramon/3021-Oakham-Dr-94583/home/1371031', 'https://www.redfin.com/CA/Concord/1820-William-Way-94520/home/1729706', 'https://www.redfin.com/CA/Pittsburg/17-Aubergine-Ct-94565/home/23328849', 'https://www.redfin.com/CA/Bay-Point/172-Shore-Rd-94565/home/1675093', 'https://www.redfin.com/CA/Moraga/92-Warfield-Dr-94556/home/1775206', 'https://www.redfin.com/CA/Walnut-Creek/5-Liberty-Ln-94597/home/1541327', 'https://www.redfin.com/CA/Moraga/144-Ascot-Ct-94556/unit-3/home/1986380', 'https://www.redfin.com/CA/Walnut-Creek/187-Lancaster-Rd-94595/home/770342', 'https://www.redfin.com/CA/Oakley/5437-Piper-Ln-94561/home/968934', 'https://www.redfin.com/CA/Antioch/4587-Donegal-Way-94531/home/23129453', 'https://www.redfin.com/CA/Discovery-Bay/6950-New-Melones-Cir-94505/home/8191076', 'https://www.redfin.com/CA/Pacheco/1230-Temple-Dr-94553/home/1730654', 'https://www.redfin.com/CA/Antioch/3025-Aldrich-St-94531/home/23420461', 'https://www.redfin.com/CA/Walnut-Creek/849-Savannah-Cir-94598/home/1893955', 'https://www.redfin.com/CA/Walnut-Creek/707-Autumn-Dr-94598/home/1525418', 'https://www.redfin.com/CA/Antioch/2005-San-Jose-Dr-94509/unit-237/home/12127304', 'https://www.redfin.com/CA/Richmond/2163-La-Mirada-Dr-94803/home/1658027', 'https://www.redfin.com/CA/Walnut-Creek/111-Kelobra-Ct-94598/home/973609', 'https://www.redfin.com/CA/Brentwood/2532-Winged-Foot-Rd-94513/home/23401897', 'https://www.redfin.com/CA/Antioch/4420-Belvedere-Way-94509/home/1893292', 'https://www.redfin.com/CA/Oakley/305-Orso-WAY-94561/home/181065969', 'https://www.redfin.com/CA/Antioch/5199-Ramsdell-Ct-94531/home/1873375', 'https://www.redfin.com/CA/San-Ramon/3482-Cinnamon-Ridge-Rd-94582/home/56909179', 'https://www.redfin.com/CA/Hercules/290-Carson-St-94547/home/1890065', 'https://www.redfin.com/CA/El-Cerrito/1570-Regency-Ct-94530/home/23127952', 'https://www.redfin.com/CA/Richmond/3129-Jo-Ann-Dr-94806/home/1107944', 'https://www.redfin.com/CA/Richmond/960-7th-St-94801/home/1288732', 'https://www.redfin.com/CA/Concord/3424-Esperanza-Dr-94519/home/1044405', 'https://www.redfin.com/CA/Antioch/2412-Hooftrail-Way-94531/home/1437271', 'https://www.redfin.com/CA/Danville/145-Burgess-Ct-94526/home/1597811', 'https://www.redfin.com/CA/Walnut-Creek/1564-Sunnyvale-Ave-94597/unit-6/home/847613', 'https://www.redfin.com/CA/Concord/5460-Concord-Blvd-94521/unit-B2/home/1691692', 'https://www.redfin.com/CA/Walnut-Creek/2712-Oak-Rd-94597/unit-59/home/856650', 'https://www.redfin.com/CA/San-Ramon/400-Oahu-Ct-94582/home/1696406', 'https://www.redfin.com/CA/Walnut-Creek/2641-Brian-Ranch-Ct-94598/home/181901029', 'https://www.redfin.com/CA/Concord/4081-Clayton-Rd-94521/unit-136/home/602671', 'https://www.redfin.com/CA/Antioch/3037-Butternut-St-94509/home/1909069', 'https://www.redfin.com/CA/Brentwood/627-Ray-Ct-94513/home/23125009', 'https://www.redfin.com/CA/Orinda/151-Canon-Dr-94563/home/1025858', 'https://www.redfin.com/CA/El-Sobrante/820-N-Rancho-Rd-94803/home/1124379', 'https://www.redfin.com/CA/Walnut-Creek/1180-Sebastian-Ln-94598/home/1423854', 'https://www.redfin.com/CA/Antioch/2109-Kendree-St-94509/home/822712', 'https://www.redfin.com/CA/Concord/3407-El-Monte-Dr-94519/home/693485', 'https://www.redfin.com/CA/Pinole/1222-Oak-Hill-Ct-94564/home/1071156', 'https://www.redfin.com/CA/Discovery-Bay/2023-Sand-Point-Rd-94505/home/986978', 'https://www.redfin.com/CA/Walnut-Creek/1200-Canyonwood-Ct-94595/unit-6/home/1202651', 'https://www.redfin.com/CA/Bay-Point/6-Lancaster-Cir-94565/unit-212/home/167206498', 'https://www.redfin.com/CA/Antioch/1230-Simmons-St-94509/home/1768377', 'https://www.redfin.com/CA/Hercules/175-Newbury-St-94547/home/545944', 'https://www.redfin.com/CA/Antioch/5413-Southwood-Way-94531/home/1820368', 'https://www.redfin.com/CA/Moraga/1800-Donald-Dr-94556/home/23292642', 'https://www.redfin.com/CA/Pleasant-Hill/761-Grayson-Rd-94523/home/1441246', 'https://www.redfin.com/CA/Richmond/1705-Chanslor-Ave-94801/home/1658971', 'https://www.redfin.com/CA/Concord/5555-Michigan-Blvd-94521/home/1718405', 'https://www.redfin.com/CA/Discovery-Bay/4105-Windward-Ct-94505/home/1738459', 'https://www.redfin.com/CA/Martinez/20-Emshee-Ln-94553/home/12124561', 'https://www.redfin.com/CA/Concord/92-A-St-94520/unit-92/home/182023668', 'https://www.redfin.com/CA/Brentwood/712-Marjoram-Dr-94513/home/12121439', 'https://www.redfin.com/CA/Walnut-Creek/1233-Skycrest-Dr-94595/unit-2/home/167232967', 'https://www.redfin.com/CA/Pittsburg/3210-Cortina-Dr-94565/home/181819393', 'https://www.redfin.com/CA/RICHMOND/WILLARD-AVE-94801/home/23341634', 'https://www.redfin.com/CA/Antioch/44-Bryan-Ave-94509/home/602909', 'https://www.redfin.com/CA/Concord/2150-Northwood-Cir-94520/unit-B/home/685076', 'https://www.redfin.com/CA/Discovery-Bay/6152-Seneca-Cir-94505/home/2106879', 'https://www.redfin.com/CA/Concord/1252-Detroit-Ave-94520/unit-5/home/145166446', 'https://www.redfin.com/CA/Pleasant-Hill/1020-Santa-Monica-Ct-94523/home/1875737', 'https://www.redfin.com/CA/Alamo/335-Lakeview-Pl-94507/home/1562293', 'https://www.redfin.com/CA/Pleasant-Hill/10-Kilgo-Ct-94523/home/1455137', 'https://www.redfin.com/CA/Antioch/5599-Saddle-Rock-Ln-94531/home/181265506', 'https://www.redfin.com/CA/Pleasant-Hill/1782-Douglas-Ter-94523/home/812168', 'https://www.redfin.com/CA/Pleasant-Hill/1948-Ardith-Dr-94523/home/806533', 'https://www.redfin.com/CA/Pittsburg/1734-Bridlewood-Dr-94565/home/2102218', 'https://www.redfin.com/CA/Discovery-Bay/5633-Drakes-Dr-94505/home/1550986', 'https://www.redfin.com/CA/Antioch/2405-Shadow-Ln-94509/unit-87/home/1228933', 'https://www.redfin.com/CA/Antioch/5132-Carriage-Way-94531/home/1715950', 'https://www.redfin.com/CA/Danville/501-Garden-Creek-Pl-94526/home/917116', 'https://www.redfin.com/CA/Concord/3586-Skylark-Dr-94520/home/683240', 'https://www.redfin.com/CA/Walnut-Creek/181-Alegra-Ln-94598/home/1856069', 'https://www.redfin.com/CA/Discovery-Bay/6887-New-Melones-Cir-94505/home/2106283', 'https://www.redfin.com/CA/Brentwood/687-Stewart-Way-94513/home/840071', 'https://www.redfin.com/CA/El-Cerrito/444-Richmond-St-94530/home/23109678', 'https://www.redfin.com/CA/Antioch/Undisclosed-address-94509/home/1927584', 'https://www.redfin.com/CA/Pittsburg/3131-La-Corona-Dr-94565/home/174559486', 'https://www.redfin.com/CA/Concord/4260-Clayton-Rd-94521/unit-72/home/863388', 'https://www.redfin.com/CA/Orinda/26-Descanso-Dr-94563/home/1037397', 'https://www.redfin.com/CA/Danville/117-Julia-Lp-94506/home/168815998', 'https://www.redfin.com/CA/Antioch/1316-Wisner-Dr-94509/home/1591676', 'https://www.redfin.com/CA/Antioch/5583-Saddle-Rock-Ln-94531/home/181265510', 'https://www.redfin.com/CA/Danville/10-Ross-Ct-94526/home/12124569', 'https://www.redfin.com/CA/Pinole/2786-Clark-Ct-94564/home/1045035', 'https://www.redfin.com/CA/Antioch/1618-Wisner-Dr-94509/home/598155', 'https://www.redfin.com/CA/Walnut-Creek/1958-Amesbury-Ct-94596/home/1541753', 'https://www.redfin.com/CA/Walnut-Creek/1109-Rockledge-Ln-94595/unit-9/home/1255373', 'https://www.redfin.com/CA/Brentwood/327-Upton-Pyne-Dr-94513/home/535763', 'https://www.redfin.com/CA/Walnut-Creek/211-Saranap-Ave-94595/home/879852', 'https://www.redfin.com/CA/Concord/1036-Oak-Grove-Rd-94518/unit-108/home/1352773', 'https://www.redfin.com/CA/Oakley/4710-Fuschia-Way-94561/home/142977729', 'https://www.redfin.com/CA/Antioch/5012-Perry-Way-94531/home/1842214', 'https://www.redfin.com/CA/Antioch/5321-Woodside-Way-94531/home/1673851', 'https://www.redfin.com/CA/BETHEL-ISLAND/GATEWAY-RD-94511/home/1477743', 'https://www.redfin.com/CA/Oakley/123-Francisco-Villa-Dr-94561/home/1673508', 'https://www.redfin.com/CA/Antioch/5235-Feather-Way-94531/home/1891748', 'https://www.redfin.com/CA/San-Pablo/1250-Sanford-Ave-94806/home/1532972', 'https://www.redfin.com/CA/Antioch/4605-Knollpark-Cir-94531/home/593603', 'https://www.redfin.com/CA/Danville/926-Richard-Ln-94526/home/1646181', 'https://www.redfin.com/CA/Oakley/4651-Winchester-Dr-94561/home/984617', 'https://www.redfin.com/CA/Walnut-Creek/5593-Terra-Granada-Dr-94595/unit-4B/home/167236729', 'https://www.redfin.com/CA/Richmond/339-42nd-St-94805/home/1964436', 'https://www.redfin.com/CA/San-Ramon/158-Madelia-Pl-94583/home/945735', 'https://www.redfin.com/CA/Orinda/18-Lavenida-Dr-94563/home/1572609', 'https://www.redfin.com/CA/Antioch/4735-Koala-Ct-94531/home/1874073', 'https://www.redfin.com/CA/Pittsburg/2044-Cardiff-Dr-94565/home/623408', 'https://www.redfin.com/CA/Pinole/1789-Sarah-Dr-94564/home/1751608', 'https://www.redfin.com/CA/Antioch/5204-Grass-Valley-Way-94531/home/988850', 'https://www.redfin.com/CA/San-Ramon/148-Eastridge-Dr-94582/home/1845213', 'https://www.redfin.com/CA/Pacheco/1171-Raymond-Dr-94553/home/1197713', 'https://www.redfin.com/CA/Alamo/2211-Granite-Dr-94507/home/1612633', 'https://www.redfin.com/CA/Brentwood/1881-Ogden-Pl-94513/home/1562644', 'https://www.redfin.com/CA/San-Ramon/32-Winterwind-Ct-94583/home/1028327', 'https://www.redfin.com/CA/Brentwood/931-Suntan-Ln-94513/home/1980994', 'https://www.redfin.com/CA/Concord/2278-St-George-Dr-94520/home/1499793', 'https://www.redfin.com/CA/Bay-Point/267-Summerfield-Dr-94565/home/167205704', 'https://www.redfin.com/CA/Richmond/1649-Aqua-Vista-Rd-94805/home/1166288', 'https://www.redfin.com/CA/Discovery-Bay/6262-Crystal-Springs-Cir-94505/home/2106866', 'https://www.redfin.com/CA/Pittsburg/142-Halsey-Way-94565/home/56908994', 'https://www.redfin.com/CA/Antioch/1212-Oak-Haven-Way-94531/home/1077631', 'https://www.redfin.com/CA/Walnut-Creek/332-Castle-Rock-Rd-94598/home/1552426', 'https://www.redfin.com/CA/Pleasant-Hill/122-Southwind-Dr-94523/home/1468224', 'https://www.redfin.com/CA/Lafayette/914-Brown-Ave-94549/home/182031832', 'https://www.redfin.com/CA/El-Sobrante/12-N-Rancho-Ct-94803/home/1955937', 'https://www.redfin.com/CA/Richmond/3106-Moyers-Rd-94806/home/1463478', 'https://www.redfin.com/CA/San-Ramon/1351-Canyon-Side-Ave-94582/home/964538', 'https://www.redfin.com/CA/Brentwood/300-Chestnut-St-94513/home/1096841', 'https://www.redfin.com/CA/Pinole/2160-Shea-Dr-94564/home/1827396', 'https://www.redfin.com/CA/San-Ramon/1064-Vista-Pointe-Cir-94582/home/1787699', 'https://www.redfin.com/CA/Discovery-Bay/9833-W-Way-94505/home/52205558', 'https://www.redfin.com/CA/Lafayette/526-Florence-Dr-94549/home/1889593', 'https://www.redfin.com/CA/Lafayette/630-Francis-Dr-94549/home/1719798', 'https://www.redfin.com/CA/El-Sobrante/24-Valley-View-Ct-94803/home/1790605', 'https://www.redfin.com/CA/Richmond/5222-Heavenly-Ridge-Ln-94803/home/1546512', 'https://www.redfin.com/CA/Concord/1788-Landana-Dr-94519/home/713628', 'https://www.redfin.com/CA/San-Ramon/1-Dogwood-Ct-94583/home/737599', 'https://www.redfin.com/CA/Martinez/1475-Beech-St-94553/home/573139', 'https://www.redfin.com/CA/Concord/733-Daffodil-Way-94518/home/1182273', 'https://www.redfin.com/CA/Pittsburg/153-Shannon-94565/home/1161166', 'https://www.redfin.com/CA/Antioch/4867-Cushendall-Way-94531/home/2104490', 'https://www.redfin.com/CA/Moraga/260-Corliss-Dr-94556/home/832983', 'https://www.redfin.com/CA/Danville/664-Dolphin-Dr-94526/home/1280851', 'https://www.redfin.com/CA/Oakley/1274-Fetzer-Ln-94561/home/1551775', 'https://www.redfin.com/CA/Rodeo/91-Bonita-Pl-94572/home/628972', 'https://www.redfin.com/CA/Discovery-Bay/6356-Crystal-Springs-Cir-94505/home/2106844', 'https://www.redfin.com/CA/Oakley/235-Spindrift-Ct-94561/home/559719', 'https://www.redfin.com/CA/Antioch/2808-Wildflower-Dr-94531/home/1907779', 'https://www.redfin.com/CA/Lafayette/1842-Reliez-Valley-Rd-94549/home/898317', 'https://www.redfin.com/CA/Antioch/917-Clay-Ct-94509/home/1007605', 'https://www.redfin.com/CA/Walnut-Creek/1251-Homestead-Ave-94598/unit-143/home/1823631', 'https://www.redfin.com/CA/Brentwood/752-Campanello-Way-94513/home/1891865', 'https://www.redfin.com/CA/Lafayette/6-Tofflemire-Dr-94549/home/1000326', 'https://www.redfin.com/CA/Oakley/152-Hill-Ave-94561/home/113735868', 'https://www.redfin.com/CA/Antioch/3852-Rockford-Dr-94509/home/784769', 'https://www.redfin.com/CA/El-Cerrito/2620-Tassajara-Ave-94530/home/1765741', 'https://www.redfin.com/CA/Danville/419-Oneida-Ct-94526/home/1906486', 'https://www.redfin.com/CA/Oakley/4616-Salvador-Ln-94561/home/1141945', 'https://www.redfin.com/CA/Alamo/1624-Campesino-Ct-94507/home/12110907', 'https://www.redfin.com/CA/Antioch/5475-Alvar-Lp-94531/home/168807168', 'https://www.redfin.com/CA/Richmond/719-Elm-Ave-94801/home/1702596', 'https://www.redfin.com/CA/Walnut-Creek/1315-Alma-Ave-94596/unit-354/home/2109149', 'https://www.redfin.com/CA/Walnut-Creek/2096-Vanderslice-Ave-94596/home/568268', 'https://www.redfin.com/CA/Discovery-Bay/9530-Pescadero-Cir-94505/home/23104260', 'https://www.redfin.com/CA/Danville/1922-Rancho-Verde-Cir-E-94526/home/985067', 'https://www.redfin.com/CA/Orinda/619-Watchwood-Rd-94563/home/1471779', 'https://www.redfin.com/CA/Pittsburg/2144-Rain-Drop-Cir-94565/home/665087', 'https://www.redfin.com/CA/Richmond/6221-Plymouth-Ave-94805/home/1165684', 'https://www.redfin.com/CA/Pittsburg/93-La-Habra-94565/home/1194008', 'https://www.redfin.com/CA/Brentwood/1349-Downie-Point-Dr-94513/home/1245208', 'https://www.redfin.com/CA/Brentwood/209-Alta-St-94513/home/95952209', 'https://www.redfin.com/CA/Bay-Point/1063-St-Raphael-Dr-94565/home/1920127', 'https://www.redfin.com/CA/Moraga/100-Corliss-Dr-94556/home/869092', 'https://www.redfin.com/CA/Brentwood/390-Surrey-Way-94513/home/1918670', 'https://www.redfin.com/CA/Brentwood/1109-Mill-Creek-Way-94513/home/1006029', 'https://www.redfin.com/CA/Antioch/5082-Hansen-Dr-94531/home/587056', 'https://www.redfin.com/CA/Pittsburg/49-Manville-Ave-94565/home/648067', 'https://www.redfin.com/CA/Discovery-Bay/636-Mystic-Ct-94505/home/17167388', 'https://www.redfin.com/CA/Orinda/1000-Fish-Ranch-Rd-94563/home/686323', 'https://www.redfin.com/CA/Discovery-Bay/7336-Bay-Harbor-Way-94505/home/23129889', 'https://www.redfin.com/CA/Pittsburg/153-E-Trident-Dr-94565/home/662257', 'https://www.redfin.com/CA/Orinda/183-Canon-Dr-94563/home/1859464', 'https://www.redfin.com/CA/Bethel-Island/3669-Porter-Cir-94511/unit-98/home/181820592', 'https://www.redfin.com/CA/Richmond/4639-Cutting-Blvd-94804/home/1934487', 'https://www.redfin.com/CA/Richmond/220-S-6th-St-94804/home/11893896', 'https://www.redfin.com/CA/San-Ramon/406-S-Overlook-Dr-94582/home/2109408', 'https://www.redfin.com/CA/San-Ramon/211-Cullens-Ct-94582/home/23319734', 'https://www.redfin.com/CA/Oakley/876-Diamante-Way-94561/home/182009951', 'https://www.redfin.com/CA/Orinda/58-E-Altarinda-Dr-94563/home/1022369', 'https://www.redfin.com/CA/Lafayette/3015-Bradbury-Dr-94549/home/1896296', 'https://www.redfin.com/CA/Antioch/132-Rainier-Ln-94509/home/1420327', 'https://www.redfin.com/CA/Walnut-Creek/289-Lombardi-Cir-94598/home/1640888', 'https://www.redfin.com/CA/Pittsburg/1202-Jewett-Ave-94565/home/1537998', 'https://www.redfin.com/CA/Hercules/220-Pepperwood-St-94547/home/1326699', 'https://www.redfin.com/CA/Richmond/3449-Stewarton-Dr-94803/home/1519888', 'https://www.redfin.com/CA/Moraga/22-Lance-Ct-94556/home/1189055', 'https://www.redfin.com/CA/Oakley/1811-Hemlock-Dr-94561/home/562620', 'https://www.redfin.com/CA/Brentwood/2785-St-Andrews-Dr-94513/home/23343536', 'https://www.redfin.com/CA/Danville/206-Woodvalley-Pl-94506/home/1049425', 'https://www.redfin.com/CA/Richmond/239-Shoreline-Ct-94804/home/12128702', 'https://www.redfin.com/CA/El-Sobrante/4556-Appian-Way-94803/unit-4/home/182071371', 'https://www.redfin.com/CA/Antioch/3808-Rockford-Dr-94509/home/618464', 'https://www.redfin.com/CA/Clayton/16711-Marsh-Creek-Rd-94517/unit-99/home/168832146', 'https://www.redfin.com/CA/El-Cerrito/1024-Leneve-Pl-94530/home/1055949', 'https://www.redfin.com/CA/Richmond/17-S-45th-St-94804/home/1964331', 'https://www.redfin.com/CA/RODEO/1044-VIEWPOINT-BLVD-94572/home/1043434', 'https://www.redfin.com/CA/Brentwood/508-Encore-Way-94513/home/1850232', 'https://www.redfin.com/CA/Pittsburg/3222-Cortina-Dr-94565/home/182051114', 'https://www.redfin.com/CA/Pittsburg/203-Heron-Dr-94565/home/1578848', 'https://www.redfin.com/CA/Oakley/717-Delaney-Pkwy-94561/home/168805202', 'https://www.redfin.com/CA/Concord/2255-Rockne-Dr-94518/home/825623', 'https://www.redfin.com/CA/Antioch/2016-Mangrove-Way-94509/home/1862874', 'https://www.redfin.com/CA/Alamo/51-Stonecastle-Dr-94507/home/1679626', 'https://www.redfin.com/CA/Walnut-Creek/1983-Olmo-Way-94598/home/1394283', 'https://www.redfin.com/CA/Brentwood/1600-Meritage-Lp-94513/home/142977889', 'https://www.redfin.com/CA/Berkeley/515-Woodmont-Ave-94708/home/703535', 'https://www.redfin.com/CA/Concord/5327-Grasswood-Cir-94521/home/1894477', 'https://www.redfin.com/CA/Concord/3605-Northwood-Dr-94520/unit-A/home/684542', 'https://www.redfin.com/CA/Martinez/302-Warren-St-94553/home/1205205', 'https://www.redfin.com/CA/Brentwood/451-Effie-Ct-94513/home/23133669', 'https://www.redfin.com/CA/Danville/687-Sheri-Ln-94526/home/1583590', 'https://www.redfin.com/CA/Bay-Point/4-Lancaster-Cir-94565/unit-104/home/167206505', 'https://www.redfin.com/CA/Danville/1055-Lehigh-Valley-Cir-94526/home/934317', 'https://www.redfin.com/CA/Walnut-Creek/1405-Marchbanks-Dr-94598/unit-3/home/1396987', 'https://www.redfin.com/CA/Pittsburg/157-Riverview-Dr-94565/home/1927675', 'https://www.redfin.com/CA/Moraga/55-Sanders-Ranch-Rd-94556/home/1572347', 'https://www.redfin.com/CA/Brentwood/1816-Moscato-Pl-94513/home/56908249', 'https://www.redfin.com/CA/Brentwood/3410-Concord-Ave-94513/home/17171145', 'https://www.redfin.com/CA/Moraga/36-Greenfield-Dr-94556/home/1126371', 'https://www.redfin.com/CA/Danville/61-Summer-Hill-Ct-94526/home/607774', 'https://www.redfin.com/CA/Oakley/306-Orso-WAY-94561/home/182072962', 'https://www.redfin.com/CA/Pittsburg/2924-Hanauma-Bay-Dr-94565/home/167207839', 'https://www.redfin.com/CA/Antioch/618-W-Fourteenth-St-94509/home/1316574', 'https://www.redfin.com/CA/Pittsburg/3799-Harbor-St-94565/home/654599', 'https://www.redfin.com/CA/Concord/1319-Perth-Ct-94521/home/1742967', 'https://www.redfin.com/CA/Lafayette/21-Samantha-Dr-94549/home/2107541', 'https://www.redfin.com/CA/Oakley/60-Wisteria-Ct-94561/home/1035939', 'https://www.redfin.com/CA/Pittsburg/324-Houser-Dr-94565/home/1982533', 'https://www.redfin.com/CA/Pleasant-Hill/754-Ruth-Dr-94523/home/1456512', 'https://www.redfin.com/CA/San-Ramon/3053-Blackberry-Ave-94582/home/142979302', 'https://www.redfin.com/CA/Pleasanton/5745-Old-School-Rd-94588/home/17170582', 'https://www.redfin.com/CA/Martinez/4810-Blum-Rd-94553/unit-2/home/1025028', 'https://www.redfin.com/CA/Walnut-Creek/124-Kingsdale-Dr-94596/home/1679429', 'https://www.redfin.com/CA/San-Ramon/160-Eastridge-Dr-94582/home/1366216', 'https://www.redfin.com/CA/Clayton/1165-Moccasin-Ct-94517/home/1637626', 'https://www.redfin.com/CA/Antioch/5069-Tehachapi-Way-94531/home/1928027', 'https://www.redfin.com/CA/Martinez/2254-Hidden-Lakes-Ct-94553/home/826131', 'https://www.redfin.com/CA/Pittsburg/1107-Brooktrail-Dr-94565/home/167207182', 'https://www.redfin.com/CA/Antioch/3511-Dameron-Pl-94509/home/1852295', 'https://www.redfin.com/CA/Concord/1764-Roxbury-Dr-94519/home/693537', 'https://www.redfin.com/CA/Pittsburg/23-Santa-Lucia-Ct-94565/home/167203558', 'https://www.redfin.com/CA/Antioch/5348-Ramona-Valley-Ln-94531/home/181265496', 'https://www.redfin.com/CA/Dublin/7583-Carlow-Way-94568/home/1770554', 'https://www.redfin.com/CA/San-Ramon/3246-Ensenada-Dr-94583/home/1642270', 'https://www.redfin.com/CA/Dublin/8919-San-Ramon-Rd-94568/home/182015157', 'https://www.redfin.com/CA/Martinez/867-Sage-Dr-94553/home/1888075', 'https://www.redfin.com/CA/Concord/Undisclosed-address-94520/home/1255334', 'https://www.redfin.com/CA/Lafayette/13-Shreve-Ln-94549/home/45519414', 'https://www.redfin.com/CA/Danville/43-Pulido-Ct-94526/home/1612881', 'https://www.redfin.com/CA/Oakley/544-Vanek-Dr-94561/home/179992044', 'https://www.redfin.com/CA/Antioch/904-Glade-Ct-94509/home/619206', 'https://www.redfin.com/CA/Brentwood/1738-Veneto-Ln-94513/home/56908573', 'https://www.redfin.com/CA/Orinda/205-Village-Gate-Rd-94563/home/1708648', 'https://www.redfin.com/CA/Richmond/3200-Rheem-Ave-94804/home/1171547', 'https://www.redfin.com/CA/Walnut-Creek/1945-Trinity-Ave-94596/unit-1/home/1896258', 'https://www.redfin.com/CA/San-Pablo/2957-Rollingwood-Dr-94806/home/1108628', 'https://www.redfin.com/CA/Alamo/2537-Rolling-Hills-Ct-94507/home/904836', 'https://www.redfin.com/CA/Orinda/109-Sleepy-Hollow-Ln-94563/home/1670360', 'https://www.redfin.com/CA/Pittsburg/8-Del-Rio-94565/home/1635108', 'https://www.redfin.com/CA/Lafayette/4006-Woodside-Ct-94549/home/852451', 'https://www.redfin.com/CA/Pacheco/344-Via-Peralta-94553/unit-41/home/181865077', 'https://www.redfin.com/CA/Oakland/6701-Elverton-Dr-94611/home/1413626', 'https://www.redfin.com/CA/Walnut-Creek/1138-Skycrest-Dr-94595/unit-6/home/800041', 'https://www.redfin.com/CA/Walnut-Creek/1624-Golden-Rain-Rd-94595/unit-2/home/1602539', 'https://www.redfin.com/CA/San-Ramon/304-Shady-Valley-Ct-94582/home/1322131', 'https://www.redfin.com/CA/Danville/126-Whispering-Trees-Ln-94526/home/1484701', 'https://www.redfin.com/CA/Oakley/5062-Sandmound-Blvd-94561/home/1358275', 'https://www.redfin.com/CA/Brentwood/562-Mandevilla-Dr-94513/home/105540946', 'https://www.redfin.com/CA/Oakley/629-Copper-Ridge-Way-94561/home/168805400', 'https://www.redfin.com/CA/Martinez/4551-Alhambra-Way-94553/home/182068514', 'https://www.redfin.com/CA/Antioch/3136-Hemlock-St-94509/home/1420691', 'https://www.redfin.com/CA/Walnut-Creek/681-Terra-California-Dr-94595/unit-3/home/167233752', 'https://www.redfin.com/CA/Danville/696-Brookside-Dr-94526/home/1870176', 'https://www.redfin.com/CA/Bay-Point/Undisclosed-address-94565/home/713288', 'https://www.redfin.com/CA/Clayton/4725-Morgan-Territory-Rd-94517/home/642273', 'https://www.redfin.com/CA/Pleasant-Hill/220-Briaridge-Ct-94523/home/1642542', 'https://www.redfin.com/CA/Lafayette/902-Brown-Ave-94549/home/182031124', 'https://www.redfin.com/CA/Richmond/358-S-23rd-St-94804/home/1314518', 'https://www.redfin.com/CA/El-Cerrito/7746-Curry-Ave-94530/home/1925796', 'https://www.redfin.com/CA/Walnut-Creek/40-Iris-Ln-94595/home/1355348', 'https://www.redfin.com/CA/Danville/5408-Blackhawk-Dr-94506/home/1414549', 'https://www.redfin.com/CA/Danville/817-Maldon-Ct-94506/home/12123110', 'https://www.redfin.com/CA/Oakland/8317-Skyline-Blvd-94611/home/1892162', 'https://www.redfin.com/CA/Pittsburg/178-Sunset-Way-94565/home/176125319', 'https://www.redfin.com/CA/Walnut-Creek/2637-Brian-Ranch-Ct-94598/home/181900076', 'https://www.redfin.com/CA/Antioch/5108-Adriana-Ct-94531/home/747458', 'https://www.redfin.com/CA/Rodeo/1077-Seascape-Cir-94572/home/1043343', 'https://www.redfin.com/CA/Pacheco/161-Ironwood-Dr-94553/home/732506', 'https://www.redfin.com/CA/RICHMOND/BUENA-VISTA-AVE-94801/home/23102493', 'https://www.redfin.com/CA/Oakley/50-Fuschia-Ct-94561/home/181449305', 'https://www.redfin.com/CA/Antioch/4512-Deer-Ridge-Way-94531/home/584375', 'https://www.redfin.com/CA/Martinez/3100-Castro-St-94553/home/18542890', 'https://www.redfin.com/CA/Antioch/1831-Venice-Ln-94509/unit-1831/home/182055372', 'https://www.redfin.com/CA/Kensington/249-Stanford-Ave-94708/home/1943855', 'https://www.redfin.com/CA/Walnut-Creek/2304-Ptarmigan-Dr-94595/unit-2/home/167235270', 'https://www.redfin.com/CA/Pittsburg/335-Bay-Crest-Dr-94565/home/658836', 'https://www.redfin.com/CA/Discovery-Bay/5640-Beaver-Ln-94505/home/656044', 'https://www.redfin.com/CA/El-Cerrito/5401-Macdonald-Ave-94530/home/1299798', 'https://www.redfin.com/CA/San-Pablo/209-Carmel-St-94806/home/2106655', 'https://www.redfin.com/CA/Danville/5980-Camino-Tassajara-94506/home/182051116', 'https://www.redfin.com/CA/Richmond/3606-Stoneglen-S-94806/home/1724133', 'https://www.redfin.com/CA/Concord/1247-Pine-Creek-Way-94520/unit-B/home/744813', 'https://www.redfin.com/CA/Richmond/1205-Melville-Sq-94804/unit-307/home/1926430', 'https://www.redfin.com/CA/Danville/4121-Fox-Creek-Ct-94506/home/720666', 'https://www.redfin.com/CA/Walnut-Creek/3170-Lippizaner-Ln-94598/home/1023576', 'https://www.redfin.com/CA/Discovery-Bay/3366-Lookout-Point-Loop-94505/home/2101836', 'https://www.redfin.com/CA/Antioch/4561-Mendota-Way-94531/home/1520904', 'https://www.redfin.com/CA/Orinda/40-Via-Floreado-94563/home/1108201', 'https://www.redfin.com/CA/Lafayette/607-Laird-Ln-94549/home/865533', 'https://www.redfin.com/CA/Pittsburg/74-Meadowbrook-Ave-94565/home/1437633', 'https://www.redfin.com/CA/Concord/1836-Enclave-Pl-94519/home/52205622', 'https://www.redfin.com/CA/Antioch/5201-Feather-Way-94531/home/1820361', 'https://www.redfin.com/CA/Walnut-Creek/449-La-Casa-Via-94598/home/779134', 'https://www.redfin.com/CA/Walnut-Creek/1035-Northoak-Dr-94598/home/1921671', 'https://www.redfin.com/CA/Brentwood/463-Portsmouth-Dr-94513/home/23392771', 'https://www.redfin.com/CA/Richmond/3813-Jenkins-Way-94806/home/1888484', 'https://www.redfin.com/CA/San-Ramon/6104-Hedgecrest-Cir-94582/home/811931', 'https://www.redfin.com/CA/Pleasant-Hill/111-Hubbard-Ave-94523/home/1456304', 'https://www.redfin.com/CA/Antioch/3112-Elizabeth-Ln-94509/home/1769031', 'https://www.redfin.com/CA/Discovery-Bay/1570-Trawler-St-94505/home/1965180', 'https://www.redfin.com/CA/Lafayette/922-Brown-Ave-94549/home/181975608', 'https://www.redfin.com/CA/Concord/2124-Athene-Dr-94519/home/686580', 'https://www.redfin.com/CA/Richmond/43-Collins-Ct-94801/home/1292059', 'https://www.redfin.com/CA/Antioch/5127-Domengine-Way-94531/home/1209643', 'https://www.redfin.com/CA/Pinole/3472-Savage-Ave-94564/home/1572794', 'https://www.redfin.com/CA/Hercules/100-Camden-Ln-94547/home/1535454', 'https://www.redfin.com/CA/San-Pablo/2433-Fisher-St-94806/home/1644485', 'https://www.redfin.com/CA/Richmond/2619-McBryde-Ave-94804/home/1171043', 'https://www.redfin.com/CA/Lafayette/1038-Leland-Dr-94549/home/1939814', 'https://www.redfin.com/CA/Walnut-Creek/3183-Wayside-Plz-94597/unit-307/home/1567114', 'https://www.redfin.com/CA/Concord/4081-Clayton-Rd-94521/unit-239/home/706902', 'https://www.redfin.com/CA/Richmond/960-37th-St-94805/home/1370792', 'https://www.redfin.com/CA/San-Ramon/320-Eastridge-Dr-94582/home/594795', 'https://www.redfin.com/CA/Concord/1872-Queens-Rd-94519/home/695442', 'https://www.redfin.com/CA/Lafayette/1129-Brown-Ave-94549/home/1366858', 'https://www.redfin.com/CA/San-Ramon/745-Watson-Canyon-Ct-94582/unit-326/home/1366224', 'https://www.redfin.com/CA/Pittsburg/2214-Westgate-Dr-94565/home/651241', 'https://www.redfin.com/CA/Richmond/578-25th-St-94804/home/182033462', 'https://www.redfin.com/CA/Concord/1820-Bailey-Rd-94521/home/1526022', 'https://www.redfin.com/CA/Brentwood/2213-Spyglass-Dr-94513/home/23124098', 'https://www.redfin.com/CA/MARTINEZ/1535-ASHWOOD-DR-94553/unit-C/home/953848', 'https://www.redfin.com/CA/Oakley/1678-Cedar-Ct-94561/home/1919375', 'https://www.redfin.com/CA/San-Ramon/1733-Campanula-Dr-94582/home/2104949', 'https://www.redfin.com/CA/Walnut-Creek/1349-Ptarmigan-Dr-94595/unit-5/home/1848881', 'https://www.redfin.com/CA/Oakley/833-Diamante-Way-94561/home/182009276', 'https://www.redfin.com/CA/Walnut-Creek/3183-Wayside-Plz-94597/unit-207/home/1731167', 'https://www.redfin.com/CA/Danville/2025-Chadbourne-Ct-94506/home/1485883', 'https://www.redfin.com/CA/Antioch/5344-Guenoc-Valley-Ln-94531/home/181265505', 'https://www.redfin.com/CA/Antioch/2228-Jefferson-Way-94509/home/658718', 'https://www.redfin.com/CA/Concord/1370-Swallow-Tail-Rd-94521/home/762671', 'https://www.redfin.com/CA/Antioch/2833-Stamm-Dr-94509/home/605268', 'https://www.redfin.com/CA/Oakley/188-Lavender-Way-94561/home/40090473', 'https://www.redfin.com/CA/Martinez/117-Burgundy-Ct-94553/home/796249', 'https://www.redfin.com/CA/Walnut-Creek/1109-Canyonwood-Ct-94595/unit-4/home/1203838', 'https://www.redfin.com/CA/Pleasant-Hill/154-Flame-Dr-94523/home/1365822', 'https://www.redfin.com/CA/Orinda/23-La-Fond-Ln-94563/home/1487002', 'https://www.redfin.com/CA/Antioch/928-Flintrock-Dr-94509/home/1080512', 'https://www.redfin.com/CA/Walnut-Creek/2115-Cactus-Ct-94595/unit-4/home/167233329', 'https://www.redfin.com/CA/Pittsburg/948-Carpino-Ave-94565/home/1289011', 'https://www.redfin.com/CA/Danville/589-Zephyr-Cir-94526/home/1280966', 'https://www.redfin.com/CA/Concord/1106-Via-Ensenada-Ct-94521/home/734227', 'https://www.redfin.com/CA/Martinez/340-Summerhill-Ln-94553/home/795793', 'https://www.redfin.com/CA/Pleasant-Hill/166-Doray-Dr-94523/home/1046788', 'https://www.redfin.com/CA/Orinda/22-El-Toyonal-94563/home/1515635', 'https://www.redfin.com/CA/Oakley/1670-Ponderosa-Dr-94561/home/1715547', 'https://www.redfin.com/CA/ORINDA/110-LESLIE-LN-94563/home/924285', 'https://www.redfin.com/CA/Oakley/1019-Warhol-Way-94561/home/12122778', 'https://www.redfin.com/CA/Walnut-Creek/2623-Brian-Ranch-Ct-94598/home/181908966', 'https://www.redfin.com/CA/Walnut-Creek/1501-Ptarmigan-Dr-94595/unit-3C/home/167235166', 'https://www.redfin.com/CA/Pleasant-Hill/20-Bliss-Ct-94523/home/807389', 'https://www.redfin.com/CA/San-Ramon/110-Compton-Cir-94583/unit-D/home/1613417', 'https://www.redfin.com/CA/Walnut-Creek/2109-Ptarmigan-Dr-94595/unit-3/home/167235341', 'https://www.redfin.com/CA/Walnut-Creek/1669-Holland-Dr-94597/home/1912349', 'https://www.redfin.com/CA/Antioch/1305-Louis-Dr-94509/home/1852889', 'https://www.redfin.com/CA/Richmond/4701-Hershey-Ct-94804/home/671822', 'https://www.redfin.com/CA/Concord/4651-Melody-Dr-94521/unit-D/home/1841894', 'https://www.redfin.com/CA/Concord/2831-Minert-Rd-94518/home/748954', 'https://www.redfin.com/CA/Concord/1366-Tree-Garden-Pl-94518/home/1012345', 'https://www.redfin.com/CA/BETHEL-ISLAND/3509-DELTA-COVES-DR-94511/home/23402568', 'https://www.redfin.com/CA/San-Ramon/3155-Ashbourne-Cir-94583/home/23121878', 'https://www.redfin.com/CA/Concord/5213-Olive-Dr-94521/home/711532', 'https://www.redfin.com/CA/Richmond/762-7th-St-94801/home/1284755', 'https://www.redfin.com/CA/Livermore/9050-Highland-Rd-94551/home/181931877', 'https://www.redfin.com/CA/San-Ramon/18869-Bollinger-Canyon-Rd-94583/home/932507', 'https://www.redfin.com/CA/San-Ramon/7477-Inverness-St-94583/home/1858479', 'https://www.redfin.com/CA/Rodeo/30-London-LN-94572/home/181913594', 'https://www.redfin.com/CA/Antioch/5550-Mountain-Ridge-Ct-94531/home/168806198', 'https://www.redfin.com/CA/El-Sobrante/469-Rincon-Rd-94803/home/1507763', 'https://www.redfin.com/CA/Walnut-Creek/2630-San-Carlos-Dr-94598/home/781421', 'https://www.redfin.com/CA/Walnut-Creek/600-Terra-California-Dr-94595/unit-6/home/167235695', 'https://www.redfin.com/CA/Antioch/1401-San-Jose-Dr-94509/home/1364263', 'https://www.redfin.com/CA/Brentwood/2684-Presidio-Dr-94513/home/2101229', 'https://www.redfin.com/CA/Pittsburg/1035-Dawnview-Ct-94565/home/167206989', 'https://www.redfin.com/CA/Dublin/7367-Diamond-Mountain-Rd-94568/home/143118802', 'https://www.redfin.com/CA/Concord/1505-Kirker-Pass-Rd-94521/unit-138/home/17168405', 'https://www.redfin.com/CA/San-Ramon/1044-Canyon-Hills-Rd-94582/home/1878675', 'https://www.redfin.com/CA/Oakley/351-Coolcrest-Dr-94561/home/112888133', 'https://www.redfin.com/CA/Walnut-Creek/1246-Walker-Ave-94596/unit-305/home/606043', 'https://www.redfin.com/CA/Richmond/2771-Sheldon-Dr-94803/home/855212', 'https://www.redfin.com/CA/Oakley/77-Ottawa-St-94561/home/181813084', 'https://www.redfin.com/CA/Concord/2268-Pepper-Dr-94520/home/1958585', 'https://www.redfin.com/CA/San-Ramon/2120-N-Donovan-Way-94582/home/2105141', 'https://www.redfin.com/CA/Hercules/112-Crabapple-Ct-94547/home/2105502', 'https://www.redfin.com/CA/Richmond/5104-Cypress-Ave-94804/home/178977363', 'https://www.redfin.com/CA/Concord/1184-Brookview-Dr-94520/home/1797807', 'https://www.redfin.com/CA/Oakland/2121-Manzanita-Dr-94611/home/1952945', 'https://www.redfin.com/CA/Richmond/1200-Brickyard-Way-94801/unit-312/home/1189282', 'https://www.redfin.com/CA/Brentwood/869-Greenstone-Ct-94513/home/23110289', 'https://www.redfin.com/CA/Concord/4048-Lillian-Dr-94521/home/695508', 'https://www.redfin.com/CA/Antioch/3124-Sunflower-Dr-94531/home/931211', 'https://www.redfin.com/CA/Martinez/2520-Orange-St-94553/home/1764346', 'https://www.redfin.com/CA/Antioch/3314-Aldagrove-Rd-94509/home/693461', 'https://www.redfin.com/CA/Concord/1291-Apple-Dr-94518/home/1610761', 'https://www.redfin.com/CA/Hercules/333-N-Wildwood-94547/home/1656782', 'https://www.redfin.com/CA/San-Pablo/1219-John-Ave-94806/home/1104892', 'https://www.redfin.com/CA/Oakley/206-Meadow-Creek-Ct-94561/home/1819946', 'https://www.redfin.com/CA/Bethel-Island/218-Waterside-Pl-94511/home/182071067', 'https://www.redfin.com/CA/Richmond/4980-Rocky-Rd-94803/home/1130234', 'https://www.redfin.com/CA/Clayton/151-Regency-Dr-94517/home/1334953', 'https://www.redfin.com/CA/Oakley/212-Dennis-Ct-94561/home/1794293', 'https://www.redfin.com/CA/Richmond/788-Amador-St-94805/home/1778657', 'https://www.redfin.com/CA/Orinda/2-Orchard-Ct-94563/home/1849237', 'https://www.redfin.com/CA/Richmond/613-Payne-Dr-94806/home/1098910', 'https://www.redfin.com/CA/Concord/2161-Northwood-Cir-94520/unit-E/home/1579679', 'https://www.redfin.com/CA/Orinda/32-Greenwood-Ct-94563/home/1515764', 'https://www.redfin.com/CA/Martinez/155-Blue-Canyon-Way-94553/home/994393', 'https://www.redfin.com/CA/Brentwood/1606-Frascati-Way-94513/home/56908520', 'https://www.redfin.com/CA/Danville/17-Nathan-Pl-94526/home/1249985', 'https://www.redfin.com/CA/Lafayette/1342-Reliez-Valley-Rd-94549/home/1697109', 'https://www.redfin.com/CA/Pinole/1169-Pinole-Valley-Rd-94564/home/23102372', 'https://www.redfin.com/CA/Pinole/2313-Orleans-Dr-94564/home/1068099', 'https://www.redfin.com/CA/Walnut-Creek/4449-Terra-Granada-Dr-94595/unit-3A/home/167236540', 'https://www.redfin.com/CA/Brentwood/1724-Latour-Ave-94513/home/17168555', 'https://www.redfin.com/CA/Bay-Point/563-Coastview-Ct-94565/home/1782002', 'https://www.redfin.com/CA/Lafayette/4107-Happy-Valley-Rd-94549/home/1544156', 'https://www.redfin.com/CA/Clayton/68-Weatherly-Dr-94517/home/1083102', 'https://www.redfin.com/CA/Concord/1324-Rosemary-Ln-94518/home/1968211', 'https://www.redfin.com/CA/Danville/3649-Deer-Trail-Dr-94506/home/1156013', 'https://www.redfin.com/CA/Walnut-Creek/3183-Wayside-Plz-94597/unit-112/home/1345998', 'https://www.redfin.com/CA/Bay-Point/111-Maureen-Cir-94565/home/1258367', 'https://www.redfin.com/CA/Oakley/1343-Maple-Dr-94561/home/23102660', 'https://www.redfin.com/CA/Walnut-Creek/1540-Candelero-Dr-94598/home/788093', 'https://www.redfin.com/CA/Discovery-Bay/108-Birmingham-Ct-94505/home/1449754', 'https://www.redfin.com/CA/CROCKETT/EMERSON-AVE-94525/home/23336532', 'https://www.redfin.com/CA/Moraga/137-Tharp-Dr-94556/home/1655564', 'https://www.redfin.com/CA/El-Cerrito/5919-Charles-Ave-94530/home/559113', 'https://www.redfin.com/CA/Pittsburg/1061-Cape-May-Dr-94565/home/1220807', 'https://www.redfin.com/CA/Hercules/698-Turquoise-Dr-94547/home/1897324', 'https://www.redfin.com/CA/Antioch/2506-Vallecito-Way-94531/home/1208540', 'https://www.redfin.com/CA/Martinez/221-Briar-Dr-94553/home/1321310', 'https://www.redfin.com/CA/Walnut-Creek/2032-Mallard-Dr-94597/home/1395935', 'https://www.redfin.com/CA/Danville/4320-Quail-Run-Ct-94506/home/1697045', 'https://www.redfin.com/CA/Antioch/5629-Leitrim-Way-94531/home/2106489', 'https://www.redfin.com/CA/Walnut-Creek/555-Ygnacio-Valley-Rd-94596/unit-221/home/28907362', 'https://www.redfin.com/CA/Alamo/517-Carleton-Way-94507/home/1903506', 'https://www.redfin.com/CA/San-Pablo/117-Zandra-Ct-94806/home/1085084', 'https://www.redfin.com/CA/Lafayette/3372-N-Lucille-Ln-94549/home/1889587', 'https://www.redfin.com/CA/Walnut-Creek/3209-Golden-Rain-Rd-94595/unit-4/home/1688769', 'https://www.redfin.com/CA/Orinda/2-Charles-Hill-Cir-94563/home/21997535', 'https://www.redfin.com/CA/Orinda/8-Tappan-Ct-94563/home/1459498', 'https://www.redfin.com/CA/Bethel-Island/3503-Delta-Cove-DR-94511/home/182045085', 'https://www.redfin.com/CA/Lafayette/504-McBride-Dr-94549/home/1501016', 'https://www.redfin.com/CA/Antioch/1521-D-St-94509/home/1852183', 'https://www.redfin.com/CA/Pittsburg/143-Navy-St-94565/home/1690297', 'https://www.redfin.com/CA/Discovery-Bay/2015-Cypress-Pt-94505/home/23145763', 'https://www.redfin.com/CA/Antioch/5435-Summerfield-Dr-94531/home/2102179', 'https://www.redfin.com/CA/Antioch/2423-Whitetail-Dr-94531/home/1244138', 'https://www.redfin.com/CA/Kensington/272-Lexington-Rd-94707/home/963767', 'https://www.redfin.com/CA/Antioch/1707-Mahogany-Way-94509/unit-49/home/888873', 'https://www.redfin.com/CA/Oakley/448-Sonnet-Ct-94561/home/23113375', 'https://www.redfin.com/CA/Richmond/2364-Emeric-Ave-94806/home/1172472', 'https://www.redfin.com/CA/Rodeo/10-London-LN-94572/home/181868912', 'https://www.redfin.com/CA/Richmond/590-McLaughlin-St-94805/home/1926198', 'https://www.redfin.com/CA/Orinda/9-Bel-Air-Dr-94563/home/882119', 'https://www.redfin.com/CA/Danville/3046-Deer-Meadow-Dr-94506/home/1710437', 'https://www.redfin.com/CA/Walnut-Creek/3870-Arbolado-Dr-94598/home/993102', 'https://www.redfin.com/CA/Concord/3485-Liscome-Way-94518/home/1707441', 'https://www.redfin.com/CA/Discovery-Bay/1836-Dolphin-Ct-94505/home/1564510', 'https://www.redfin.com/CA/Pleasant-Hill/30-Greendell-Pl-94523/home/813565', 'https://www.redfin.com/CA/Richmond/615-Virginia-Ave-94804/home/112894941', 'https://www.redfin.com/CA/Concord/5458-Roundtree-Dr-94521/unit-H/home/1609259', 'https://www.redfin.com/CA/Antioch/810-Burwood-Way-94509/home/1330165', 'https://www.redfin.com/CA/Danville/676-Blue-Spruce-Dr-94506/home/1913373', 'https://www.redfin.com/CA/Concord/3124-Meadowbrook-Dr-94519/home/1883383', 'https://www.redfin.com/CA/San-Ramon/5107-Rowan-Dr-94582/home/112888553', 'https://www.redfin.com/CA/Orinda/7-Evans-Pl-94563/home/1951718', 'https://www.redfin.com/CA/Concord/1739-Agadir-Ct-94518/home/697713', 'https://www.redfin.com/CA/Antioch/2416-Shadow-Ln-94509/unit-76/home/1565748', 'https://www.redfin.com/CA/Pittsburg/3014-Peppermill-Cir-94565/home/1796528', 'https://www.redfin.com/CA/Discovery-Bay/1633-Riverlake-Rd-94505/home/1328598', 'https://www.redfin.com/CA/Walnut-Creek/976-Dee-Ct-94597/home/2104715', 'https://www.redfin.com/CA/Lafayette/10-The-Nines-94549/home/178741724', 'https://www.redfin.com/CA/Pleasant-Hill/184-Devon-Ave-94523/home/1834230', 'https://www.redfin.com/CA/Alamo/2189-Las-Trampas-Rd-94507/home/913222', 'https://www.redfin.com/CA/San-Ramon/436-Pocono-Manor-Pl-94583/home/940284', 'https://www.redfin.com/CA/San-Pablo/2970-Arundel-Way-94806/home/1112114', 'https://www.redfin.com/CA/Discovery-Bay/5090-Cabrillo-Pt-94505/home/577434', 'https://www.redfin.com/CA/Brentwood/1061-Somersby-Way-94513/home/1207716', 'https://www.redfin.com/CA/Orinda/79-La-Espiral-94563/home/40607089', 'https://www.redfin.com/CA/El-Cerrito/7704-Ricardo-Ct-94530/home/1962580', 'https://www.redfin.com/CA/Oakley/497-Vinewood-Dr-94561/home/560953', 'https://www.redfin.com/CA/Kensington/63-Stratford-Rd-94707/home/1726624', 'https://www.redfin.com/CA/Walnut-Creek/283-Castle-Hill-Ranch-Rd-94595/home/23308104', 'https://www.redfin.com/CA/Crockett/530-Alhambra-St-94525/home/1506269'}, 'San-Mateo-County': {'https://www.redfin.com/CA/San-Carlos/3328-Brittan-Ave-94070/unit-4/home/1611986', 'https://www.redfin.com/CA/Burlingame/1416-Edgehill-Dr-94010/home/2044065', 'https://www.redfin.com/CA/Redwood-City/788-Arguello-St-94063/unit-109/home/1833454', 'https://www.redfin.com/CA/Redwood-City/322-Beresford-Ave-94061/home/884939', 'https://www.redfin.com/CA/South-San-Francisco/461-Avalon-Dr-94080/home/1840756', 'https://www.redfin.com/CA/San-Carlos/2726-Debbie-Ct-94070/home/1988031', 'https://www.redfin.com/CA/Daly-City/74-San-Juan-Ave-94015/home/1512333', 'https://www.redfin.com/CA/East-Palo-Alto/2483-Fordham-St-94303/home/864041', 'https://www.redfin.com/CA/Redwood-City/641-Turnbuckle-Dr-94063/unit-1703/home/103687834', 'https://www.redfin.com/CA/Pacifica/140-Carmel-Ave-94044/home/1329255', 'https://www.redfin.com/CA/Redwood-City/1110-Harrison-Ave-94062/home/1153570', 'https://www.redfin.com/CA/Burlingame/321-Concord-Way-94010/home/1848880', 'https://www.redfin.com/CA/Millbrae/88-S-Broadway-94030/unit-1103/home/17307598', 'https://www.redfin.com/CA/San-Mateo/137-W-3rd-Ave-94402/home/12243364', 'https://www.redfin.com/CA/DALY-CITY/111-CRAPE-CT-94014/home/172779622', 'https://www.redfin.com/CA/Redwood-City/1650-James-Ave-94062/home/1823591', 'https://www.redfin.com/CA/San-Mateo/222-6th-Ave-94401/unit-201/home/2100568', 'https://www.redfin.com/CA/Redwood-City/1650-Kansas-St-94061/home/2020115', 'https://www.redfin.com/CA/Menlo-Park/474-O-Connor-St-94025/home/2055363', 'https://www.redfin.com/CA/Woodside/900-Godetia-Dr-94062/home/179792236', 'https://www.redfin.com/CA/Portola-Valley/5-Valley-Oak-94028/home/2037855', 'https://www.redfin.com/CA/Half-Moon-Bay/300-Troon-Way-94019/home/2052747', 'https://www.redfin.com/CA/Foster-City/130-Cityhomes-Ln-94404/home/1727986', 'https://www.redfin.com/CA/Daly-City/932-Gellert-Blvd-94015/home/1593357', 'https://www.redfin.com/CA/Hillsborough/430-Moseley-Rd-94010/home/1622917', 'https://www.redfin.com/CA/San-Mateo/54-E-39th-Ave-94403/home/1283992', 'https://www.redfin.com/CA/Menlo-Park/1289-Woodland-Ave-94025/home/1269037', 'https://www.redfin.com/CA/San-Carlos/3366-La-Mesa-Dr-94070/unit-9/home/1878199', 'https://www.redfin.com/CA/San-Carlos/222-Laurel-St-94070/unit-208/home/1457421', 'https://www.redfin.com/CA/Foster-City/126-Williams-Ln-94404/home/1576582', 'https://www.redfin.com/CA/Half-Moon-Bay/25-Sailfish-Ct-94019/unit-25/home/26791173', 'https://www.redfin.com/CA/Woodside/1307-Portola-Rd-94062/home/1909896', 'https://www.redfin.com/CA/Woodside/1367-Canada-Rd-94062/home/894830', 'https://www.redfin.com/CA/Pacifica/548-Inverness-Dr-94044/home/1861586', 'https://www.redfin.com/CA/Atherton/72-Barry-Ln-94027/home/1980224', 'https://www.redfin.com/CA/Brisbane/221-Tulare-St-94005/home/1008626', 'https://www.redfin.com/CA/Menlo-Park/263-Yale-Rd-94025/home/1992171', 'https://www.redfin.com/CA/San-Carlos/Wingate-Ave-94070/home/96028119', 'https://www.redfin.com/CA/San-Mateo/222-6th-Ave-94401/unit-402/home/2100381', 'https://www.redfin.com/CA/South-San-Francisco/3721-Carter-Dr-94080/unit-1306/home/1311762', 'https://www.redfin.com/CA/MOSS-BEACH/WAVE-AVE-94038/home/23468017', 'https://www.redfin.com/CA/South-San-Francisco/121-A-St-94080/home/1828167', 'https://www.redfin.com/CA/Daly-City/539-Macarthur-Dr-94015/home/559787', 'https://www.redfin.com/CA/South-San-Francisco/3550-Carter-Dr-94080/unit-35/home/949906', 'https://www.redfin.com/CA/San-Carlos/290-Oakview-Dr-94070/home/17307985', 'https://www.redfin.com/CA/San-Carlos/470-Emerald-Ave-94070/home/1026314', 'https://www.redfin.com/CA/Daly-City/54-N-Mayfair-Ave-94015/home/542691', 'https://www.redfin.com/CA/Pacifica/916-Park-Pacifica-Ave-94044/home/666238', 'https://www.redfin.com/CA/Half-Moon-Bay/61-Patrick-Way-94019/home/1947413', 'https://www.redfin.com/CA/San-Mateo/116-Hobart-Ave-94402/home/1293229', 'https://www.redfin.com/CA/Redwood-City/317-Fuller-St-94063/home/144108543', 'https://www.redfin.com/CA/Atherton/42-Camino-Por-Los-Arboles-94027/home/1072436', 'https://www.redfin.com/CA/Redwood-City/1415-Regent-St-94061/unit-4/home/1224864', 'https://www.redfin.com/CA/Foster-City/1032-Sanderling-St-94404/home/931447', 'https://www.redfin.com/CA/Pacifica/995-Crespi-Dr-94044/home/1413943', 'https://www.redfin.com/CA/Palomar-Park/1021-Palomar-Dr-94062/home/1815862', 'https://www.redfin.com/CA/Brisbane/718-Humboldt-Rd-94005/home/181628865', 'https://www.redfin.com/CA/Woodside/3600-Partition-Rd-94062/home/23468371', 'https://www.redfin.com/CA/San-Bruno/3920-Coronado-Way-94066/home/1705762', 'https://www.redfin.com/CA/Redwood-City/2747-Devonshire-Ave-94063/home/1942375', 'https://www.redfin.com/CA/Redwood-City/242-Harrison-Ave-94062/home/1583459', 'https://www.redfin.com/CA/Redwood-City/6-Arch-St-94062/home/1089721', 'https://www.redfin.com/CA/South-San-Francisco/Lilac-Ln-94080/home/1291173', 'https://www.redfin.com/CA/Half-Moon-Bay/408-Beach-Ave-94019/home/2016917', 'https://www.redfin.com/CA/Burlingame/2533-Hayward-Dr-94010/home/1057331', 'https://www.redfin.com/CA/Redwood-City/551-Lincoln-Ave-94061/home/814351', 'https://www.redfin.com/CA/Millbrae/301-San-Pablo-Ave-94030/home/1841141', 'https://www.redfin.com/CA/Unknown/Huckleberry-Trl-94062/home/17367249', 'https://www.redfin.com/CA/Redwood-City/858-Boardwalk-Pl-94065/home/1907023', 'https://www.redfin.com/CA/San-Mateo/1685-S-Norfolk-St-94403/home/724353', 'https://www.redfin.com/CA/Burlingame/40-Bloomfield-Rd-94010/home/690814', 'https://www.redfin.com/CA/Pacifica/638-Viewridge-Dr-94044/home/589861', 'https://www.redfin.com/CA/Menlo-Park/928-Laurel-Ave-94025/home/2011868', 'https://www.redfin.com/CA/East-Palo-Alto/916-Oakes-St-94303/home/1000191', 'https://www.redfin.com/CA/Menlo-Park/665-Cambridge-Ave-94025/home/2041360', 'https://www.redfin.com/CA/San-Mateo/212-Huron-Ave-94401/home/2011034', 'https://www.redfin.com/CA/Daly-City/56-Edgewood-Ct-94014/home/1746808', 'https://www.redfin.com/CA/Portola-Valley/1196-Los-Trancos-Rd-94028/home/1174822', 'https://www.redfin.com/CA/Burlingame/311-Rollins-Rd-94010/home/1814788', 'https://www.redfin.com/CA/Daly-City/349-Philip-Dr-94015/unit-305/home/1651655', 'https://www.redfin.com/CA/Daly-City/247-Lincoln-Ave-94015/home/1889535', 'https://www.redfin.com/CA/Hillsborough/1290-Lakeview-Dr-94010/home/2038966', 'https://www.redfin.com/CA/San-Carlos/22-Del-Rey-Ct-94070/home/1143780', 'https://www.redfin.com/CA/Redwood-City/715-Upton-St-94061/home/1213214', 'https://www.redfin.com/CA/Foster-City/880-Meridian-Bay-Ln-94404/unit-210/home/1272400', 'https://www.redfin.com/CA/Belmont/605-Alameda-de-las-Pulgas-94002/home/1505378', 'https://www.redfin.com/CA/San-Mateo/626-Mariners-Island-Blvd-94404/unit-205/home/1652844', 'https://www.redfin.com/CA/San-Carlos/2071-Arroyo-Ave-94070/home/789611', 'https://www.redfin.com/CA/San-Carlos/1374-San-Carlos-Ave-94070/home/1183364', 'https://www.redfin.com/CA/San-Mateo/1840-El-Parque-Ct-94403/home/1314298', 'https://www.redfin.com/CA/Burlingame/900-Paloma-Ave-94010/home/1955971', 'https://www.redfin.com/CA/Woodside/1369-Canada-Rd-94062/home/1837439', 'https://www.redfin.com/CA/Pacifica/1089-Grand-Teton-Dr-94044/home/665615', 'https://www.redfin.com/CA/DALY-CITY/115-CRAPE-CT-94014/home/172779621', 'https://www.redfin.com/CA/South-San-Francisco/9-Hillcrest-Ct-94080/home/1301275', 'https://www.redfin.com/CA/Redwood-City/806-Seal-Pointe-Dr-94065/home/943445', 'https://www.redfin.com/CA/South-San-Francisco/115-Dundee-Dr-94080/home/1861593', 'https://www.redfin.com/CA/San-Mateo/1149-Yates-Way-94403/home/1005577', 'https://www.redfin.com/CA/Portola-Valley/118-Ramona-Rd-94028/home/40168354', 'https://www.redfin.com/CA/San-Mateo/155-N-El-Camino-Real-94401/unit-10/home/1949257', 'https://www.redfin.com/CA/Woodside/33-Langley-Hill-Rd-94062/home/21844052', 'https://www.redfin.com/CA/Menlo-Park/702-Elizabeth-Ln-94025/home/2050684', 'https://www.redfin.com/CA/Half-Moon-Bay/403-Metzgar-St-94019/home/2039402', 'https://www.redfin.com/CA/Redwood-City/634-OakView-Way-94062/home/1823562', 'https://www.redfin.com/CA/Daly-City/35-Westmont-Dr-94015/home/2013101', 'https://www.redfin.com/CA/Hillsborough/10-Fawn-Ct-94010/home/685626', 'https://www.redfin.com/CA/EL-GRANADA/538-VALENCIA-AVE-94018/home/161163713', 'https://www.redfin.com/CA/Pacifica/252-Clarendon-Rd-94044/home/1189346', 'https://www.redfin.com/CA/Brisbane/340-Kings-Rd-94005/home/2007561', 'https://www.redfin.com/CA/San-Bruno/850-Glenview-Dr-94066/home/21963584', 'https://www.redfin.com/CA/San-Mateo/224-N-Humboldt-St-94401/home/1293065', 'https://www.redfin.com/CA/Burlingame/1493-Oak-Grove-Ave-94010/unit-403/home/181103029', 'https://www.redfin.com/CA/Menlo-Park/1868-Valparaiso-Ave-94025/home/883988', 'https://www.redfin.com/CA/Redwood-City/601-Baltic-Cir-94065/unit-623/home/1019790', 'https://www.redfin.com/CA/San-Mateo/1612-Marina-Ct-94403/unit-A/home/1052918', 'https://www.redfin.com/CA/San-Carlos/1574-Gover-Ln-94070/home/802804', 'https://www.redfin.com/CA/Redwood-City/566-Iris-St-94062/home/1766951', 'https://www.redfin.com/CA/Redwood-City/1030-Silver-Hill-Rd-94061/home/1556724', 'https://www.redfin.com/CA/Burlingame/1304-Mills-Ave-94010/home/1067971', 'https://www.redfin.com/CA/Menlo-Park/215-Haight-St-94025/home/1099851', 'https://www.redfin.com/CA/Portola-Valley/40-Tagus-Ct-94028/home/2002625', 'https://www.redfin.com/CA/Daly-City/730-Pointe-Pacific-Dr-94014/unit-5/home/1500077', 'https://www.redfin.com/CA/San-Mateo/3404-Oakhill-Ct-94403/home/2037066', 'https://www.redfin.com/CA/Redwood-City/20-Dockside-Cir-94065/home/1887666', 'https://www.redfin.com/CA/Hillsborough/731-Newhall-Rd-94010/home/1265945', 'https://www.redfin.com/CA/El-Granada/Lewis-Ave-94019/home/113793002', 'https://www.redfin.com/CA/San-Bruno/282-Carlton-Ave-94066/home/2004183', 'https://www.redfin.com/CA/San-Mateo/3090-Los-Prados-St-94403/unit-20/home/1787573', 'https://www.redfin.com/CA/San-Bruno/1142-Shelter-Creek-Ln-94066/home/2052652', 'https://www.redfin.com/CA/Daly-City/22-Longview-Dr-94015/home/1264097', 'https://www.redfin.com/CA/Redwood-City/550-Sapphire-St-94062/home/1134483', 'https://www.redfin.com/CA/Portola-Valley/235-Willowbrook-Dr-94028/home/2020451', 'https://www.redfin.com/CA/San-Bruno/1140-Vermont-Way-94066/home/2042300', 'https://www.redfin.com/CA/San-Mateo/4137-George-Ave-94403/unit-2/home/977647', 'https://www.redfin.com/CA/Pacifica/264-Berendos-Ave-94044/home/1798231', 'https://www.redfin.com/CA/San-Mateo/67-W-39th-Ave-94403/home/758545', 'https://www.redfin.com/CA/Foster-City/248-Puffin-Ct-94404/home/1051767', 'https://www.redfin.com/CA/Redwood-City/1235-St-Francis-St-94061/home/839099', 'https://www.redfin.com/CA/San-Carlos/1912-White-Oak-Way-94070/home/1903737', 'https://www.redfin.com/CA/Menlo-Park/866-Hermosa-Way-94025/home/1601197', 'https://www.redfin.com/CA/Menlo-Park/1380-N-Lemon-Ave-94025/home/1269278', 'https://www.redfin.com/CA/San-Mateo/200-Elm-St-94401/unit-104/home/17308150', 'https://www.redfin.com/CA/Burlingame/13-Victoria-Rd-94010/home/1843694', 'https://www.redfin.com/CA/East-Palo-Alto/2216-Clarke-Ave-94303/home/143944543', 'https://www.redfin.com/CA/San-Bruno/2100-Pinecrest-Dr-94066/home/2056937', 'https://www.redfin.com/CA/Hillsborough/1360-Tartan-Trail-Rd-94010/home/730695', 'https://www.redfin.com/CA/Menlo-Park/548-Placitas-Ave-94025/home/1516715', 'https://www.redfin.com/CA/Hillsborough/711-Hayne-Rd-94010/home/1869768', 'https://www.redfin.com/CA/Burlingame/1472-Cortez-Ave-94010/home/1641437', 'https://www.redfin.com/CA/Daly-City/1079-S-Mayfair-Ave-94015/home/1055177', 'https://www.redfin.com/CA/Daly-City/40-Goethe-St-94014/home/18912212', 'https://www.redfin.com/CA/Burlingame/1504-Cortez-Ave-94010/home/1869509', 'https://www.redfin.com/CA/South-San-Francisco/165-Romney-Ave-94080/home/2053896', 'https://www.redfin.com/CA/Pacifica/921-Fassler-Ave-94044/home/653173', 'https://www.redfin.com/CA/Redwood-City/421-Cork-Harbour-Cir-94065/unit-H/home/1848070', 'https://www.redfin.com/CA/Menlo-Park/675-Sharon-Park-Dr-94025/unit-240/home/1894543', 'https://www.redfin.com/CA/Foster-City/600-Starfish-Ln-94404/home/181195833', 'https://www.redfin.com/CA/San-Carlos/1432-San-Carlos-Ave-94070/unit-5/home/1746237', 'https://www.redfin.com/CA/Pacifica/828-Linda-Mar-Blvd-94044/home/659248', 'https://www.redfin.com/CA/San-Mateo/205-Ramona-St-94401/home/1247495', 'https://www.redfin.com/CA/Belmont/2006-Notre-Dame-Ave-94002/home/1741236', 'https://www.redfin.com/CA/Redwood-City/814-Intrepid-Ln-94065/home/2056763', 'https://www.redfin.com/CA/Pacifica/1199-Oddstad-Blvd-94044/home/1273621', 'https://www.redfin.com/CA/Foster-City/840-Sea-Spray-Ln-94404/unit-311/home/1187018', 'https://www.redfin.com/CA/Pacifica/1035-Oddstad-Blvd-94044/home/1531433', 'https://www.redfin.com/CA/San-Mateo/141-W-40th-Ave-94403/home/1979192', 'https://www.redfin.com/CA/San-Mateo/1761-Klamath-Ave-94403/home/1460716', 'https://www.redfin.com/CA/East-Palo-Alto/820-Weeks-St-94303/home/1871192', 'https://www.redfin.com/CA/San-Mateo/220-Waters-Park-Cir-94403/unit-203/home/180446307', 'https://www.redfin.com/CA/Foster-City/153-Beach-Park-Blvd-94404/home/936385', 'https://www.redfin.com/CA/San-Mateo/664-Bermuda-Dr-94403/home/1885598', 'https://www.redfin.com/CA/San-Mateo/105-Otay-Ave-94403/home/1182204', 'https://www.redfin.com/CA/East-Palo-Alto/332-Azalia-Dr-94303/home/1417412', 'https://www.redfin.com/CA/Burlingame/917-Azalea-Ave-94010/home/1946015', 'https://www.redfin.com/CA/Foster-City/298-Surfbird-Isle-94404/home/2057606', 'https://www.redfin.com/CA/Brisbane/625-Callippe-Ct-94005/home/1917599', 'https://www.redfin.com/CA/San-Bruno/417-Piccadilly-Pl-94066/unit-19/home/2043474', 'https://www.redfin.com/CA/Belmont/3322-Plateau-Dr-94002/home/1566102', 'https://www.redfin.com/CA/San-Carlos/618-Walnut-St-94070/unit-404/home/1956273', 'https://www.redfin.com/CA/Atherton/18-Parker-Ave-94027/home/2052523', 'https://www.redfin.com/CA/San-Carlos/42-Arch-Ln-94070/home/1443688', 'https://www.redfin.com/CA/San-Carlos/436-Portofino-Dr-94070/unit-204/home/1509253', 'https://www.redfin.com/CA/Foster-City/1075-Shell-Blvd-94404/unit-2/home/965145', 'https://www.redfin.com/CA/La-Honda/1-Memory-Ln-94020/home/1525363', 'https://www.redfin.com/CA/Foster-City/401-Emerald-Bay-Ln-94404/home/2041766', 'https://www.redfin.com/CA/San-Mateo/128-State-St-94401/home/976351', 'https://www.redfin.com/CA/San-Mateo/3933-Martin-Dr-94403/home/754882', 'https://www.redfin.com/CA/Menlo-Park/1437-Chilco-St-94025/home/1444329', 'https://www.redfin.com/CA/East-Palo-Alto/2260-Ralmar-Ave-94303/home/2047761', 'https://www.redfin.com/CA/Portola-Valley/266-Old-Spanish-Trl-94028/home/903732', 'https://www.redfin.com/CA/Belmont/403-Cornish-Way-94002/home/1765969', 'https://www.redfin.com/CA/Redwood-City/179-Inner-Cir-94062/home/1643682', 'https://www.redfin.com/CA/Belmont/1134-Continentals-Way-94002/home/1903538', 'https://www.redfin.com/CA/Redwood-City/312-Dumbarton-Ave-94063/home/990029', 'https://www.redfin.com/CA/South-San-Francisco/122-Mountain-Rd-94080/home/1828122', 'https://www.redfin.com/CA/Woodside/636-Southdale-Way-94062/home/1307971', 'https://www.redfin.com/CA/East-Palo-Alto/767-Carole-Ct-94303/home/1361140', 'https://www.redfin.com/CA/Moss-Beach/441-Terrace-Ave-94038/home/1693689', 'https://www.redfin.com/CA/Daly-City/87-Lausanne-Ave-94014/home/1319911', 'https://www.redfin.com/CA/San-Mateo/2828-Edison-St-94403/unit-2/home/1298674', 'https://www.redfin.com/CA/San-Mateo/102-Waters-Park-Cir-94403/home/181877089', 'https://www.redfin.com/CA/Foster-City/1064-Tiller-Ln-94404/home/1408945', 'https://www.redfin.com/CA/San-Bruno/721-Green-Ave-94066/home/635324', 'https://www.redfin.com/CA/San-Bruno/3021-Fasman-Dr-94066/home/1264852', 'https://www.redfin.com/CA/Redwood-City/925-Roosevelt-Ave-94061/home/1268205', 'https://www.redfin.com/CA/Brisbane/129-Alvarado-St-94005/home/1225900', 'https://www.redfin.com/CA/Redwood-City/718-Whipple-Ave-94063/home/1070744', 'https://www.redfin.com/CA/Redwood-City/652-Sea-Anchor-Dr-94063/unit-2207/home/109581479', 'https://www.redfin.com/CA/Hillsborough/1095-Macadamia-Dr-94010/home/1765060', 'https://www.redfin.com/CA/Daly-City/1516-Annie-St-94015/home/161112504', 'https://www.redfin.com/CA/Redwood-City/49-Cove-Ln-94065/home/1217152', 'https://www.redfin.com/CA/San-Mateo/601-Laurel-Ave-94401/unit-309/home/964778', 'https://www.redfin.com/CA/Hillsborough/2320-Skyfarm-Dr-94010/home/2024254', 'https://www.redfin.com/CA/San-Mateo/1636-Parrott-Dr-94402/home/1331802', 'https://www.redfin.com/CA/Daly-City/336-F-St-94014/home/146704946', 'https://www.redfin.com/CA/Half-Moon-Bay/104-Carnoustie-Dr-94019/home/52218178', 'https://www.redfin.com/CA/South-San-Francisco/951-Ridgeview-Ct-94080/unit-D/home/180642293', 'https://www.redfin.com/CA/San-Mateo/10-Crystal-Springs-Rd-94402/unit-1503/home/17307341', 'https://www.redfin.com/CA/Daly-City/493-Lakeshire-Dr-94015/home/2028820', 'https://www.redfin.com/CA/San-Mateo/262-Waters-Park-Cir-94403/home/181908857', 'https://www.redfin.com/CA/Redwood-City/308-Northumberland-Ave-94061/home/17307771', 'https://www.redfin.com/CA/Redwood-City/1090-Main-St-94063/unit-302/home/2058426', 'https://www.redfin.com/CA/Menlo-Park/180-Mimosa-Way-94028/home/1436098', 'https://www.redfin.com/CA/Burlingame/1305-Bernal-Ave-94010/home/2001390', 'https://www.redfin.com/CA/San-Mateo/100-Tilton-Ave-94401/home/146705063', 'https://www.redfin.com/CA/San-Mateo/128-N-El-Camino-Real-94401/unit-209/home/966279', 'https://www.redfin.com/CA/San-Mateo/121-Aragon-Blvd-94402/home/2014179', 'https://www.redfin.com/CA/Half-Moon-Bay/47-Sea-Breeze-Dr-94019/unit-47/home/28634347', 'https://www.redfin.com/CA/Woodside/444-Hillside-Dr-94062/home/1701063', 'https://www.redfin.com/CA/Colma/309-Hoffman-St-94014/home/1008676', 'https://www.redfin.com/CA/Redwood-City/948-Fulton-St-94061/home/1220884', 'https://www.redfin.com/CA/Redwood-City/435-Bark-Dr-94065/home/1953573', 'https://www.redfin.com/CA/El-Granada/001-Columbus-St-94018/home/181908909', 'https://www.redfin.com/CA/Foster-City/591-Pilgrim-Dr-94404/home/181828810', 'https://www.redfin.com/CA/San-Bruno/433-Oak-Ave-94066/home/1117388', 'https://www.redfin.com/CA/Emerald-Hills/845-California-Way-94062/home/2006160', 'https://www.redfin.com/CA/Belmont/1208-Ladera-Way-94002/home/766576', 'https://www.redfin.com/CA/Burlingame/1046-Laguna-Ave-94010/home/1757035', 'https://www.redfin.com/CA/Hillsborough/959-Jackling-Dr-94010/home/687132', 'https://www.redfin.com/CA/Hillsborough/5-Jewell-Pl-94010/home/1956121', 'https://www.redfin.com/CA/Millbrae/375-La-Prenda-94030/home/666806', 'https://www.redfin.com/CA/Foster-City/501-Starfish-Ln-94404/home/179975873', 'https://www.redfin.com/CA/Atherton/178-Atherton-Ave-94027/home/2006215', 'https://www.redfin.com/CA/South-San-Francisco/184-Nyla-Ave-94080/home/1929900', 'https://www.redfin.com/CA/Burlingame/16-Lorton-Ave-94010/unit-2/home/1187062', 'https://www.redfin.com/CA/San-Bruno/3790-Fleetwood-Dr-94066/home/625476', 'https://www.redfin.com/CA/San-Carlos/1022-Alameda-de-las-Pulgas-94070/home/2042961', 'https://www.redfin.com/CA/San-Bruno/1098-Huntington-Ave-E-94066/home/616758', 'https://www.redfin.com/CA/Foster-City/815-Sea-Spray-Ln-94404/unit-106/home/1491469', 'https://www.redfin.com/CA/Redwood-City/2807-Hastings-Shore-Ln-94065/home/994400', 'https://www.redfin.com/CA/East-Palo-Alto/311-Wisteria-Dr-94303/home/866146', 'https://www.redfin.com/CA/San-Mateo/1-Baldwin-Ave-94401/unit-219/home/982735', 'https://www.redfin.com/CA/Redwood-City/619-Hampshire-Ave-94063/home/1784076', 'https://www.redfin.com/CA/Daly-City/334-Bellevue-Ave-94014/home/555227', 'https://www.redfin.com/CA/Menlo-Park/79-Lorelei-Ln-94025/home/850534', 'https://www.redfin.com/CA/Atherton/2021-Camino-Al-Lago-94027/home/181794867', 'https://www.redfin.com/CA/San-Mateo/1144-Shoreline-Dr-94404/home/1261740', 'https://www.redfin.com/CA/Redwood-City/617-Hampshire-Ave-94063/home/815636', 'https://www.redfin.com/CA/Daly-City/266-Abbot-Ave-94014/home/553014', 'https://www.redfin.com/CA/Burlingame/1412-Mills-Ave-94010/home/1247084', 'https://www.redfin.com/CA/Millbrae/240-Poplar-Ave-94030/home/2052081', 'https://www.redfin.com/CA/Redwood-City/2014-Hastings-Shore-Ln-94065/unit-212/home/2022926', 'https://www.redfin.com/CA/Belmont/14-Meadow-Park-Cir-94002/home/2052270', 'https://www.redfin.com/CA/San-Mateo/111-Waters-Park-Cir-94403/home/181945754', 'https://www.redfin.com/CA/Portola-Valley/272-Golden-Hills-Dr-94028/home/2047827', 'https://www.redfin.com/CA/Redwood-City/1561-Gordon-St-94061/home/1173454', 'https://www.redfin.com/CA/Daly-City/560-Lisbon-St-94014/home/566821', 'https://www.redfin.com/CA/Pacifica/Clarendon-Rd-94044/home/23469781', 'https://www.redfin.com/CA/DALY-CITY/250-N-MAYFAIR-AVE-94015/home/1873216', 'https://www.redfin.com/CA/Menlo-Park/854-Cambridge-Ave-94025/home/887536', 'https://www.redfin.com/CA/South-San-Francisco/3749-Brunswick-Ct-94080/home/2006414', 'https://www.redfin.com/CA/San-Bruno/2120-Valleywood-Dr-94066/home/1227847', 'https://www.redfin.com/CA/Daly-City/882-King-Dr-94015/home/2017765', 'https://www.redfin.com/CA/San-Mateo/625-Patricia-Ave-94401/home/705842', 'https://www.redfin.com/CA/Burlingame/1405-Sanchez-Ave-94010/home/1513919', 'https://www.redfin.com/CA/San-Mateo/729-Murphy-Dr-94402/home/1035041', 'https://www.redfin.com/CA/San-Bruno/6257-Shelter-Creek-Ln-94066/home/2028006', 'https://www.redfin.com/CA/Daly-City/730-Pointe-Pacific-Dr-94014/unit-2/home/1777866', 'https://www.redfin.com/CA/Burlingame/1022-Chula-Vista-Ave-94010/unit-1/home/1804948', 'https://www.redfin.com/CA/San-Bruno/5229-Shelter-Creek-Ln-94066/home/1866277', 'https://www.redfin.com/CA/San-Mateo/2117-Stratford-Way-94403/home/1684215', 'https://www.redfin.com/CA/San-Mateo/6-Fairoaks-Ct-94403/home/1191464', 'https://www.redfin.com/CA/San-Carlos/15-Buckland-Ct-94070/home/1161010', 'https://www.redfin.com/CA/San-Bruno/261-Fernwood-Dr-94066/home/624793', 'https://www.redfin.com/CA/Redwood-City/948-Katherine-Ave-94062/home/807420', 'https://www.redfin.com/CA/San-Carlos/760-Sunset-Dr-94070/home/791495', 'https://www.redfin.com/CA/Woodside/325-Harcross-Rd-94062/home/880877', 'https://www.redfin.com/CA/Foster-City/6102-Admiralty-Ln-94404/home/2041855', 'https://www.redfin.com/CA/Pacifica/1143-Palou-Dr-94044/home/1086618', 'https://www.redfin.com/CA/Daly-City/68-Lausanne-Ave-94014/home/1207054', 'https://www.redfin.com/CA/Menlo-Park/2339-Sharon-Rd-94025/home/2051754', 'https://www.redfin.com/CA/Redwood-City/55-Murray-Ct-94061/home/1870953', 'https://www.redfin.com/CA/Half-Moon-Bay/208-Kelly-Ave-94019/home/1967606', 'https://www.redfin.com/CA/San-Mateo/3801-Southwood-Ave-94403/home/1533547', 'https://www.redfin.com/CA/San-Mateo/287-Waters-Park-Cir-94403/home/181877187', 'https://www.redfin.com/CA/Daly-City/70-Woodside-Ave-94015/home/2035575', 'https://www.redfin.com/CA/Redwood-City/3595-Altamont-Way-94062/home/1341715', 'https://www.redfin.com/CA/Redwood-City/1614-Hudson-St-94061/unit-114/home/1689176', 'https://www.redfin.com/CA/San-Bruno/3695-Sunset-Dr-94066/home/1226892', 'https://www.redfin.com/CA/Foster-City/954-Diaz-Ln-94404/home/2034890', 'https://www.redfin.com/CA/Menlo-Park/316-Laurel-Ave-94025/home/859469', 'https://www.redfin.com/CA/Menlo-Park/2355-Sharon-Oaks-Dr-94025/home/1542678', 'https://www.redfin.com/CA/Menlo-Park/385-Brandon-Way-94025/home/887242', 'https://www.redfin.com/CA/Daly-City/65-Alexander-Ave-94014/home/1704902', 'https://www.redfin.com/CA/Redwood-City/227-Park-St-94061/home/1123738', 'https://www.redfin.com/CA/San-Carlos/103-Mirabel-Pl-94070/home/101820502', 'https://www.redfin.com/CA/South-San-Francisco/3933-Haussman-Ct-94080/home/1576624', 'https://www.redfin.com/CA/Foster-City/1104-Admiralty-Ln-94404/home/2012675', 'https://www.redfin.com/CA/Burlingame/6079-Skyline-Blvd-94010/home/1001930', 'https://www.redfin.com/CA/Belmont/2411-Buena-Vista-Ave-94002/home/1088841', 'https://www.redfin.com/CA/Half-Moon-Bay/120-Coronado-Ave-94019/home/12226731', 'https://www.redfin.com/CA/Pacifica/528-Arguello-Blvd-94044/home/1723954', 'https://www.redfin.com/CA/Belmont/903-Ruth-Ave-94002/home/1958411', 'https://www.redfin.com/CA/Daly-City/370-Imperial-Way-94015/unit-116/home/2047927', 'https://www.redfin.com/CA/Millbrae/1112-Millbrae-Ave-94030/home/669324', 'https://www.redfin.com/CA/Menlo-Park/307-Concord-Dr-94025/home/2009444', 'https://www.redfin.com/CA/Woodside/4-Fremont-Way-94062/home/1892964', 'https://www.redfin.com/CA/San-Mateo/1656-Cottage-Grove-Ave-94401/home/1068679', 'https://www.redfin.com/CA/San-Mateo/2034-Sullivan-St-94403/home/1097487', 'https://www.redfin.com/CA/Menlo-Park/765-Fourteenth-Ave-94025/home/1836695', 'https://www.redfin.com/CA/Pacifica/6-Hinton-Ranch-Rd-94044/home/161279160', 'https://www.redfin.com/CA/Brisbane/532-Callippe-Ct-94005/home/1002024', 'https://www.redfin.com/CA/Belmont/2804-Highgate-Ave-94002/home/2059000', 'https://www.redfin.com/CA/East-Palo-Alto/1681-Notre-Dame-Ave-94303/home/863574', 'https://www.redfin.com/CA/Woodside/1550-Portola-Rd-94062/home/1525089', 'https://www.redfin.com/CA/Menlo-Park/740-Olive-St-94025/home/1857643', 'https://www.redfin.com/CA/San-Mateo/228-Virginia-Ave-94402/home/1572951', 'https://www.redfin.com/CA/EL-GRANADA/454-SEVILLA-AVE-94018/home/775836', 'https://www.redfin.com/CA/Montara/n-a-n-a-94037/home/181959777', 'https://www.redfin.com/CA/San-Bruno/1711-Crestwood-Dr-94066/home/1588894', 'https://www.redfin.com/CA/Redwood-City/2083-Washington-Ave-94061/home/1259441', 'https://www.redfin.com/CA/Colma/460-E-St-94014/home/573334', 'https://www.redfin.com/CA/Daly-City/42-Bepler-St-94014/home/1346466', 'https://www.redfin.com/CA/Redwood-City/1505-Glenn-Way-94061/home/1644209', 'https://www.redfin.com/CA/San-Mateo/425-Hillcrest-Rd-94402/home/1956137', 'https://www.redfin.com/CA/San-Carlos/185-Lyndhurst-Ave-94070/home/2057287', 'https://www.redfin.com/CA/Daly-City/196-Westmoor-Ave-94015/home/1236369', 'https://www.redfin.com/CA/Burlingame/1552-Alturas-Dr-94010/home/1692812', 'https://www.redfin.com/CA/Menlo-Park/520-Hobart-St-94025/home/1700928', 'https://www.redfin.com/CA/San-Mateo/1456-Tarrytown-St-94402/home/745673', 'https://www.redfin.com/CA/Burlingame/1338-Columbus-Ave-94010/home/1106880', 'https://www.redfin.com/CA/Redwood-City/803-Lakeshore-Dr-94065/home/1420489', 'https://www.redfin.com/CA/Daly-City/69-W-Cavour-St-94014/home/2059488', 'https://www.redfin.com/CA/Foster-City/2203-Admiralty-Ln-94404/home/2003544', 'https://www.redfin.com/CA/Daly-City/703-Price-St-94014/home/1861336', 'https://www.redfin.com/CA/Daly-City/12-Carmel-Ave-94015/home/1671894', 'https://www.redfin.com/CA/Pacifica/524-Monterey-Rd-94044/home/2007685', 'https://www.redfin.com/CA/San-Bruno/1234-Shelter-Creek-Ln-94066/home/2045095', 'https://www.redfin.com/CA/Daly-City/92-Yacht-Ln-94014/unit-071/home/181997440', 'https://www.redfin.com/CA/Brisbane/737-San-Bruno-Ave-94005/unit-4/home/964394'}, 'Alameda-County': {'https://www.redfin.com/CA/Oakland/754-Alcatraz-Ave-94609/home/1869301', 'https://www.redfin.com/CA/Livermore/240-Scherman-Way-94550/home/1553627', 'https://www.redfin.com/CA/Livermore/307-Garden-Cmn-94551/home/898494', 'https://www.redfin.com/CA/Livermore/1344-Wilton-Rd-94551/home/1680172', 'https://www.redfin.com/CA/San-Leandro/1849-Benedict-Dr-94577/home/1046417', 'https://www.redfin.com/CA/Fremont/478-Pagoda-Ter-94539/home/21943777', 'https://www.redfin.com/CA/Oakland/1312-92nd-Ave-94603/home/1862786', 'https://www.redfin.com/CA/Pleasanton/2039-Spring-Creek-Ter-94566/home/182013640', 'https://www.redfin.com/CA/Berkeley/2132-Stuart-St-94705/home/1003149', 'https://www.redfin.com/CA/Alameda/2244-Clinton-Ave-94501/home/737169', 'https://www.redfin.com/CA/Pleasanton/3563-Norton-Way-94566/home/1988609', 'https://www.redfin.com/CA/Livermore/3969-Princeton-Way-94550/home/1734038', 'https://www.redfin.com/CA/Alameda/1809-Pacific-Ave-94501/home/1366330', 'https://www.redfin.com/CA/Berkeley/738-Neilson-St-94707/home/732746', 'https://www.redfin.com/CA/Oakland/1600-Peralta-St-94607/home/22657649', 'https://www.redfin.com/CA/Oakland/2403-99th-Ave-94603/home/1330551', 'https://www.redfin.com/CA/Alameda/1093-Melrose-Ave-94502/home/1778072', 'https://www.redfin.com/CA/Alameda/3128-El-Sereno-94502/home/1865670', 'https://www.redfin.com/CA/Fremont/3836-Scamman-Ct-94538/home/1898833', 'https://www.redfin.com/CA/Hayward/24047-Edloe-Dr-94541/home/1316140', 'https://www.redfin.com/CA/Oakland/2474-Seminary-Ave-94605/home/570024', 'https://www.redfin.com/CA/Dublin/5333-Hazeltine-Ln-94568/home/1241397', 'https://www.redfin.com/CA/San-Leandro/2015-Spirit-Way-94579/home/808082', 'https://www.redfin.com/CA/Oakland/2535-10th-Ave-94606/home/659863', 'https://www.redfin.com/CA/Oakland/425-W-MacArthur-Blvd-94609/home/1039987', 'https://www.redfin.com/CA/Oakland/2543-Humboldt-Ave-94601/home/1744119', 'https://www.redfin.com/CA/Oakland/819-Paramount-Rd-94610/home/530622', 'https://www.redfin.com/CA/Dublin/7865-Tamarack-Dr-94568/home/1116060', 'https://www.redfin.com/CA/Oakland/50-Schooner-Hl-94618/home/1931001', 'https://www.redfin.com/CA/Hayward/1000-Clubhouse-Dr-94541/home/1429634', 'https://www.redfin.com/CA/San-Leandro/16716-Kildare-Rd-94578/home/1675866', 'https://www.redfin.com/CA/Fremont/38985-Gar-Ter-94536/home/1580880', 'https://www.redfin.com/CA/San-Leandro/15902-Mateo-St-94578/home/1112026', 'https://www.redfin.com/CA/Alameda/468-Lincoln-Ave-94501/home/1988724', 'https://www.redfin.com/CA/Hayward/553-Olympic-Ave-94544/home/1585918', 'https://www.redfin.com/CA/Berkeley/1401-Walnut-St-94709/unit-1A/home/1098885', 'https://www.redfin.com/CA/Oakland/1115-72nd-Ave-94621/home/1412838', 'https://www.redfin.com/CA/Oakland/9510-Plymouth-St-94603/home/531148', 'https://www.redfin.com/CA/Oakland/11270-Lochard-St-94605/home/113783831', 'https://www.redfin.com/CA/Fremont/4825-Valpey-Park-Ave-94538/home/2012292', 'https://www.redfin.com/CA/Hayward/24632-Diamond-Ridge-Dr-94544/home/1751640', 'https://www.redfin.com/CA/Oakland/1347-89th-Ave-94621/home/1712652', 'https://www.redfin.com/CA/Castro-Valley/19579-Carlton-Ave-94546/home/1521511', 'https://www.redfin.com/CA/Oakland/801-Franklin-St-94607/unit-1005/home/524948', 'https://www.redfin.com/CA/Oakland/1-Lakeside-Dr-94612/unit-421/home/1505883', 'https://www.redfin.com/CA/Livermore/1855-Vancouver-Way-94550/home/1439758', 'https://www.redfin.com/CA/Alameda/1101-Park-Ave-94501/home/723211', 'https://www.redfin.com/CA/Fremont/5663-Poplar-Cmn-94538/home/1603311', 'https://www.redfin.com/CA/Oakland/1308-E-19th-St-94606/home/533373', 'https://www.redfin.com/CA/Berkeley/1034-Amito-Ave-94705/home/18553081', 'https://www.redfin.com/CA/Dublin/7323-Starward-Dr-94568/unit-14/home/12117767', 'https://www.redfin.com/CA/Hayward/28817-Hideaway-St-94544/home/180740108', 'https://www.redfin.com/CA/Oakland/534-25th-St-94612/home/1531582', 'https://www.redfin.com/CA/Oakland/1201-Pine-St-94607/unit-349/home/22961882', 'https://www.redfin.com/CA/Oakland/3709-Keller-Ave-94605/home/1590008', 'https://www.redfin.com/CA/Berkeley/2057-Emerson-St-94703/home/654872', 'https://www.redfin.com/CA/San-Leandro/1863-Edgehill-Ct-94577/home/1933802', 'https://www.redfin.com/CA/Oakland/1115-Chestnut-St-94607/home/996509', 'https://www.redfin.com/CA/Dublin/6735-Pearl-Pl-94568/home/1902104', 'https://www.redfin.com/CA/Berkeley/2153-Sacramento-St-94702/home/529193', 'https://www.redfin.com/CA/Berkeley/3390-Dwight-Way-94704/home/1947011', 'https://www.redfin.com/CA/Emeryville/4300-Adeline-St-94608/home/634083', 'https://www.redfin.com/CA/Berkeley/2336-Dwight-Way-94704/home/182021722', 'https://www.redfin.com/CA/Berkeley/1901-Parker-St-94704/unit-1/home/95473173', 'https://www.redfin.com/CA/San-Leandro/14358-Tiburon-Rd-94577/home/800981', 'https://www.redfin.com/CA/San-Leandro/174-Haas-Ave-94577/home/762500', 'https://www.redfin.com/CA/Oakland/54-Carisbrook-Ln-94611/home/146008355', 'https://www.redfin.com/CA/Union-City/31247-Fredi-St-94587/home/1491772', 'https://www.redfin.com/CA/Castro-Valley/3131-Somerset-Ave-94546/home/182028997', 'https://www.redfin.com/CA/Hayward/29784-Hansen-ST-94544/home/182087101', 'https://www.redfin.com/CA/Oakland/5408-Bryant-Ave-94618/home/1655434', 'https://www.redfin.com/CA/Berkeley/1208-Blake-St-94702/home/887998', 'https://www.redfin.com/CA/Hayward/1151-Tamalpais-Pl-94542/home/112886715', 'https://www.redfin.com/CA/Livermore/6113-Augusta-Way-94551/home/923663', 'https://www.redfin.com/CA/Pleasanton/4100-Foothill-Rd-94588/home/1514325', 'https://www.redfin.com/CA/Berkeley/1208-Ordway-St-94706/home/1845129', 'https://www.redfin.com/CA/Oakland/215-Hunter-Ave-94603/home/1525169', 'https://www.redfin.com/CA/Alameda/713-Pacific-Ave-94501/home/1994169', 'https://www.redfin.com/CA/Union-City/32808-Regents-Blvd-94587/home/1140001', 'https://www.redfin.com/CA/Oakland/427-Cavour-St-94618/home/908795', 'https://www.redfin.com/CA/Fremont/279-Hackamore-Cmn-94539/home/1097205', 'https://www.redfin.com/CA/Fremont/5195-Amberwood-Dr-94555/home/1151236', 'https://www.redfin.com/CA/Oakland/9601-Las-Vegas-Ave-94605/home/1458733', 'https://www.redfin.com/CA/Oakland/3-Embarcadero-W-94607/unit-344/home/1854642', 'https://www.redfin.com/CA/Castro-Valley/19713-Mabel-Pl-94546/home/530057', 'https://www.redfin.com/CA/San-Leandro/15087-Andover-St-94579/home/1779416', 'https://www.redfin.com/CA/San-Leandro/16301-Ridgehaven-Dr-94578/unit-1404/home/168811738', 'https://www.redfin.com/CA/Newark/6512-Garrone-Ave-94560/home/1846755', 'https://www.redfin.com/CA/Oakland/Undisclosed-address-94605/home/1856309', 'https://www.redfin.com/CA/Union-City/34806-Starling-Dr-94587/unit-3/home/103459741', 'https://www.redfin.com/CA/Hayward/21062-Gary-Dr-94546/unit-110/home/1969333', 'https://www.redfin.com/CA/Newark/5129-Dupont-Ave-94560/home/625853', 'https://www.redfin.com/CA/Pleasanton/495-Mavis-Dr-94566/home/746608', 'https://www.redfin.com/CA/Oakland/1900-22nd-Ave-94606/home/2029589', 'https://www.redfin.com/CA/Fremont/38419-Timpanogas-Cir-94536/home/1024872', 'https://www.redfin.com/CA/Oakland/2471-Cordova-St-94602/home/540265', 'https://www.redfin.com/CA/Pleasanton/258-Birch-Creek-Dr-94566/home/870655', 'https://www.redfin.com/CA/Union-City/33024-Alicante-Ter-94587/home/1413425', 'https://www.redfin.com/CA/Oakland/2919-Delaware-St-94602/home/1141386', 'https://www.redfin.com/CA/Hayward/554-Beechmont-Ln-94544/home/640827', 'https://www.redfin.com/CA/Hayward/667-Delve-CT-94544/home/181967401', 'https://www.redfin.com/CA/Union-City/32414-Regents-Blvd-94587/home/1299298', 'https://www.redfin.com/CA/Oakland/137-Thousand-Oaks-St-94605/home/748480', 'https://www.redfin.com/CA/Dublin/11825-Dublin-Green-Dr-94568/home/1738702', 'https://www.redfin.com/CA/San-Leandro/2218-Charter-Way-94579/home/1960619', 'https://www.redfin.com/CA/Newark/35845-Tozier-St-94560/home/851032', 'https://www.redfin.com/CA/Union-City/32022-Arya-Ct-94587/unit-6A/home/1036163', 'https://www.redfin.com/CA/Castro-Valley/2720-Talbot-Ln-94546/home/598596', 'https://www.redfin.com/CA/Oakland/963-35th-St-94608/home/525791', 'https://www.redfin.com/CA/San-Lorenzo/1238-Via-Vis-94580/home/1941610', 'https://www.redfin.com/CA/Oakland/6251-Hillmont-Dr-94605/home/1307296', 'https://www.redfin.com/CA/Fremont/5225-Morris-Way-94536/home/562682', 'https://www.redfin.com/CA/Oakland/6116-Ruthland-Rd-94611/home/1357634', 'https://www.redfin.com/CA/Hayward/811-Leonardo-Way-94541/home/895258', 'https://www.redfin.com/CA/Oakland/320-Caldecott-Ln-94618/unit-207/home/1620186', 'https://www.redfin.com/CA/Hayward/429-Industrial-Pkwy-94544/home/182030138', 'https://www.redfin.com/CA/Oakland/Undisclosed-address-94619/home/1952424', 'https://www.redfin.com/CA/Oakland/1125-11th-Ave-94606/home/1841424', 'https://www.redfin.com/CA/Livermore/1092-Andalucia-St-94550/home/1885113', 'https://www.redfin.com/CA/Fremont/38831-Garibaldi-Cmn-94536/home/1072123', 'https://www.redfin.com/CA/Hayward/22237-Victory-Dr-94541/home/1979922', 'https://www.redfin.com/CA/Castro-Valley/22739-Canyon-Terrace-Dr-94552/unit-3/home/182051326', 'https://www.redfin.com/CA/Fremont/1540-Skelton-Ct-94536/home/1068218', 'https://www.redfin.com/CA/Berkeley/1281-Berkeley-Way-94702/home/531551', 'https://www.redfin.com/CA/Berkeley/2439-Roosevelt-Ave-94703/home/668240', 'https://www.redfin.com/CA/Dublin/5416-Saffron-Way-94568/home/181805702', 'https://www.redfin.com/CA/Hayward/25931-Fairview-Ave-94542/home/1595558', 'https://www.redfin.com/CA/Pleasanton/8107-Arroyo-Dr-94588/unit-2/home/103459659', 'https://www.redfin.com/CA/Berkeley/915-Cedar-St-94710/home/688346', 'https://www.redfin.com/CA/Castro-Valley/17880-Apricot-Way-94546/home/1732683', 'https://www.redfin.com/CA/Livermore/1257-Amalfi-Cmn-94551/home/1223089', 'https://www.redfin.com/CA/Fremont/5116-Trade-Wind-Ln-94538/home/1560081', 'https://www.redfin.com/CA/Oakland/1357-91st-Ave-94603/home/587963', 'https://www.redfin.com/CA/Oakland/724-36th-St-94609/home/527726', 'https://www.redfin.com/CA/San-Leandro/16522-Foothill-Blvd-94578/home/795765', 'https://www.redfin.com/CA/San-Leandro/15368-Ruggles-St-94579/home/805163', 'https://www.redfin.com/CA/Pleasanton/1250-Germano-Way-94566/home/1205395', 'https://www.redfin.com/CA/Oakland/2836-Parker-Ave-94605/home/1161575', 'https://www.redfin.com/CA/Hayward/23425-Thurston-Ct-94541/home/963167', 'https://www.redfin.com/CA/Dublin/4637-Rimini-Ct-94568/home/28646221', 'https://www.redfin.com/CA/Piedmont/199-La-Salle-Ave-94610/home/1497762', 'https://www.redfin.com/CA/Dublin/3385-Dublin-Blvd-94568/unit-243/home/17183755', 'https://www.redfin.com/CA/Oakland/2863-Birdsall-Ave-94619/home/1981444', 'https://www.redfin.com/CA/Pleasanton/2556-Via-Espada-94566/home/809917', 'https://www.redfin.com/CA/Hayward/217-Spring-Harvest-Rd-94544/home/147280492', 'https://www.redfin.com/CA/San-Leandro/907-Victoria-Ave-94577/home/1311317', 'https://www.redfin.com/CA/Hayward/24866-Yoshida-Dr-94545/home/986145', 'https://www.redfin.com/CA/San-Leandro/15233-Laverne-Ct-94579/home/1675427', 'https://www.redfin.com/CA/Hayward/231-Carrick-Cir-94542/home/22807768', 'https://www.redfin.com/CA/Oakland/3129-Market-St-94608/home/2016903', 'https://www.redfin.com/CA/Fremont/34758-Jovan-Ter-94555/home/1476451', 'https://www.redfin.com/CA/Alameda/5-Eclipse-Ct-94501/home/181983214', 'https://www.redfin.com/CA/Oakland/2207-64th-Ave-94605/home/570131', 'https://www.redfin.com/CA/Oakland/722-31st-St-94609/home/1909860', 'https://www.redfin.com/CA/San-Lorenzo/16050-Via-Conejo-94580/home/1452023', 'https://www.redfin.com/CA/Hayward/1150-W-Winton-Ave-94545/unit-122/home/45484143', 'https://www.redfin.com/CA/Berkeley/2614-Warring-St-94704/unit-7/home/1578435', 'https://www.redfin.com/CA/Castro-Valley/4663-Seven-Hills-Rd-94546/home/825243', 'https://www.redfin.com/CA/Berkeley/515-Woodmont-Ave-94708/home/703535', 'https://www.redfin.com/CA/Livermore/2055-Calibria-Ct-94550/home/2110497', 'https://www.redfin.com/CA/San-Leandro/128-Euclid-Ave-94577/home/755516', 'https://www.redfin.com/CA/Oakland/739-Campbell-St-94607/home/22657620', 'https://www.redfin.com/CA/Pleasanton/5748-Highbluff-Ter-94588/home/1897024', 'https://www.redfin.com/CA/Alameda/16-Garden-Rd-94502/home/732068', 'https://www.redfin.com/CA/Piedmont/19-Dormidera-Ave-94611/home/1643548', 'https://www.redfin.com/CA/San-Lorenzo/17537-Wickman-Ct-94580/home/1836886', 'https://www.redfin.com/CA/Oakland/411-Bellevue-Ave-94610/home/999523', 'https://www.redfin.com/CA/San-Leandro/648-Elsie-Ave-94577/home/763265', 'https://www.redfin.com/CA/Oakland/1007-Yerba-Buena-Ave-94608/home/1194267', 'https://www.redfin.com/CA/Oakland/5061-Parkridge-Dr-94619/home/832485', 'https://www.redfin.com/CA/Alameda/1200-Regent-St-94501/home/1366231', 'https://www.redfin.com/CA/Union-City/3092-San-Andreas-Dr-94587/home/1526891', 'https://www.redfin.com/CA/Oakland/3982-Turnley-Ave-94605/home/1619031', 'https://www.redfin.com/CA/Union-City/2453-Becket-Dr-94587/home/1030952', 'https://www.redfin.com/CA/Livermore/93-Fawn-Dr-94550/home/1647189', 'https://www.redfin.com/CA/Castro-Valley/3669-Pinon-Canyon-Ct-94552/home/2046926', 'https://www.redfin.com/CA/Hayward/22562-Hennings-Ct-94541/home/1719416', 'https://www.redfin.com/CA/Berkeley/1622-Buena-Ave-94703/home/1883145', 'https://www.redfin.com/CA/Hayward/2522-Admiral-Cir-94545/home/143117565', 'https://www.redfin.com/CA/Oakland/5823-Picardy-Dr-94605/home/1820868', 'https://www.redfin.com/CA/Oakland/285-Sextus-Rd-94603/home/1577262', 'https://www.redfin.com/CA/Pleasanton/4916-Canary-Dr-94566/home/1961112', 'https://www.redfin.com/CA/Hayward/26307-Regal-Ave-94544/home/1011660', 'https://www.redfin.com/CA/San-Lorenzo/18351-Via-Jose-94580/home/1718756', 'https://www.redfin.com/CA/Pleasanton/3231-Vineyard-Ave-94566/unit-77/home/18902475', 'https://www.redfin.com/CA/Oakland/3278-Helen-St-94608/home/525367', 'https://www.redfin.com/CA/Oakland/630-Thomas-L-Berkley-Way-94612/unit-801/home/40627052', 'https://www.redfin.com/CA/Dublin/7583-Carlow-Way-94568/home/1770554', 'https://www.redfin.com/CA/Fremont/42831-Via-Puebla-94539/home/1081659', 'https://www.redfin.com/CA/Dublin/8919-San-Ramon-Rd-94568/home/182015157', 'https://www.redfin.com/CA/Berkeley/683-Arlington-Ave-94707/home/698060', 'https://www.redfin.com/CA/Oakland/2524-76th-Ave-94605/home/1911002', 'https://www.redfin.com/CA/Pleasanton/3231-Verde-Ct-94588/home/1574593', 'https://www.redfin.com/CA/Oakland/6065-Chabot-Rd-94618/home/1775959', 'https://www.redfin.com/CA/Hayward/32371-Seneca-St-94544/home/1996994', 'https://www.redfin.com/CA/Piedmont/71-Dudley-Ave-94611/home/647800', 'https://www.redfin.com/CA/Oakland/874-36th-St-94608/home/1076886', 'https://www.redfin.com/CA/Oakland/2624-79th-Ave-94605/home/574713', 'https://www.redfin.com/CA/Oakland/3410-Birdsall-Ave-94619/home/786753', 'https://www.redfin.com/CA/OAKLAND/1251-82ND-AVE-94621/home/1607797', 'https://www.redfin.com/CA/Dublin/11503-Silvergate-Dr-94568/home/1988033', 'https://www.redfin.com/CA/Livermore/1751-Old-Tower-Rd-94550/home/879246', 'https://www.redfin.com/CA/Berkeley/1149-Hearst-Ave-94702/home/677408', 'https://www.redfin.com/CA/Pleasanton/4349-Second-St-94566/home/1383481', 'https://www.redfin.com/CA/Fremont/38228-Paseo-Padre-Pkwy-94536/unit-31/home/1318046', 'https://www.redfin.com/CA/Oakland/311-2nd-St-94607/unit-306/home/57179839', 'https://www.redfin.com/CA/Oakland/5005-Crystal-Ridge-Ct-94605/home/1910898', 'https://www.redfin.com/CA/Oakland/8232-Golf-Links-Rd-94605/home/1743505', 'https://www.redfin.com/CA/Oakland/6570-Girvin-Dr-94611/home/182062173', 'https://www.redfin.com/CA/Berkeley/1117-Keith-Ave-94708/home/705599', 'https://www.redfin.com/CA/Union-City/31133-Alvarado-Niles-Rd-94587/home/182047225', 'https://www.redfin.com/CA/Fremont/39206-Guardino-Dr-94538/unit-210/home/1828033', 'https://www.redfin.com/CA/Newark/38992-Primula-Ter-94560/home/143119296', 'https://www.redfin.com/CA/Oakland/850-W-Grand-Ave-94607/unit-2/home/22956794', 'https://www.redfin.com/CA/Oakland/8317-Skyline-Blvd-94611/home/1892162', 'https://www.redfin.com/CA/Oakland/410-Webster-St-94607/unit-2/home/181945717', 'https://www.redfin.com/CA/Hayward/2167-Brandywine-Pl-94542/home/1314895', 'https://www.redfin.com/CA/Berkeley/923-Euclid-Ave-94708/home/1947646', 'https://www.redfin.com/CA/Oakland/70-Yosemite-Ave-94611/unit-106/home/1903797', 'https://www.redfin.com/CA/Oakland/815-40th-St-94608/home/785279', 'https://www.redfin.com/CA/Union-City/32512-Sheila-Ct-94587/home/1262798', 'https://www.redfin.com/CA/Fremont/43275-Coit-Ave-94539/home/1182412', 'https://www.redfin.com/CA/Alameda/522-Oak-Ridge-LN-94501/home/182073175', 'https://www.redfin.com/CA/Livermore/860-Comanche-Ct-94551/home/1048868', 'https://www.redfin.com/CA/Oakland/1691-MacArthur-Blvd-94602/home/1096149', 'https://www.redfin.com/CA/Fremont/38345-Blacow-Rd-94536/home/1505543', 'https://www.redfin.com/CA/Pleasanton/4121-Grant-Ct-94566/home/548477', 'https://www.redfin.com/CA/Oakland/6827-Ridgewood-Dr-94611/home/2000828', 'https://www.redfin.com/CA/Oakland/311-Oak-St-94607/unit-27/home/1478589', 'https://www.redfin.com/CA/Hayward/25042-Dania-Ln-94545/home/1441539', 'https://www.redfin.com/CA/Oakland/3926-Woodruff-Ave-94602/home/921479', 'https://www.redfin.com/CA/Hayward/24221-2nd-St-94541/home/160883041', 'https://www.redfin.com/CA/Oakland/1710-36th-Ave-94601/home/553306', 'https://www.redfin.com/CA/Hayward/658-River-Oak-Way-94544/unit-76/home/1370219', 'https://www.redfin.com/CA/Newark/6153-Thornton-Ave-94560/unit-A/home/1940847', 'https://www.redfin.com/CA/SAN-LORENZO/0-Foothill-BLVD-94580/home/181970891', 'https://www.redfin.com/CA/Fremont/39206-Guardino-Dr-94538/unit-211/home/568538', 'https://www.redfin.com/CA/Albany/535-Pierce-St-94706/unit-5404/home/1192253', 'https://www.redfin.com/CA/Oakland/2324-Harrington-Ave-94601/home/1843249', 'https://www.redfin.com/CA/Hayward/3763-Oakes-Dr-94542/home/1179926', 'https://www.redfin.com/CA/Oakland/3108-Galindo-St-94601/home/1670750', 'https://www.redfin.com/CA/Oakland/1631-51st-Ave-94601/home/1999566', 'https://www.redfin.com/CA/Fremont/43501-Ocaso-Corte-94539/home/545590', 'https://www.redfin.com/CA/Newark/6153-Madelaine-Dr-94560/home/1674974', 'https://www.redfin.com/CA/Oakland/4426-Penniman-Ave-94619/home/561405', 'https://www.redfin.com/CA/Alameda/2117-Encinal-Ave-94501/home/1833588', 'https://www.redfin.com/CA/Oakland/4439-Penniman-Ave-94619/home/1986982', 'https://www.redfin.com/CA/Oakland/9327-Plymouth-St-94603/home/1882079', 'https://www.redfin.com/CA/Berkeley/1330-Haskell-St-94702/home/1807560', 'https://www.redfin.com/CA/Oakland/9841-Maddux-Dr-94603/home/1856260', 'https://www.redfin.com/CA/Hayward/3358-Saddle-Dr-94541/home/22811224', 'https://www.redfin.com/CA/Berkeley/1409-Oxford-St-94709/unit-1/home/1578748', 'https://www.redfin.com/CA/Livermore/679-James-St-94551/home/881305', 'https://www.redfin.com/CA/San-Lorenzo/1457-Via-Manzanas-94580/home/2008523', 'https://www.redfin.com/CA/Alameda/542-Oak-Ridge-LN-94501/home/182071281', 'https://www.redfin.com/CA/Oakland/103-Glen-Ave-94611/home/1910127', 'https://www.redfin.com/CA/San-Leandro/2077-Washington-Ave-94577/unit-110/home/1846380', 'https://www.redfin.com/CA/Hayward/725-Auburn-Pl-94544/unit-212/home/1897276', 'https://www.redfin.com/CA/Oakland/3821-Buell-St-94619/home/1231764', 'https://www.redfin.com/CA/Emeryville/6466-Hollis-St-94608/unit-336/home/22812016', 'https://www.redfin.com/CA/Hayward/3672-Skyline-Dr-94542/home/817623', 'https://www.redfin.com/CA/Oakland/Sayre-Dr-94611/home/21669142', 'https://www.redfin.com/CA/Union-City/2475-Ascot-Way-94587/home/1517551', 'https://www.redfin.com/CA/Emeryville/1121-40th-St-94608/unit-4108/home/2112007', 'https://www.redfin.com/CA/Oakland/6935-Snake-Rd-94611/home/711549', 'https://www.redfin.com/CA/Union-City/4432-Viejo-Way-94587/home/1265207', 'https://www.redfin.com/CA/Fremont/40823-Raduno-Ter-94538/home/168829512', 'https://www.redfin.com/CA/San-Leandro/Undisclosed-address-94577/home/790812', 'https://www.redfin.com/CA/Union-City/33104-9th-St-94587/home/1597485', 'https://www.redfin.com/CA/Alameda/37-Oak-Park-Dr-94502/home/1652934', 'https://www.redfin.com/CA/Oakland/303-Adams-St-94610/unit-206/home/912847', 'https://www.redfin.com/CA/Union-City/3011-Risdon-Dr-94587/unit-8/home/2042794', 'https://www.redfin.com/CA/Newark/5062-Winsford-Ct-94560/home/1313556', 'https://www.redfin.com/CA/Piedmont/79-Sandringham-Rd-94611/home/1225343', 'https://www.redfin.com/CA/Oakland/1201-67th-St-94608/home/2111861', 'https://www.redfin.com/CA/Livermore/709-Adams-Ave-94550/home/907620', 'https://www.redfin.com/CA/Oakland/414-E-12th-St-94606/home/175637250', 'https://www.redfin.com/CA/Hayward/26667-Wauchula-Way-94545/home/1596779', 'https://www.redfin.com/CA/Pleasanton/1988-Via-Di-Salerno-94566/home/1537857', 'https://www.redfin.com/CA/Hayward/26337-Huntwood-Ave-94544/home/1579421', 'https://www.redfin.com/CA/Albany/816-Pomona-Ave-94706/home/1994122', 'https://www.redfin.com/CA/Oakland/2420-Ritchie-St-94605/home/574614', 'https://www.redfin.com/CA/Dublin/11642-Betlen-Dr-94568/home/1507725', 'https://www.redfin.com/CA/Fremont/42681-Lerwick-St-94539/home/1598446', 'https://www.redfin.com/CA/Oakland/3078-73rd-Ave-94605/home/577448', 'https://www.redfin.com/CA/Fremont/816-Hunter-Ln-94539/home/167269082', 'https://www.redfin.com/CA/Pleasanton/2166-Shadow-Creek-Ct-94566/home/182013391', 'https://www.redfin.com/CA/Hayward/23420-Maud-Ave-94541/home/960178', 'https://www.redfin.com/CA/Berkeley/745-Keeler-Ave-94708/home/1893288', 'https://www.redfin.com/CA/Oakland/1732-7th-Ave-94606/home/1195508', 'https://www.redfin.com/CA/San-Leandro/1188-Cherrybrooke-Cmns-94578/home/2112144', 'https://www.redfin.com/CA/Hayward/2275-Gibbons-St-94541/home/57180470', 'https://www.redfin.com/CA/Berkeley/2123-Spaulding-Ave-94703/home/1165572', 'https://www.redfin.com/CA/Oakland/222-Broadway-94607/unit-1004/home/28696717', 'https://www.redfin.com/CA/Oakland/260-Caldecott-Ln-94618/unit-111/home/1357709', 'https://www.redfin.com/CA/Oakland/817-Henry-St-94607/home/525086', 'https://www.redfin.com/CA/Hayward/24604-2nd-St-94541/home/1856810', 'https://www.redfin.com/CA/Fremont/45346-Lumen-Ter-94539/unit-102/home/181810790', 'https://www.redfin.com/CA/Fremont/4467-Red-Oak-Cmn-94538/home/1791298', 'https://www.redfin.com/CA/Oakland/67-Norman-Ln-94618/home/1619375', 'https://www.redfin.com/CA/Oakland/3619-Midvale-Ave-94602/home/1223843', 'https://www.redfin.com/CA/Fremont/3425-Inspiration-Way-94538/unit-300/home/179650572', 'https://www.redfin.com/CA/Hayward/722-Archcliff-Ct-94544/home/789793', 'https://www.redfin.com/CA/Oakland/61-Spyglass-Hl-94618/home/1914791', 'https://www.redfin.com/CA/San-Leandro/824-Dolores-Ave-94577/home/761153', 'https://www.redfin.com/CA/Fremont/4353-Margery-Dr-94538/home/1266621', 'https://www.redfin.com/CA/Oakland/2430-27th-Ave-94601/home/1141240', 'https://www.redfin.com/CA/Oakland/2665-79th-Ave-94605/home/17188173', 'https://www.redfin.com/CA/Pleasanton/3837-Vineyard-Ave-94566/unit-22/home/1389450', 'https://www.redfin.com/CA/Pleasanton/3392-Rosada-Ct-94588/home/1770922', 'https://www.redfin.com/CA/Alameda/9-Eclipse-Ct-94501/home/181983215', 'https://www.redfin.com/CA/Fremont/3505-Sutton-Loop-94536/home/1129716', 'https://www.redfin.com/CA/Oakland/6689-Thorndale-Dr-94611/home/181811963', 'https://www.redfin.com/CA/Fremont/33828-Juliet-Cir-94555/home/1754611', 'https://www.redfin.com/CA/Fremont/38549-Goodrich-Way-94536/home/1073112', 'https://www.redfin.com/CA/Fremont/45158-Tom-Blalock-St-94539/unit-209/home/181809407', 'https://www.redfin.com/CA/Castro-Valley/20253-Meadowlark-Dr-94546/home/1293482', 'https://www.redfin.com/CA/Oakland/881-Athens-Ave-94607/home/1396800', 'https://www.redfin.com/CA/Oakland/532-Aileen-St-94609/home/1285794', 'https://www.redfin.com/CA/Fremont/41535-Roberts-Ave-94538/home/1865010', 'https://www.redfin.com/CA/Oakland/2506-Highland-Ave-94606/home/1630735', 'https://www.redfin.com/CA/Oakland/222-Broadway-94607/unit-1012/home/28696709', 'https://www.redfin.com/CA/Piedmont/311-Ramona-Ave-94611/home/1572926', 'https://www.redfin.com/CA/Oakland/1916-Melvin-Rd-94602/home/545887', 'https://www.redfin.com/CA/Berkeley/2750-Cedar-St-94708/home/95473216', 'https://www.redfin.com/CA/Oakland/4415-Pleasant-Valley-Ct-N-94611/home/2029498', 'https://www.redfin.com/CA/Oakland/429-36th-St-94609/home/535933', 'https://www.redfin.com/CA/Alameda/817-Santa-Clara-Ave-94501/home/918142', 'https://www.redfin.com/CA/Hayward/25307-Parklane-Dr-94544/home/168818451', 'https://www.redfin.com/CA/Berkeley/1602-Oregon-St-94703/home/1762770', 'https://www.redfin.com/CA/Hayward/31842-Trevor-Ave-94544/home/788907', 'https://www.redfin.com/CA/Oakland/323-Monte-Vista-Ave-94611/unit-304/home/762772', 'https://www.redfin.com/CA/LIVERMORE/608-N-N-ST-94551/home/1502153', 'https://www.redfin.com/CA/Oakland/1201-Pine-St-94607/unit-353/home/28696835', 'https://www.redfin.com/CA/Pleasanton/3803-Robby-Ct-94566/home/168832955', 'https://www.redfin.com/CA/Oakland/1615-Broadway-94612/unit-14/home/28696546', 'https://www.redfin.com/CA/Pleasanton/649-Abbie-St-94566/home/717079', 'https://www.redfin.com/CA/Fremont/3697-Access-CMN-94538/home/179289635', 'https://www.redfin.com/CA/Oakland/6622-Tremont-St-94609/home/1986525', 'https://www.redfin.com/CA/Alameda/1432-Fernside-Blvd-94501/home/917685', 'https://www.redfin.com/CA/Hayward/1663-Sylvia-St-94545/home/95472829', 'https://www.redfin.com/CA/Hayward/1212-Gomer-St-94544/home/1769083', 'https://www.redfin.com/CA/Oakland/950-Blenheim-St-94603/home/590198', 'https://www.redfin.com/CA/San-Leandro/1950-Fairbanks-St-94577/home/1370009', 'https://www.redfin.com/CA/Oakland/1-Lakeside-Dr-94612/unit-1205/home/1647227', 'https://www.redfin.com/CA/Dublin/5977-Lombard-St-94568/home/168834937', 'https://www.redfin.com/CA/Berkeley/1206-Delaware-St-94702/home/1379389', 'https://www.redfin.com/CA/Berkeley/3444-Dwight-Way-94704/home/1232889', 'https://www.redfin.com/CA/Union-City/1060-Turquoise-Ter-94587/home/12118718', 'https://www.redfin.com/CA/Oakland/1430-8th-Ave-94606/home/1774757'}, 'Santa-Clara-County': {'https://www.redfin.com/CA/San-Jose/732-Asbury-St-95126/home/1279602', 'https://www.redfin.com/CA/San-Jose/1069-Mazzone-Dr-95120/home/1750028', 'https://www.redfin.com/CA/Sunnyvale/1332-Nelson-Way-94087/home/770358', 'https://www.redfin.com/CA/San-Jose/675-Albion-Dr-95136/home/1266034', 'https://www.redfin.com/CA/San-Jose/3760-Nieman-Blvd-95121/home/1667118', 'https://www.redfin.com/CA/San-Jose/1235-Magnolia-Ave-95126/home/1097801', 'https://www.redfin.com/CA/Sunnyvale/1267-Riesling-Ter-94087/home/869600', 'https://www.redfin.com/CA/San-Jose/3175-Locke-Dr-95111/home/1555932', 'https://www.redfin.com/CA/Los-Gatos/14411-Shannon-Rd-95032/home/12433684', 'https://www.redfin.com/CA/Palo-Alto/144-Kingsley-Ave-94301/home/1771004', 'https://www.redfin.com/CA/San-Jose/1373-Garrans-Dr-95130/home/1284009', 'https://www.redfin.com/CA/San-Jose/1964-Harmil-Way-95125/home/1477485', 'https://www.redfin.com/CA/San-Jose/3245-Janelle-Dr-95148/home/956580', 'https://www.redfin.com/CA/Mountain-View/3400-Pyramid-Way-94043/home/143042963', 'https://www.redfin.com/CA/San-Jose/1491-Pompey-Dr-95128/home/1497316', 'https://www.redfin.com/CA/Sunnyvale/1050-Borregas-Ave-94089/unit-178/home/181930212', 'https://www.redfin.com/CA/San-Jose/2425-Woodland-Ave-95128/home/1492192', 'https://www.redfin.com/CA/Mountain-View/400-Tyrella-Ave-94043/home/182086778', 'https://www.redfin.com/CA/Los-Gatos/15032-Briggs-Ct-95032/unit-110/home/177677718', 'https://www.redfin.com/CA/Milpitas/1617-Carl-Ave-95035/home/1628072', 'https://www.redfin.com/CA/Milpitas/696-Amalfi-Lp-95035/home/172917352', 'https://www.redfin.com/CA/San-Jose/7235-Via-Mimosa-95135/home/1664090', 'https://www.redfin.com/CA/San-Jose/3665-Calico-Ave-95124/home/773404', 'https://www.redfin.com/CA/San-Jose/2194-Stratton-Pl-95131/home/693299', 'https://www.redfin.com/CA/San-Jose/1486-Midfield-Ave-95122/home/554564', 'https://www.redfin.com/CA/Santa-Clara/3559-Warburton-Ave-95051/home/148560695', 'https://www.redfin.com/CA/Los-Altos/1249-Via-Huerta-94024/home/1615348', 'https://www.redfin.com/CA/Los-Altos/275-Vernal-Ct-94022/home/1602880', 'https://www.redfin.com/CA/San-Jose/855-Hummingbird-Dr-95125/home/1477850', 'https://www.redfin.com/CA/Los-Altos-Hills/27340-Julietta-Ln-94022/home/639224', 'https://www.redfin.com/CA/San-Jose/5512-Manderston-Dr-95138/home/1350498', 'https://www.redfin.com/CA/Morgan-Hill/521-Via-Sorrento-95037/home/1351670', 'https://www.redfin.com/CA/San-Jose/1905-La-Terrace-Cir-95123/home/798384', 'https://www.redfin.com/CA/Unknown/1-Croy-Rd-95037/home/181818751', 'https://www.redfin.com/CA/Palo-Alto/2255-Old-Page-Mill-Rd-94304/home/640534', 'https://www.redfin.com/CA/San-Jose/3214-Almansa-Ct-95127/home/775949', 'https://www.redfin.com/CA/Menlo-Park/1289-Woodland-Ave-94025/home/1269037', 'https://www.redfin.com/CA/Santa-Clara/2908-Barkley-Ave-95051/home/1058668', 'https://www.redfin.com/CA/Campbell/50-Palomar-Real-95008/unit-50/home/181807647', 'https://www.redfin.com/CA/Cupertino/15851-Stevens-Canyon-Rd-95014/home/905975', 'https://www.redfin.com/CA/Cupertino/22079-San-Fernando-Ct-95014/home/945575', 'https://www.redfin.com/CA/Mountain-View/540-Pettis-Ave-94041/home/1222822', 'https://www.redfin.com/CA/Gilroy/7220-Princeton-Pl-95020/home/1352710', 'https://www.redfin.com/CA/Santa-Clara/720-Baylor-Dr-95051/home/1724887', 'https://www.redfin.com/CA/San-Jose/1524-Dentona-Pl-95118/home/23046872', 'https://www.redfin.com/CA/Milpitas/2036-Trento-Loop-95035/home/112869687', 'https://www.redfin.com/CA/Saratoga/20211-Pierce-Rd-95070/home/808736', 'https://www.redfin.com/CA/Cupertino/10530-Stokes-Ave-95014/home/776093', 'https://www.redfin.com/CA/San-Jose/516-Martha-St-95112/unit-112/home/1163604', 'https://www.redfin.com/CA/San-Jose/1517-Princeton-Dr-95118/home/1496879', 'https://www.redfin.com/CA/Mountain-View/49-Showers-Dr-94040/unit-L470/home/2120955', 'https://www.redfin.com/CA/Sunnyvale/1001-E-Evelyn-Ave-94086/unit-111/home/1736895', 'https://www.redfin.com/CA/Los-Altos/2109-Fallen-Leaf-Ln-94024/home/1476267', 'https://www.redfin.com/CA/San-Jose/2377-Maywood-Ave-95128/home/724459', 'https://www.redfin.com/CA/SUNNYVALE/579-BALSAM-AVE-94085/home/1737124', 'https://www.redfin.com/CA/San-Martin/12340-Highland-Estates-Ln-95046/home/1318260', 'https://www.redfin.com/CA/Gilroy/9283-Rancho-Hills-Dr-95020/home/95953933', 'https://www.redfin.com/CA/Los-Altos/1136-Miramonte-Ave-94024/home/814079', 'https://www.redfin.com/CA/Los-Altos/1553-Queensbury-Ave-94024/home/1259551', 'https://www.redfin.com/CA/San-Jose/1985-Ensign-Way-95133/home/799185', 'https://www.redfin.com/CA/San-Jose/200-Ford-Rd-95138/unit-72/home/39891910', 'https://www.redfin.com/CA/San-Jose/1461-Forrestal-Ave-95110/home/682308', 'https://www.redfin.com/CA/Morgan-Hill/18844-White-Moon-Dr-95037/home/147855637', 'https://www.redfin.com/CA/San-Jose/6526-Camden-Ave-95120/home/1241438', 'https://www.redfin.com/CA/Gilroy/1245-Day-Rd-95020/home/1484882', 'https://www.redfin.com/CA/San-Jose/5030-Page-Mill-Dr-95111/home/981444', 'https://www.redfin.com/CA/San-Jose/3764-Rhoda-Dr-95117/home/1564998', 'https://www.redfin.com/CA/San-Jose/329-Wooster-Ave-95116/home/965450', 'https://www.redfin.com/CA/San-Jose/4913-Paseo-Olivos-95130/home/813745', 'https://www.redfin.com/CA/Mountain-View/1990-Montecito-Ave-94043/home/182015728', 'https://www.redfin.com/CA/Santa-Clara/1436-Jefferson-St-95050/home/711713', 'https://www.redfin.com/CA/Mountain-View/737-Cottage-Ct-94043/home/1548064', 'https://www.redfin.com/CA/Los-Gatos/490-Santa-Rosa-Dr-95032/home/1069003', 'https://www.redfin.com/CA/Sunnyvale/665-E-Olive-Ave-94086/home/1058144', 'https://www.redfin.com/CA/San-Jose/1893-Anne-Way-95124/home/1691868', 'https://www.redfin.com/CA/Mountain-View/731-Independence-Ave-94043/home/176495078', 'https://www.redfin.com/CA/San-Jose/2355-Sunrise-Dr-95124/home/1467124', 'https://www.redfin.com/CA/San-Jose/88-E-San-Fernando-St-95113/unit-1010/home/23048591', 'https://www.redfin.com/CA/San-Jose/441-Nolden-Ave-95117/home/750379', 'https://www.redfin.com/CA/Sunnyvale/422-E-Evelyn-Ave-94086/unit-103/home/181864888', 'https://www.redfin.com/CA/Santa-Clara/1095-Madison-St-95050/home/1085343', 'https://www.redfin.com/CA/San-Martin/495-Bonino-Ln-95046/home/173162703', 'https://www.redfin.com/CA/San-Jose/811-Modern-Ice-Dr-95112/home/40175644', 'https://www.redfin.com/CA/San-Jose/300-Rennie-Ave-95127/home/943147', 'https://www.redfin.com/CA/San-Jose/988-Silicon-Dr-95126/home/1412708', 'https://www.redfin.com/CA/Gilroy/1457-Finch-Ln-95020/home/1019011', 'https://www.redfin.com/CA/San-Jose/3093-Rubino-Cir-95125/home/1328003', 'https://www.redfin.com/CA/San-Jose/2649-Corde-Terra-Cir-95111/home/12178475', 'https://www.redfin.com/CA/Morgan-Hill/18200-Christeph-Dr-95037/home/168908363', 'https://www.redfin.com/CA/San-Jose/2585-Sierra-Vista-Ct-95116/home/889412', 'https://www.redfin.com/CA/San-Jose/2150-Almaden-Rd-95125/unit-33/home/63742448', 'https://www.redfin.com/CA/Mountain-View/1101-W-El-Camino-Real-94040/unit-202/home/143041996', 'https://www.redfin.com/CA/San-Jose/200-Ford-Rd-95138/unit-93/home/182016059', 'https://www.redfin.com/CA/San-Jose/1912-Sumatra-Ave-95122/home/894133', 'https://www.redfin.com/CA/San-Jose/1354-Essex-Way-95117/home/816751', 'https://www.redfin.com/CA/Santa-Clara/2964-Lamory-Pl-95051/unit-323/home/181973886', 'https://www.redfin.com/CA/San-Jose/411-Park-Ave-95110/unit-334/home/1544091', 'https://www.redfin.com/CA/Gilroy/12330-Cll-Celestina-95020/home/1018594', 'https://www.redfin.com/CA/San-Jose/2853-Bellini-Ct-95132/home/936115', 'https://www.redfin.com/CA/Los-Altos/580-Camellia-Way-94024/home/1292626', 'https://www.redfin.com/CA/San-Jose/2901-David-Ave-95128/home/725441', 'https://www.redfin.com/CA/Mountain-View/1387-W-Middlefield-Rd-94043/home/182086993', 'https://www.redfin.com/CA/San-Jose/113-Biddleford-Ct-95139/home/1450700', 'https://www.redfin.com/CA/Mountain-View/1356-W-Dana-St-94041/home/968082', 'https://www.redfin.com/CA/San-Jose/2642-Heritage-Park-Cir-95132/home/939996', 'https://www.redfin.com/CA/San-Jose/5461-Tyhurst-Ct-95123/unit-3/home/1290876', 'https://www.redfin.com/CA/San-Jose/2777-Richland-Ave-95125/home/848841', 'https://www.redfin.com/CA/Milpitas/473-Snap-Dragon-St-95035/home/167189109', 'https://www.redfin.com/CA/Campbell/163-El-Caminito-Ave-95008/home/757193', 'https://www.redfin.com/CA/Sunnyvale/951-La-Mesa-Ter-94086/unit-A/home/1575591', 'https://www.redfin.com/CA/San-Jose/5882-Pala-Mesa-Dr-95123/home/1787825', 'https://www.redfin.com/CA/Mountain-View/1642-Morgan-St-94043/home/620709', 'https://www.redfin.com/CA/San-Jose/1375-Lick-Ave-95110/unit-229/home/17287950', 'https://www.redfin.com/CA/San-Jose/658-Albanese-Cir-95111/home/182028130', 'https://www.redfin.com/CA/San-Jose/430-Vaughn-Ave-95128/home/1378207', 'https://www.redfin.com/CA/SUNNYVALE/921-MOUNTAIN-ASH-TER-94086/unit-1/home/181234665', 'https://www.redfin.com/CA/Morgan-Hill/15531-Salerno-Ln-95037/home/167553150', 'https://www.redfin.com/CA/Monte-Sereno/17951-Saratoga-Los-Gatos-Rd-95030/home/756571', 'https://www.redfin.com/CA/San-Jose/3405-Lake-Garda-Dr-95135/home/964105', 'https://www.redfin.com/CA/Milpitas/2140-Petersburg-Dr-95035/home/1069055', 'https://www.redfin.com/CA/San-Jose/3252-Shadow-Springs-Pl-95121/home/1290056', 'https://www.redfin.com/CA/Santa-Clara/674-Cupples-Ct-95051/home/1354245', 'https://www.redfin.com/CA/San-Jose/1339-Rodney-Dr-95118/home/1702483', 'https://www.redfin.com/CA/San-Jose/1811-La-Terrace-Cir-95123/unit-1811/home/182045294', 'https://www.redfin.com/CA/San-Jose/1601-Fairway-Green-Cir-95131/home/1764255', 'https://www.redfin.com/CA/Gilroy/7761-Santa-Theresa-Dr-95020/home/1055044', 'https://www.redfin.com/CA/San-Jose/1065-Woodbine-Way-95117/home/1119002', 'https://www.redfin.com/CA/San-Jose/513-Mill-Pond-Dr-95125/unit-513/home/28898184', 'https://www.redfin.com/CA/Gilroy/900-Brook-Way-95020/home/1163480', 'https://www.redfin.com/CA/Portola-Valley/118-Ramona-Rd-94028/home/40168354', 'https://www.redfin.com/CA/San-Jose/275-Tradewinds-Dr-95123/unit-11/home/877020', 'https://www.redfin.com/CA/San-Jose/1310-Cordelia-Ave-95129/home/996611', 'https://www.redfin.com/CA/Santa-Clara/611-Kiely-Blvd-95051/home/623989', 'https://www.redfin.com/CA/San-Jose/67-Mill-Stone-Ln-95136/home/984077', 'https://www.redfin.com/CA/San-Jose/527-McLaughlin-Ave-95116/unit-405/home/181339712', 'https://www.redfin.com/CA/San-Jose/382-Fontanelle-Dr-95111/home/1554712', 'https://www.redfin.com/CA/Sunnyvale/369-S-Bayview-Ave-94086/home/665946', 'https://www.redfin.com/CA/San-Jose/2229-Tulip-Rd-95128/home/717659', 'https://www.redfin.com/CA/Sunnyvale/102-Connemara-Way-94087/home/40423144', 'https://www.redfin.com/CA/San-Jose/4722-Tina-Speciale-Dr-95136/home/143042272', 'https://www.redfin.com/CA/San-Jose/3137-Rasmus-Cir-95148/home/1648789', 'https://www.redfin.com/CA/Milpitas/448-Glenmoor-Cir-95035/home/550654', 'https://www.redfin.com/CA/Cupertino/20728-Garden-Pl-Ct-95014/home/787754', 'https://www.redfin.com/CA/San-Jose/1064-Big-Sur-Dr-95120/home/1270557', 'https://www.redfin.com/CA/San-Jose/636-Kotake-Ct-95127/home/1571034', 'https://www.redfin.com/CA/Unknown/1-Poli-Rd-95020/home/182015012', 'https://www.redfin.com/CA/San-Jose/130-Baroni-Ave-95136/unit-30/home/1596979', 'https://www.redfin.com/CA/Saratoga/18533-Paseo-Lado-95070/home/1547954', 'https://www.redfin.com/CA/San-Jose/6028-Cahalan-Ave-95123/home/1332071', 'https://www.redfin.com/CA/San-Jose/430-N-First-St-95112/unit-308/home/1441267', 'https://www.redfin.com/CA/San-Jose/493-Chateau-La-Salle-Dr-95111/unit-493/home/63742246', 'https://www.redfin.com/CA/San-Jose/2023-Castlebury-Dr-95116/home/786914', 'https://www.redfin.com/CA/San-Jose/311-Oleander-Dr-95123/home/1364895', 'https://www.redfin.com/CA/Palo-Alto/3150-Louis-Rd-94303/home/597630', 'https://www.redfin.com/CA/Santa-Clara/1134-Pomeroy-Ave-95051/home/1672694', 'https://www.redfin.com/CA/San-Jose/3582-Eastridge-Dr-95148/home/1311952', 'https://www.redfin.com/CA/San-Jose/1400-Annapolis-Way-95118/home/749681', 'https://www.redfin.com/CA/Los-Gatos/15908-Rose-Ave-95030/home/1452354', 'https://www.redfin.com/CA/SUNNYVALE/921-MAGNOLIA-TER-94086/unit-4/home/181234642', 'https://www.redfin.com/CA/San-Jose/3291-Floresta-Dr-95148/home/952429', 'https://www.redfin.com/CA/Santa-Clara/1730-Halford-Ave-95051/unit-351/home/672004', 'https://www.redfin.com/CA/San-Jose/999-Rawlings-Dr-95136/home/1542766', 'https://www.redfin.com/CA/San-Jose/848-Cape-Flattery-Pl-95133/home/1461089', 'https://www.redfin.com/CA/Mountain-View/635-Ehrhorn-Ave-94041/home/780119', 'https://www.redfin.com/CA/San-Jose/1580-S-White-Rd-95127/home/950271', 'https://www.redfin.com/CA/San-Jose/2367-Mazzaglia-Ave-95125/home/848003', 'https://www.redfin.com/CA/Mountain-View/2111-Latham-St-94040/unit-303/home/12171920', 'https://www.redfin.com/CA/San-Jose/6242-Gerdts-Dr-95135/home/1286539', 'https://www.redfin.com/CA/San-Jose/4206-Voltaire-St-95135/home/2122181', 'https://www.redfin.com/CA/Mountain-View/662-Willowgate-St-94043/home/17288343', 'https://www.redfin.com/CA/San-Jose/39-Cheltenham-Way-95139/home/1006809', 'https://www.redfin.com/CA/Los-Gatos/738-Bicknell-Rd-95030/home/1036601', 'https://www.redfin.com/CA/San-Jose/240-Giddings-Ct-95139/home/1009817', 'https://www.redfin.com/CA/Morgan-Hill/15304-Cll-Enrique-95037/home/1017213', 'https://www.redfin.com/CA/Gilroy/7051-Vintner-Ct-95020/home/176544191', 'https://www.redfin.com/CA/Sunnyvale/1220-Tasman-Dr-94089/unit-467/home/1043159', 'https://www.redfin.com/CA/Gilroy/2700-Dryden-Ave-95020/home/40229042', 'https://www.redfin.com/CA/Sunnyvale/1055-Borregas-Ave-94089/home/1641241', 'https://www.redfin.com/CA/Saratoga/21991-Scenic-Heights-Way-95070/home/788082', 'https://www.redfin.com/CA/Cupertino/10171-Amelia-Ct-95014/home/773554', 'https://www.redfin.com/CA/San-Jose/5068-Tifton-Way-95118/home/1421781', 'https://www.redfin.com/CA/Los-Altos/1450-Cedar-Pl-94024/home/1754823', 'https://www.redfin.com/CA/Los-Altos/1505-Cedar-Pl-94024/home/779868', 'https://www.redfin.com/CA/San-Jose/230-Southside-Dr-95111/home/920657', 'https://www.redfin.com/CA/San-Jose/900-Golden-Wheel-Park-Dr-95112/unit-159/home/63745586', 'https://www.redfin.com/CA/San-Jose/1763-Oakwood-Ave-95124/home/855165', 'https://www.redfin.com/CA/Mountain-View/1446-San-Luis-Ave-94043/home/1302699', 'https://www.redfin.com/CA/San-Jose/3541-Columbine-Dr-95127/home/1639922', 'https://www.redfin.com/CA/Los-Altos-Hills/27555-Purissima-Rd-94022/home/1397917', 'https://www.redfin.com/CA/San-Jose/1758-Vista-Glen-Dr-95122/home/850344', 'https://www.redfin.com/CA/San-Jose/6516-Almaden-Rd-95120/home/1099928', 'https://www.redfin.com/CA/Morgan-Hill/138-Larkspur-Loop-95037/home/52672618', 'https://www.redfin.com/CA/Mountain-View/159-Ada-Ave-94043/home/95955021', 'https://www.redfin.com/CA/Palo-Alto/702-Garland-Dr-94303/home/1640689', 'https://www.redfin.com/CA/Los-Gatos/11845-Skyline-Blvd-95033/home/784568', 'https://www.redfin.com/CA/San-Jose/1103-Dinkel-Ct-95118/home/925003', 'https://www.redfin.com/CA/San-Jose/914-Foothill-Dr-95123/home/1243875', 'https://www.redfin.com/CA/San-Jose/1137-Campbell-Ave-95126/home/182072848', 'https://www.redfin.com/CA/San-Jose/409-Mayellen-Ave-95126/home/1441759', 'https://www.redfin.com/CA/Sunnyvale/311-W-Duane-Ave-94085/home/1161403', 'https://www.redfin.com/CA/San-Jose/1539-Arata-Ct-95125/home/946978', 'https://www.redfin.com/CA/Mountain-View/255-S-Rengstorff-Ave-94040/unit-72/home/1280228', 'https://www.redfin.com/CA/Santa-Clara/113-Cronin-Dr-95051/home/1645675', 'https://www.redfin.com/CA/Gilroy/Undisclosed-address-95020/home/180165021', 'https://www.redfin.com/CA/Los-Gatos/17985-Helen-Way-95033/home/850967', 'https://www.redfin.com/CA/San-Jose/2102-Harmil-Way-95125/home/1218210', 'https://www.redfin.com/CA/San-Jose/6625-Hampton-Dr-95120/home/1447653', 'https://www.redfin.com/CA/San-Jose/579-Manhattan-Pl-95136/home/869003', 'https://www.redfin.com/CA/Los-Altos/632-Hollingsworth-Dr-94022/home/633408', 'https://www.redfin.com/CA/San-Jose/3459-Lisbon-Dr-95132/home/1759900', 'https://www.redfin.com/CA/Santa-Clara/4033-Crandall-Cir-95054/home/1466843', 'https://www.redfin.com/CA/Los-Gatos/16800-Frank-Ave-95032/home/1196166', 'https://www.redfin.com/CA/San-Jose/7164-Clarendon-St-95129/home/793190', 'https://www.redfin.com/CA/Morgan-Hill/184-W-Main-Ave-95037/home/1016242', 'https://www.redfin.com/CA/Los-Altos/1746-Hawkins-Dr-94024/home/1281179', 'https://www.redfin.com/CA/Monte-Sereno/17272-Nagpal-Ct-95030/home/1861464', 'https://www.redfin.com/CA/San-Jose/420-Richfield-Dr-95129/home/1673271', 'https://www.redfin.com/CA/San-Jose/7129-Echo-Loop-95120/home/931408', 'https://www.redfin.com/CA/Cupertino/19900-Portal-Plz-95014/home/1456223', 'https://www.redfin.com/CA/San-Jose/12645-Mt-Hamilton-Rd-95140/home/1304676', 'https://www.redfin.com/CA/Morgan-Hill/17380-Shelton-Way-95037/home/52672291', 'https://www.redfin.com/CA/San-Jose/419-Pamlar-Ave-95128/home/675003', 'https://www.redfin.com/CA/Santa-Clara/2538-Crystal-Dr-95051/home/1440397', 'https://www.redfin.com/CA/San-Jose/1676-Morocco-Dr-95125/home/850915', 'https://www.redfin.com/CA/Mountain-View/878-San-Simeon-Dr-94043/home/1422317', 'https://www.redfin.com/CA/Los-Altos/775-Edge-Ln-94024/home/1321516', 'https://www.redfin.com/CA/San-Jose/1885-Oakton-Ct-95148/home/1676721', 'https://www.redfin.com/CA/Los-Altos/372-Hawthorne-Ave-94022/home/1561441', 'https://www.redfin.com/CA/San-Jose/38-N-Almaden-Blvd-95110/unit-1011/home/17291013', 'https://www.redfin.com/CA/San-Jose/847-Clarkston-Dr-95136/home/1260627', 'https://www.redfin.com/CA/San-Jose/1130-Polk-Ln-95117/home/882438', 'https://www.redfin.com/CA/San-Jose/6376-Bollinger-Rd-95129/home/794290', 'https://www.redfin.com/CA/Los-Gatos/212-Union-Ave-95032/home/1743145', 'https://www.redfin.com/CA/Mountain-View/2503-Katrina-Way-94040/home/648871', 'https://www.redfin.com/CA/San-Jose/135-Mountain-Springs-Dr-95136/unit-135/home/123866281', 'https://www.redfin.com/CA/San-Jose/4088-Victoria-Park-Dr-95136/home/748242', 'https://www.redfin.com/CA/Sunnyvale/1332-Miette-Way-94087/home/770351', 'https://www.redfin.com/CA/Santa-Clara/1789-Jeffery-Ct-95051/home/677381', 'https://www.redfin.com/CA/Cupertino/7545-Dumas-Dr-95014/home/1700700', 'https://www.redfin.com/CA/San-Jose/1531-Huddersfield-Ct-95126/home/566808', 'https://www.redfin.com/CA/San-Jose/1154-Angmar-Ct-95121/home/900861', 'https://www.redfin.com/CA/SAN-JOSE/5486-TRADEWINDS-WW-95123/unit-1/home/991203', 'https://www.redfin.com/CA/Mountain-View/264-N-Whisman-Rd-94043/unit-4/home/1422406', 'https://www.redfin.com/CA/Los-Gatos/109-Cedarcrest-Pl-95032/home/701386', 'https://www.redfin.com/CA/Santa-Clara/763-Valley-Way-95051/home/1368476', 'https://www.redfin.com/CA/Los-Gatos/21550-Old-Gold-Mine-Rd-95033/home/181865416', 'https://www.redfin.com/CA/San-Jose/1185-Husted-Ave-95125/home/584519', 'https://www.redfin.com/CA/Saratoga/19696-Northampton-Dr-95070/home/733806', 'https://www.redfin.com/CA/Gilroy/915-Bosco-Ln-95020/home/1632545', 'https://www.redfin.com/CA/Mountain-View/1507-Begen-Ave-94040/home/645082', 'https://www.redfin.com/CA/Morgan-Hill/1950-Willow-Springs-Rd-95037/home/1537061', 'https://www.redfin.com/CA/San-Jose/614-Willow-Bnd-Ct-95123/home/112868998', 'https://www.redfin.com/CA/Sunnyvale/1085-Tasman-Dr-94089/unit-866/home/1035491', 'https://www.redfin.com/CA/San-Jose/1136-Olive-Branch-Ln-95120/home/932285', 'https://www.redfin.com/CA/San-Jose/3637-Snell-Ave-95136/unit-411/home/108549787', 'https://www.redfin.com/CA/San-Jose/1648-Fairlawn-Ave-95125/home/1185464', 'https://www.redfin.com/CA/Santa-Clara/2250-Monroe-St-95050/unit-184/home/1410364', 'https://www.redfin.com/CA/San-Jose/2241-Lindaire-Ave-95128/home/1765127', 'https://www.redfin.com/CA/Sunnyvale/1060-Duane-Ct-94085/home/52672002', 'https://www.redfin.com/CA/Milpitas/860-Towne-Dr-95035/home/559236', 'https://www.redfin.com/CA/San-Jose/1760-Castlegate-Dr-95132/home/750028', 'https://www.redfin.com/CA/San-Jose/532-Almaden-Walk-Loop-95125/home/167456831', 'https://www.redfin.com/CA/San-Jose/3021-Water-St-95111/home/601560', 'https://www.redfin.com/CA/San-Jose/3727-Chambord-Ct-95127/home/946858', 'https://www.redfin.com/CA/San-Jose/3151-Hawkcrest-Cir-95135/home/977542', 'https://www.redfin.com/CA/Portola-Valley/12-Arastradero-Rd-94028/home/638341', 'https://www.redfin.com/CA/San-Jose/250-Palacio-Royale-Cir-95116/home/884620', 'https://www.redfin.com/CA/San-Jose/21105-Serene-Way-95120/home/1732252', 'https://www.redfin.com/CA/San-Jose/1007-Almarida-Dr-95128/home/982068', 'https://www.redfin.com/CA/San-Jose/165-Blossom-Hill-Rd-95123/unit-324/home/1572723', 'https://www.redfin.com/CA/San-Jose/2021-Park-Royal-Dr-95125/home/1180182', 'https://www.redfin.com/CA/Milpitas/1923-Big-Bend-Dr-95035/home/808284', 'https://www.redfin.com/CA/Sunnyvale/104-Gaia-Ter-94089/home/168867976', 'https://www.redfin.com/CA/San-Jose/623-N-4th-St-95112/home/1712216', 'https://www.redfin.com/CA/Sunnyvale/487-Lincoln-Ave-94086/home/1447862', 'https://www.redfin.com/CA/SAN-JOSE/BERTRAM-RD-95120/home/22450345', 'https://www.redfin.com/CA/Los-Altos/929-Russell-Ave-94024/home/1749295', 'https://www.redfin.com/CA/Gilroy/8011-Church-St-95020/home/1022920', 'https://www.redfin.com/CA/San-Jose/2094-Mendota-Way-95122/home/1268766', 'https://www.redfin.com/CA/Milpitas/1555-Arizona-Ave-95035/home/1706023', 'https://www.redfin.com/CA/San-Jose/1353-Karl-St-95122/home/1743277', 'https://www.redfin.com/CA/San-Jose/5361-Garwood-Dr-95118/home/921121', 'https://www.redfin.com/CA/San-Jose/1326-Milton-Way-95125/home/1536554', 'https://www.redfin.com/CA/Cupertino/20602-Murano-Cir-95014/home/1734452', 'https://www.redfin.com/CA/Palo-Alto/101-Alma-St-94301/unit-1104/home/620340', 'https://www.redfin.com/CA/San-Jose/10431-Observatory-Dr-95127/home/948379', 'https://www.redfin.com/CA/San-Jose/5880-Smoky-Quartz-Loop-95123/home/95958004', 'https://www.redfin.com/CA/San-Jose/6094-Jacques-Dr-95123/home/1720037', 'https://www.redfin.com/CA/San-Jose/386-N-8th-St-95112/home/1681787', 'https://www.redfin.com/CA/Santa-Clara/3355-McKinley-Dr-95051/home/885554', 'https://www.redfin.com/CA/San-Jose/130-E-San-Fernando-St-95112/unit-418/home/766562', 'https://www.redfin.com/CA/San-Jose/22552-Country-View-Dr-95120/home/1865945', 'https://www.redfin.com/CA/Mountain-View/421-St-Emilion-Ct-94043/home/658913', 'https://www.redfin.com/CA/San-Jose/1346-Kotenberg-Ave-95125/home/651362', 'https://www.redfin.com/CA/Gilroy/145-Lusitano-Way-95020/home/112868689', 'https://www.redfin.com/CA/Morgan-Hill/1985-Pear-Dr-95037/home/12369950', 'https://www.redfin.com/CA/San-Jose/255-Vista-Roma-Way-95136/home/1047569', 'https://www.redfin.com/CA/Los-Altos/1-W-Edith-Ave-94022/unit-A201/home/1575711', 'https://www.redfin.com/CA/Palo-Alto/777-San-Antonio-Rd-94303/unit-62/home/1111880', 'https://www.redfin.com/CA/San-Jose/5167-Redstone-Dr-95124/home/1334081', 'https://www.redfin.com/CA/Portola-Valley/635-Los-Trancos-Rd-94028/home/639583', 'https://www.redfin.com/CA/San-Jose/2686-Taffy-Dr-95148/home/1270484', 'https://www.redfin.com/CA/San-Jose/3421-Mt-Prieta-Dr-95127/home/1182914', 'https://www.redfin.com/CA/San-Jose/612-Coco-Ct-95133/home/172937466', 'https://www.redfin.com/CA/Mountain-View/538-Thompson-Ave-94043/home/1227426', 'https://www.redfin.com/CA/Santa-Clara/2978-Lamory-Pl-95051/unit-318/home/181866838', 'https://www.redfin.com/CA/San-Jose/5698-Makati-Cir-95123/unit-F/home/777465', 'https://www.redfin.com/CA/Los-Altos/723-Viola-Pl-94022/home/1358560', 'https://www.redfin.com/CA/Sunnyvale/1041-Polk-Ave-94086/home/627726', 'https://www.redfin.com/CA/San-Jose/232-N-3rd-St-95112/home/1729053', 'https://www.redfin.com/CA/San-Jose/6480-Wisteria-Way-95129/home/793449', 'https://www.redfin.com/CA/Morgan-Hill/605-Los-Castanos-Dr-95037/home/179976761', 'https://www.redfin.com/CA/San-Jose/1203-Whitton-Ave-95116/home/1157619', 'https://www.redfin.com/CA/Mountain-View/275-Tyrella-Ave-94043/home/1653628', 'https://www.redfin.com/CA/San-Jose/1442-Kilchoan-Ct-95122/home/1638189', 'https://www.redfin.com/CA/Palo-Alto/444-San-Antonio-Rd-94306/unit-4D/home/1136493', 'https://www.redfin.com/CA/SAN-JOSE/2265-MAXIMILIAN-DR-95130/home/665279', 'https://www.redfin.com/CA/Los-Altos/1-W-Edith-Ave-94022/unit-D223/home/1667345', 'https://www.redfin.com/CA/Mountain-View/90-Flynn-Ave-94043/unit-C/home/593437', 'https://www.redfin.com/CA/Saratoga/13781-Pierce-Rd-95070/home/1569227', 'https://www.redfin.com/CA/San-Jose/750-Seawood-Way-95120/home/1782911', 'https://www.redfin.com/CA/San-Jose/418-Royale-Park-Dr-95136/home/1300339', 'https://www.redfin.com/CA/Palo-Alto/1905-Byron-St-94301/home/181798788', 'https://www.redfin.com/CA/Los-Altos/501-Cherry-Ave-94022/home/632116', 'https://www.redfin.com/CA/San-Jose/2498-Sunny-Vista-Dr-95128/home/1672203', 'https://www.redfin.com/CA/Milpitas/633-Angus-Dr-95035/home/1411981', 'https://www.redfin.com/CA/San-Jose/3357-Bolsena-Ct-95135/home/963958', 'https://www.redfin.com/CA/Los-Altos/931-Loraine-Ave-94024/home/176496944', 'https://www.redfin.com/CA/Gilroy/661-Sherwood-Dr-95020/home/1022207', 'https://www.redfin.com/CA/Palo-Alto/2590-Ross-Rd-94303/home/1522984', 'https://www.redfin.com/CA/Santa-Clara/3301-Benton-St-95051/home/1613011', 'https://www.redfin.com/CA/Saratoga/19224-Vineyard-Ln-95070/home/809690', 'https://www.redfin.com/CA/San-Jose/4050-Cadwallader-Ave-95121/home/970671', 'https://www.redfin.com/CA/San-Jose/20525-Whispering-Oaks-Dr-95120/home/1450842', 'https://www.redfin.com/CA/Milpitas/859-London-Dr-95035/home/937570', 'https://www.redfin.com/CA/Gilroy/7470-Sunningdale-Way-95020/home/1618731', 'https://www.redfin.com/CA/Palo-Alto/3448-Rambow-Dr-94306/home/1159502', 'https://www.redfin.com/CA/San-Jose/1442-Mardan-Dr-95132/home/796177', 'https://www.redfin.com/CA/San-Jose/206-San-Antonio-Pl-95116/home/22750329', 'https://www.redfin.com/CA/Gilroy/7810-Driftwood-Ter-95020/home/1272569', 'https://www.redfin.com/CA/San-Jose/2862-Hostetter-Rd-95132/home/1480702', 'https://www.redfin.com/CA/San-Jose/6826-Tunbridge-Way-95120/home/1184532', 'https://www.redfin.com/CA/Los-Gatos/15433-Blossom-Hill-Rd-95032/home/1779737', 'https://www.redfin.com/CA/San-Jose/1534-Sierraville-Ave-95132/home/1370414', 'https://www.redfin.com/CA/San-Jose/313-Burning-Tree-Dr-95119/home/1003574', 'https://www.redfin.com/CA/San-Jose/830-N-11th-St-95112/home/1828608', 'https://www.redfin.com/CA/San-Jose/518-N-4th-St-95112/home/1762947', 'https://www.redfin.com/CA/San-Jose/628-Coyote-Rd-95111/home/979424', 'https://www.redfin.com/CA/Campbell/97-San-Tomas-Aquino-Rd-95008/home/567591', 'https://www.redfin.com/CA/Palo-Alto/1054-Moffett-Cir-94303/home/1291052', 'https://www.redfin.com/CA/San-Jose/2119-Harmil-Way-95125/home/1357867', 'https://www.redfin.com/CA/Santa-Clara/865-Fremont-St-95050/home/1497073', 'https://www.redfin.com/CA/San-Jose/1286-Mayette-Ave-95125/home/626858', 'https://www.redfin.com/CA/Sunnyvale/848-San-Junipero-Dr-94085/home/659968', 'https://www.redfin.com/CA/San-Jose/5261-Pebbletree-Way-95111/home/834982', 'https://www.redfin.com/CA/San-Jose/88-E-San-Fernando-St-95113/unit-606/home/18330905', 'https://www.redfin.com/CA/San-Jose/3177-Gawain-Dr-95127/home/941967', 'https://www.redfin.com/CA/Gilroy/1475-E-Hillview-Ct-95020/home/1619952', 'https://www.redfin.com/CA/Palo-Alto/2390-Greer-Rd-94303/home/1800440', 'https://www.redfin.com/CA/San-Jose/1553-Clayton-Rd-95127/home/615656', 'https://www.redfin.com/CA/Milpitas/1464-Edsel-Dr-95035/home/1461707', 'https://www.redfin.com/CA/San-Jose/200-Ford-Rd-95138/unit-29/home/18994717', 'https://www.redfin.com/CA/San-Jose/211-Proximity-Way-95110/home/169797013', 'https://www.redfin.com/CA/San-Jose/2036-Rexford-Way-95128/home/1263816', 'https://www.redfin.com/CA/Morgan-Hill/14890-Dark-Star-Ct-95037/home/1451014', 'https://www.redfin.com/CA/San-Jose/5450-Monterey-Rd-95111/unit-5/home/178420996', 'https://www.redfin.com/CA/Morgan-Hill/15365-Sycamore-Dr-95037/home/1770055', 'https://www.redfin.com/CA/San-Jose/88-E-San-Fernando-St-95113/unit-1805/home/23048686', 'https://www.redfin.com/CA/San-Jose/4134-Linetta-Ct-95148/home/1845943', 'https://www.redfin.com/CA/Morgan-Hill/17081-Laurel-Rd-95037/home/168907637', 'https://www.redfin.com/CA/SUNNYVALE/921-MOUNTAIN-ASH-TER-94086/unit-7/home/181234671', 'https://www.redfin.com/CA/Sunnyvale/1225-Vienna-Dr-94089/unit-40/home/1540805', 'https://www.redfin.com/CA/San-Jose/566-Elk-Ridge-Way-95136/home/861339', 'https://www.redfin.com/CA/San-Jose/463-Los-Pinos-Way-95123/home/1062277', 'https://www.redfin.com/CA/Sunnyvale/1245-Picasso-Dr-94087/home/1346740', 'https://www.redfin.com/CA/Gilroy/11765-Bennetta-Ln-95020/home/1238462', 'https://www.redfin.com/CA/San-Jose/3637-Snell-Ave-95136/unit-357/home/21635426', 'https://www.redfin.com/CA/Santa-Clara/478-N-Winchester-Blvd-95050/unit-9/home/716665', 'https://www.redfin.com/CA/Sunnyvale/1071-Bryant-Way-94087/home/567702', 'https://www.redfin.com/CA/San-Jose/38-N-Almaden-Blvd-95110/unit-916/home/17291020', 'https://www.redfin.com/CA/San-Jose/483-S-Monroe-St-95128/home/52672652', 'https://www.redfin.com/CA/San-Jose/2342-La-Terrace-Cir-95123/home/1421509', 'https://www.redfin.com/CA/San-Jose/244-N-Cragmont-Ave-95127/home/1796625', 'https://www.redfin.com/CA/Sunnyvale/1085-Tasman-Dr-94089/unit-121/home/1784146', 'https://www.redfin.com/CA/San-Jose/165-Blossom-Hill-Rd-95123/unit-520/home/21854739', 'https://www.redfin.com/CA/Gilroy/1380-3rd-St-95020/home/1670113', 'https://www.redfin.com/CA/San-Jose/4510-Thousand-Oaks-Dr-95136/home/1489150', 'https://www.redfin.com/CA/Gilroy/Hecker-Pass-Rd-95020/home/113789919', 'https://www.redfin.com/CA/San-Jose/2303-Radio-Ave-95125/home/847346', 'https://www.redfin.com/CA/San-Jose/509-Willow-St-95125/home/1248687', 'https://www.redfin.com/CA/San-Jose/280-William-Manly-St-95136/unit-6/home/143043860', 'https://www.redfin.com/CA/Sunnyvale/663-E-Garland-Ter-94086/home/1460241', 'https://www.redfin.com/CA/Cupertino/10903-Canyon-Vista-Dr-95014/home/983660', 'https://www.redfin.com/CA/San-Jose/7247-Via-Vico-95129/home/792266', 'https://www.redfin.com/CA/Mountain-View/1962-Montecito-Ave-94043/home/182015805', 'https://www.redfin.com/CA/Santa-Clara/2901-Jerald-Ave-95051/home/1514176', 'https://www.redfin.com/CA/Los-Altos/991-Lundy-Ln-94024/home/926276', 'https://www.redfin.com/CA/Sunnyvale/970-Asilomar-Ter-94086/unit-1/home/780431', 'https://www.redfin.com/CA/San-Jose/88-Bush-St-95126/unit-3155/home/17290344', 'https://www.redfin.com/CA/Sunnyvale/1144-London-Ave-94087/home/765398', 'https://www.redfin.com/CA/Sunnyvale/505-Westside-Ave-94087/home/564844', 'https://www.redfin.com/CA/San-Jose/5558-Judith-St-95123/unit-1/home/992753', 'https://www.redfin.com/CA/San-Jose/1447-Cherrydale-Dr-95125/home/974185', 'https://www.redfin.com/CA/Livermore/San-Antonio-Valley-Rd-94550/home/147801151', 'https://www.redfin.com/CA/Sunnyvale/1085-Tasman-Dr-94089/unit-725/home/1511989', 'https://www.redfin.com/CA/San-Jose/355-S-15th-St-95112/home/1180729', 'https://www.redfin.com/CA/San-Jose/560-N-First-St-95112/home/696078', 'https://www.redfin.com/CA/Campbell/235-W-Latimer-Ave-95008/home/1814786', 'https://www.redfin.com/CA/San-Jose/590-Chapman-St-95126/home/924628', 'https://www.redfin.com/CA/San-Jose/381-Destino-Cir-95133/home/12180044', 'https://www.redfin.com/CA/Santa-Clara/2141-Rancho-McCormick-Ct-95050/home/680729', 'https://www.redfin.com/CA/San-Jose/3312-Methilhaven-Ln-95121/home/972511', 'https://www.redfin.com/CA/San-Jose/1980-Bright-Willow-Cir-95131/home/700531', 'https://www.redfin.com/CA/Sunnyvale/1501-S-Wolfe-Rd-94087/home/1417342', 'https://www.redfin.com/CA/San-Jose/345-Ingram-Ct-95139/home/699306', 'https://www.redfin.com/CA/San-Jose/1451-Sunny-Ct-95116/home/17292401', 'https://www.redfin.com/CA/Palo-Alto/950-Guinda-St-94301/home/546046', 'https://www.redfin.com/CA/San-Jose/2104-SURREY-Pl-95130/home/113843866', 'https://www.redfin.com/CA/Santa-Clara/646-Bucher-Ave-95051/home/1529806', 'https://www.redfin.com/CA/San-Jose/810-Goodwin-Ave-95128/home/1127067', 'https://www.redfin.com/CA/San-Jose/4620-Japonica-Way-95129/home/1121688', 'https://www.redfin.com/CA/San-Jose/948-Paula-St-95126/home/1698690', 'https://www.redfin.com/CA/San-Jose/4215-Briarglen-Dr-95118/home/1728785', 'https://www.redfin.com/CA/San-Jose/203-Coy-Dr-95123/unit-4/home/991254', 'https://www.redfin.com/CA/Saratoga/19918-Blythe-Ct-95070/home/1632800', 'https://www.redfin.com/CA/Palo-Alto/430-Palm-St-94301/home/1464752', 'https://www.redfin.com/CA/San-Jose/15825-Alta-Vista-Way-95127/home/1771196', 'https://www.redfin.com/CA/San-Jose/1630-Los-Suenos-Ave-95116/home/1016077', 'https://www.redfin.com/CA/San-Jose/1015-Wilsham-Dr-95132/home/1678735', 'https://www.redfin.com/CA/Los-Gatos/15400-Winchester-Blvd-95030/unit-48/home/1794131', 'https://www.redfin.com/CA/Mountain-View/1920-Silverwood-Ave-94043/home/1291686', 'https://www.redfin.com/CA/San-Jose/391-Lassenpark-Cir-95136/home/1690334', 'https://www.redfin.com/CA/San-Jose/2248-Zoria-Cir-95131/home/1577152', 'https://www.redfin.com/CA/San-Jose/3175-Sylvan-Dr-95148/home/1824510', 'https://www.redfin.com/CA/Santa-Clara/2791-Pruneridge-Ave-95051/home/741796', 'https://www.redfin.com/CA/Sunnyvale/1220-Tasman-Dr-94089/unit-1A/home/56827858', 'https://www.redfin.com/CA/Palo-Alto/325-Channing-Ave-94301/unit-111/home/1046987', 'https://www.redfin.com/CA/San-Jose/6577-Little-Falls-Dr-95120/home/929488', 'https://www.redfin.com/CA/San-Jose/919-Macduff-Ct-95127/home/875957', 'https://www.redfin.com/CA/Campbell/1170-Nadine-Dr-95008/home/882794', 'https://www.redfin.com/CA/San-Jose/1126-Flaxwood-St-95120/home/1677728', 'https://www.redfin.com/CA/San-Jose/510-Saddlebrook-Dr-95136/unit-119/home/1490010', 'https://www.redfin.com/CA/Los-Gatos/239-Vista-De-Sierra-95030/home/1556477', 'https://www.redfin.com/CA/Cupertino/1322-Flower-Ct-95014/home/755914', 'https://www.redfin.com/CA/Gilroy/1555-Zephyr-Pl-95020/home/168910948', 'https://www.redfin.com/CA/San-Jose/900-Golden-Wheel-Park-Dr-95112/unit-155/home/1024846', 'https://www.redfin.com/CA/SUNNYVALE/921-MOUNTAIN-ASH-TER-94086/unit-5/home/181234669', 'https://www.redfin.com/CA/Milpitas/710-Dempsey-Rd-95035/home/1102881', 'https://www.redfin.com/CA/Los-Gatos/16267-Gellatt-CT-95032/unit-206/home/178365814', 'https://www.redfin.com/CA/Gilroy/920-Blake-Ct-95020/home/1032341', 'https://www.redfin.com/CA/San-Jose/30-E-Julian-St-95112/unit-118/home/1040591', 'https://www.redfin.com/CA/Santa-Clara/2661-Benton-St-95051/home/994636', 'https://www.redfin.com/CA/Palo-Alto/774-Mayview-Ave-94303/home/1069535', 'https://www.redfin.com/CA/San-Jose/4950-Paseo-Tranquillo-95118/home/925078', 'https://www.redfin.com/CA/Milpitas/2073-Conway-St-95035/home/1731078', 'https://www.redfin.com/CA/San-Jose/1153-Old-Oak-Dr-95120/home/930689', 'https://www.redfin.com/CA/San-Jose/1919-Dobbin-Dr-95133/home/143043518', 'https://www.redfin.com/CA/San-Jose/582-Crystalberry-Ter-95129/home/1753574', 'https://www.redfin.com/CA/San-Jose/3386-Skyward-Pl-95136/home/1372272', 'https://www.redfin.com/CA/Santa-Clara/3901-Lick-Mill-Blvd-95054/unit-407/home/12177915', 'https://www.redfin.com/CA/San-Jose/4425-Norwalk-Dr-95129/unit-18/home/1566122', 'https://www.redfin.com/CA/San-Jose/144-S-Third-St-95112/unit-132/home/1028120', 'https://www.redfin.com/CA/Los-Gatos/255-More-Ave-95032/home/1266531', 'https://www.redfin.com/CA/Milpitas/800-S-Abel-St-95035/unit-306/home/167192037', 'https://www.redfin.com/CA/San-Jose/2738-Goble-Ln-95111/unit-4/home/167458712', 'https://www.redfin.com/CA/San-Jose/51-S-19th-St-95116/home/702395', 'https://www.redfin.com/CA/Milpitas/501-Glenmoor-Cir-95035/home/1319509', 'https://www.redfin.com/CA/San-Jose/1337-Castlemont-Ave-95128/home/1502340', 'https://www.redfin.com/CA/Los-Gatos/109-Calle-El-Padre-95032/home/946520', 'https://www.redfin.com/CA/Gilroy/2202-Columbine-Ct-95020/home/17494646', 'https://www.redfin.com/CA/San-Jose/1460-Newport-Ave-95125/home/1596227', 'https://www.redfin.com/CA/Campbell/512-Fierro-Loop-95008/home/112869801', 'https://www.redfin.com/CA/Gilroy/260-Chappell-Ct-95020/home/1093407', 'https://www.redfin.com/CA/Sunnyvale/946-Harney-Way-94087/home/829339', 'https://www.redfin.com/CA/Sunnyvale/102-Holly-Ter-94086/home/1235123', 'https://www.redfin.com/CA/San-Jose/1086-Bigleaf-Pl-95131/unit-102/home/143043365', 'https://www.redfin.com/CA/Santa-Clara/151-Buckingham-Dr-95051/unit-229/home/1047430', 'https://www.redfin.com/CA/Sunnyvale/1225-Vienna-Dr-94089/unit-62/home/182031167', 'https://www.redfin.com/CA/San-Jose/1330-Glen-Eyrie-Ave-95125/home/1763190', 'https://www.redfin.com/CA/Los-Altos/47-View-St-94022/home/1466940', 'https://www.redfin.com/CA/San-Jose/2326-W-Hedding-St-95128/home/718346', 'https://www.redfin.com/CA/San-Jose/892-Foxworthy-Ave-95125/home/1599386', 'https://www.redfin.com/CA/Menlo-Park/385-Brandon-Way-94025/home/887242', 'https://www.redfin.com/CA/San-Jose/1583-Willowbrae-Ave-95125/home/715136', 'https://www.redfin.com/CA/Morgan-Hill/17300-Chesbro-Lake-Dr-95037/home/1059560', 'https://www.redfin.com/CA/San-Jose/1326-Joplin-Dr-95118/unit-1/home/1052461', 'https://www.redfin.com/CA/San-Jose/1187-Krebs-Ct-95131/home/1484992', 'https://www.redfin.com/CA/San-Jose/1466-Florida-Ave-95122/home/889780', 'https://www.redfin.com/CA/San-Jose/596-Almaden-Walk-Loop-95125/home/167456832', 'https://www.redfin.com/CA/San-Jose/366-Heritage-View-Ter-95125/home/167457619', 'https://www.redfin.com/CA/Mountain-View/49-Showers-Dr-94040/unit-N166/home/12171751', 'https://www.redfin.com/CA/Sunnyvale/680-Alberta-Ave-94087/unit-L/home/1580728', 'https://www.redfin.com/CA/San-Jose/1390-Saddle-Rack-St-95126/unit-422/home/1051618', 'https://www.redfin.com/CA/San-Jose/4549-Cimarron-River-Ct-95136/home/831879', 'https://www.redfin.com/CA/San-Jose/1475-De-Rose-Way-95126/unit-247/home/1544461', 'https://www.redfin.com/CA/Campbell/32-Albatross-Ct-95008/home/1181486', 'https://www.redfin.com/CA/Los-Gatos/14225-Lora-Dr-95032/unit-35/home/1184646', 'https://www.redfin.com/CA/Sunnyvale/273-Carbonera-Ave-94086/home/1223119', 'https://www.redfin.com/CA/San-Jose/1652-Glenhurst-Dr-95124/home/974416', 'https://www.redfin.com/CA/Los-Altos/1580-Queensbury-Ave-94024/home/1484064', 'https://www.redfin.com/CA/San-Jose/1779-Camino-Leonor-95131/home/12179851', 'https://www.redfin.com/CA/Sunnyvale/599-Sunnymount-Ave-94087/home/1175140', 'https://www.redfin.com/CA/Palo-Alto/728-Tolman-Dr-94305/home/1651862', 'https://www.redfin.com/CA/Morgan-Hill/17875-Del-Monte-Ave-95037/home/1291555', 'https://www.redfin.com/CA/Los-Altos/148-Doud-Dr-94022/home/1867783', 'https://www.redfin.com/CA/San-Jose/2092-Ardis-Dr-95125/home/1371473', 'https://www.redfin.com/CA/Los-Gatos/15127-Shore-Dr-95032/unit-133/home/181829681', 'https://www.redfin.com/CA/San-Jose/411-Nerdy-Ave-95111/home/554838', 'https://www.redfin.com/CA/Los-Altos-Hills/11195-Hooper-Ln-94024/home/1740122', 'https://www.redfin.com/CA/San-Jose/1216-Champagne-Ln-95132/home/1480156', 'https://www.redfin.com/CA/San-Jose/302-Cedargate-Ln-95136/home/982877', 'https://www.redfin.com/CA/San-Jose/3274-San-Rivas-Dr-95148/home/951895', 'https://www.redfin.com/CA/Palo-Alto/3109-Maddux-Dr-94303/home/1271969', 'https://www.redfin.com/CA/Los-Altos-Hills/24301-Elise-Ct-94024/home/1042042', 'https://www.redfin.com/CA/SAN-JOSE/TELEGRAPH-DR-95132/home/23472997', 'https://www.redfin.com/CA/Gilroy/8170-Honeycomb-Ln-95020/home/978794', 'https://www.redfin.com/CA/Morgan-Hill/13195-Chaparral-Rd-95037/home/181828651', 'https://www.redfin.com/CA/Monte-Sereno/18431-Hernandez-Ln-95030/home/572656', 'https://www.redfin.com/CA/Gilroy/8951-Tea-Tree-Way-95020/home/23472304', 'https://www.redfin.com/CA/Sunnyvale/725-W-Fremont-Ave-94087/home/658070', 'https://www.redfin.com/CA/Santa-Clara/2169-Ventura-Pl-95051/home/677064', 'https://www.redfin.com/CA/San-Jose/2213-Canyon-Cliff-Ct-95138/home/1637372', 'https://www.redfin.com/CA/San-Jose/3208-Mallard-Ct-95117/unit-303/home/180389815', 'https://www.redfin.com/CA/San-Jose/6525-Kona-Ct-95119/home/1288261', 'https://www.redfin.com/CA/Los-Altos/108-Coronado-Ave-94022/home/768679', 'https://www.redfin.com/CA/Gilroy/8765-Wild-Iris-Dr-95020/home/1823452', 'https://www.redfin.com/CA/Campbell/1218-Patio-Ct-95008/home/1262793', 'https://www.redfin.com/CA/San-Jose/6239-Mojave-Dr-95120/home/1490695', 'https://www.redfin.com/CA/San-Jose/2170-S-King-Rd-95122/home/893014', 'https://www.redfin.com/CA/San-Jose/539-Jackie-Dr-95111/home/901669', 'https://www.redfin.com/CA/Mountain-View/100-W-El-Camino-Real-94040/unit-30/home/1785066', 'https://www.redfin.com/CA/San-Jose/1929-Creek-Dr-95125/home/1549017', 'https://www.redfin.com/CA/San-Jose/5983-Prospect-Rd-95129/home/797605', 'https://www.redfin.com/CA/San-Jose/3753-Caravella-Dr-95117/home/746965', 'https://www.redfin.com/CA/San-Jose/1574-Ilikai-Ave-95118/home/1581249'}})\n"
     ]
    }
   ],
   "source": [
    "properties = defaultdict(set) \n",
    "\n",
    "for url in bayarea_county_page_links:    \n",
    "    county_name = re.findall('CA/([^/]+)',url) # key       \n",
    "    text = requests.get(url, headers=req_headers).text\n",
    "    soup = BS(text,'html5lib')     \n",
    "    county_text = soup.find('div',attrs={'id':'results-display'}) \n",
    "    all_links = [a['href'] for a in county_text('a') if a.has_attr('href')] \n",
    "    regex = r\"^/CA\" \n",
    "    for link in all_links:\n",
    "        if re.match(regex,link):\n",
    "            mlink = \"https://www.redfin.com\" + link\n",
    "            properties[county_name[0]].add(mlink)\n",
    "\n",
    "print(len(properties))\n",
    "print(properties)"
   ]
  },
  {
   "cell_type": "code",
   "execution_count": null,
   "id": "618c5bcf",
   "metadata": {
    "scrolled": false
   },
   "outputs": [],
   "source": [
    "# Creating empty lists for required parameters\n",
    "State = []\n",
    "County =[]\n",
    "City = []\n",
    "Street= []\n",
    "Zipcode = []\n",
    "Property_type = []\n",
    "Status = []\n",
    "Price = []\n",
    "Year_built = []\n",
    "Beds = []\n",
    "Bath = []\n",
    "Sqft = []\n",
    "Acre=[]\n",
    "Lot_area = []\n",
    "HOA_due = []\n",
    "School_score = []\n",
    "Walk_score = []\n",
    "Bike_score = []\n",
    "Garage_availibility = []\n",
    "Redfin_estimate = []\n",
    "\n",
    "for county in properties:   \n",
    "    \n",
    "    \n",
    "    for prop in properties[county]:  \n",
    "        \n",
    "        County.append(county)\n",
    "        \n",
    "        html_text = requests.get(prop,headers=req_headers).text\n",
    "        soup = BS(html_text,'html5lib')\n",
    "        \n",
    "        try:\n",
    "            state_value = soup.find('div',attrs={'class':'dp-subtext'}).text.split(', ')[1].split(' ')[0]\n",
    "        except:\n",
    "            state_value = np.nan\n",
    "        State.append(state_value)\n",
    "        \n",
    "        \n",
    "        try:\n",
    "            city_value = soup.find('div',attrs={'class':'dp-subtext'}).text.split(', ')[0]\n",
    "        except:\n",
    "            city_value = np.nan\n",
    "        City.append(city_value)\n",
    "        \n",
    "    \n",
    "        try:\n",
    "            street_value = soup.find('div',attrs={'class':'street-address'}).text.split(',')[0]\n",
    "        except:\n",
    "            street_value = np.nan\n",
    "        Street.append(street_value)\n",
    "        \n",
    "     \n",
    "        try:\n",
    "            zipcode_value = soup.find('div',attrs={'class':'dp-subtext'}).text.split(', ')[-1].split(' ')[-1]\n",
    "            \n",
    "        except:\n",
    "            zipcode_value = np.nan\n",
    "        Zipcode.append(zipcode_value) \n",
    "        \n",
    "        \n",
    "        try:\n",
    "            property_value = soup.findAll('div',attrs={'class':'keyDetail font-weight-roman font-size-base'})\n",
    "            for tag in property_value:\n",
    "                if(tag.span.text == 'Property Type'):\n",
    "                    property_type_value = tag.find('span',attrs={'class':'content text-right'}).text\n",
    "        except:\n",
    "            property_type_value = np.nan\n",
    "        Property_type.append(property_type_value)       \n",
    "        \n",
    "        \n",
    "        \n",
    "        try:\n",
    "            status_text = soup.findAll('div',attrs={'class':'keyDetail font-weight-roman font-size-base'})\n",
    "            status =''\n",
    "            for tag in status_text:\n",
    "                if(tag.span.text=='Status'):\n",
    "                    status = tag.find('span',attrs={'class':'DefinitionFlyoutLink inline-block underline clickable'})\n",
    "                    if status == None:\n",
    "                        status = tag.find('span',attrs={'class':'content text-right'})\n",
    "        except:\n",
    "            status=np.nan\n",
    "        Status.append(status.text)     \n",
    "        \n",
    "        \n",
    "        \n",
    "        try:\n",
    "            price_value = soup.find('div',attrs={'class':'statsValue'}).text.split('$')[1]\n",
    "        except:\n",
    "            price_value = np.nan\n",
    "        Price.append(price_value)\n",
    "        \n",
    "        \n",
    "        try:\n",
    "            year_built_text = soup.findAll('div',attrs={'class':'keyDetail font-weight-roman font-size-base'})\n",
    "            for tag in year_built_text:\n",
    "                if(tag.span.text=='Year Built'):\n",
    "                    year_built_value = int(tag.find('span',attrs={'class':'content text-right'}).text)\n",
    "        except:\n",
    "            year_built_value = np.nan\n",
    "        Year_built.append(year_built_value)\n",
    "                \n",
    "        \n",
    "        try:\n",
    "            bed_value_str = soup.find('div',attrs={'data-rf-test-id':'abp-beds'}).text.split('B')[0]\n",
    "            bed_value = int(bed_value_str)\n",
    "        except:\n",
    "            bed_value=np.nan\n",
    "        Beds.append(bed_value)\n",
    "        \n",
    "        \n",
    "        try:\n",
    "            bath_value_str =soup.find('div',attrs ={'data-rf-test-id':'abp-baths'}).text.split('B')[0]\n",
    "            bath_value = float(bath_value_str)\n",
    "        except:\n",
    "            bath_value = np.nan\n",
    "        Bath.append(bath_value)\n",
    "        \n",
    "        \n",
    "        try:\n",
    "            sqft_value_str =soup.find('div',attrs ={'data-rf-test-id':'abp-sqFt'}).text.split('S')[0].replace(',','')\n",
    "            sqft_value = float(sqft_value_str)\n",
    "        except:\n",
    "            sqft_value=np.nan\n",
    "        Sqft.append(sqft_value)\n",
    "        \n",
    "        \n",
    "        try:\n",
    "            acre_value =soup.find('div',attrs ={'class':'stat-block sqft-section'}).text.split('A')[0]\n",
    "        except:\n",
    "            acre_value=np.nan\n",
    "        Acre.append(acre_value)\n",
    "        \n",
    "        \n",
    "        try:\n",
    "            lot_prop_text = soup.findAll('div',attrs={'class':'keyDetail font-weight-roman font-size-base'})\n",
    "            for tag in lot_prop_text:\n",
    "                if(tag.span.text=='Lot Size'):\n",
    "                    lot_area_value = tag.find('span',attrs={'class':'content text-right'}).text\n",
    "        except:\n",
    "            lot_area_value = np.nan\n",
    "        Lot_area.append(lot_area_value)\n",
    "        \n",
    "        \n",
    "        \n",
    "        try:\n",
    "            hoa_text = soup.findAll('div',attrs={'class':'keyDetail font-weight-roman font-size-base'})\n",
    "            hoa_due_value =''\n",
    "            for tag in hoa_text:\n",
    "                if(tag.span.text=='HOA Dues'):\n",
    "                    hoa_due_value = tag.find('span',attrs={'class':'content text-right'}).text\n",
    "        except:\n",
    "            hoa_due_value = np.nan\n",
    "        HOA_due.append(hoa_due_value)\n",
    "        \n",
    "        \n",
    "        \n",
    "        try:\n",
    "            school_rating = max([rating.text[0] for rating in soup.findAll('div',attrs ={'class':'gs-rating-text'})])\n",
    "        except:\n",
    "            school_rating = np.nan\n",
    "            \n",
    "        School_score.append(school_rating)        \n",
    "        \n",
    "                \n",
    "        \n",
    "        try:\n",
    "            walk_score_value = int(soup.find('div',attrs={'class':'transport-icon-and-percentage walkscore'}).text.split(' /')[0])\n",
    "        except:\n",
    "            walk_score_value = np.nan\n",
    "        Walk_score.append(walk_score_value)\n",
    "        \n",
    "        \n",
    "        \n",
    "        try:\n",
    "            bike_score_value = int(soup.find('div',attrs={'class':'transport-icon-and-percentage bikescore'}).text.split(' /')[0])\n",
    "        except:\n",
    "            bike_score_value = np.nan\n",
    "        Bike_score.append(bike_score_value)\n",
    "        \n",
    "\n",
    "        \n",
    "        try:\n",
    "            garage_aval = soup.findAll('span',attrs={'class':'entryItemContent'})\n",
    "            for tag in garage_aval:\n",
    "                if(\"Garage\" in tag.text):\n",
    "                    value = 'Yes'\n",
    "                    break\n",
    "                else:    \n",
    "                    value = 'No'\n",
    "        except:   \n",
    "             value = np.nan\n",
    "        Garage_availibility.append(value)\n",
    "        \n",
    "        \n",
    "        \n",
    "        try:\n",
    "            redfin_estimate_text = soup.findAll('div',attrs={'class':'keyDetail font-weight-roman font-size-base'})\n",
    "            redfin_estimate_value =''\n",
    "            for tag in redfin_estimate_text:\n",
    "                if(tag.span.text =='Redfin Estimate'):\n",
    "                    redfin_estimate_value = tag.find('span',attrs={'class':'content text-right'}).text.split('$')[1]\n",
    "        except:\n",
    "            redfin_estimate_value=np.nan\n",
    "        Redfin_estimate.append(redfin_estimate_value)\n",
    "        \n",
    "        "
   ]
  },
  {
   "cell_type": "code",
   "execution_count": 12,
   "id": "134c56da",
   "metadata": {},
   "outputs": [],
   "source": [
    "df=pd.DataFrame(data={'State':State,'County':County,\n",
    "                      'City':City,'Street':Street,\n",
    "                      'Zipcode':Zipcode,'Property_Type':Property_type,\n",
    "                      'Status':Status,\n",
    "                      'Price':Price,'Year_Built':Year_built,\n",
    "                      'Beds':Beds,'Bath':Bath,'Sqft':Sqft,'Acre':Acre,\n",
    "                      'Lot Area':Lot_area,'HOA Due':HOA_due,'School_rating':School_score,\n",
    "                      'WalkScore':Walk_score,'Bike_Score':Bike_score,\n",
    "                      'Garage_availability':Garage_availibility,\n",
    "                      'Redfin_estimate':Redfin_estimate\n",
    "                      \n",
    "})                     "
   ]
  },
  {
   "cell_type": "code",
   "execution_count": 13,
   "id": "9d5ca1c3",
   "metadata": {},
   "outputs": [
    {
     "data": {
      "text/html": [
       "<div>\n",
       "<style scoped>\n",
       "    .dataframe tbody tr th:only-of-type {\n",
       "        vertical-align: middle;\n",
       "    }\n",
       "\n",
       "    .dataframe tbody tr th {\n",
       "        vertical-align: top;\n",
       "    }\n",
       "\n",
       "    .dataframe thead th {\n",
       "        text-align: right;\n",
       "    }\n",
       "</style>\n",
       "<table border=\"1\" class=\"dataframe\">\n",
       "  <thead>\n",
       "    <tr style=\"text-align: right;\">\n",
       "      <th></th>\n",
       "      <th>State</th>\n",
       "      <th>County</th>\n",
       "      <th>City</th>\n",
       "      <th>Street</th>\n",
       "      <th>Zipcode</th>\n",
       "      <th>Property_Type</th>\n",
       "      <th>Status</th>\n",
       "      <th>Price</th>\n",
       "      <th>Year_Built</th>\n",
       "      <th>Beds</th>\n",
       "      <th>Bath</th>\n",
       "      <th>Sqft</th>\n",
       "      <th>Acre</th>\n",
       "      <th>Lot Area</th>\n",
       "      <th>HOA Due</th>\n",
       "      <th>School_rating</th>\n",
       "      <th>WalkScore</th>\n",
       "      <th>Bike_Score</th>\n",
       "      <th>Garage_availability</th>\n",
       "      <th>Redfin_estimate</th>\n",
       "    </tr>\n",
       "  </thead>\n",
       "  <tbody>\n",
       "    <tr>\n",
       "      <th>0</th>\n",
       "      <td>CA</td>\n",
       "      <td>Contra-Costa-County</td>\n",
       "      <td>Oakley</td>\n",
       "      <td>2537 Talaria Dr</td>\n",
       "      <td>94561</td>\n",
       "      <td>Single Family Residential</td>\n",
       "      <td>Back On Market</td>\n",
       "      <td>649,999</td>\n",
       "      <td>2014</td>\n",
       "      <td>3.0</td>\n",
       "      <td>2.5</td>\n",
       "      <td>2279.0</td>\n",
       "      <td>2,279Sq Ft</td>\n",
       "      <td>6,228 Sq. Ft.</td>\n",
       "      <td>$114/month</td>\n",
       "      <td>6</td>\n",
       "      <td>6</td>\n",
       "      <td>35.0</td>\n",
       "      <td>Yes</td>\n",
       "      <td>655,836</td>\n",
       "    </tr>\n",
       "    <tr>\n",
       "      <th>1</th>\n",
       "      <td>CA</td>\n",
       "      <td>Contra-Costa-County</td>\n",
       "      <td>Pleasant Hill</td>\n",
       "      <td>66 Kathryn Dr</td>\n",
       "      <td>94523</td>\n",
       "      <td>Single Family Residential</td>\n",
       "      <td>Price Change</td>\n",
       "      <td>998,000</td>\n",
       "      <td>1952</td>\n",
       "      <td>3.0</td>\n",
       "      <td>1.0</td>\n",
       "      <td>1315.0</td>\n",
       "      <td>1,315Sq Ft</td>\n",
       "      <td>6,650 Sq. Ft.</td>\n",
       "      <td></td>\n",
       "      <td>8</td>\n",
       "      <td>83</td>\n",
       "      <td>76.0</td>\n",
       "      <td>Yes</td>\n",
       "      <td>1,048,496</td>\n",
       "    </tr>\n",
       "    <tr>\n",
       "      <th>2</th>\n",
       "      <td>CA</td>\n",
       "      <td>Contra-Costa-County</td>\n",
       "      <td>San Ramon</td>\n",
       "      <td>3246 Ensenada Dr</td>\n",
       "      <td>94583</td>\n",
       "      <td>Single Family Residential</td>\n",
       "      <td>New</td>\n",
       "      <td>1,395,000</td>\n",
       "      <td>1976</td>\n",
       "      <td>4.0</td>\n",
       "      <td>2.5</td>\n",
       "      <td>1880.0</td>\n",
       "      <td>1,880Sq Ft</td>\n",
       "      <td>7,000 Sq. Ft.</td>\n",
       "      <td></td>\n",
       "      <td>9</td>\n",
       "      <td>26</td>\n",
       "      <td>67.0</td>\n",
       "      <td>Yes</td>\n",
       "      <td>1,413,765</td>\n",
       "    </tr>\n",
       "    <tr>\n",
       "      <th>3</th>\n",
       "      <td>CA</td>\n",
       "      <td>Contra-Costa-County</td>\n",
       "      <td>Lafayette</td>\n",
       "      <td>1845 Reliez Valley Rd</td>\n",
       "      <td>94549</td>\n",
       "      <td>Single Family Residential</td>\n",
       "      <td>Active</td>\n",
       "      <td>1,848,888</td>\n",
       "      <td>1934</td>\n",
       "      <td>5.0</td>\n",
       "      <td>3.5</td>\n",
       "      <td>2733.0</td>\n",
       "      <td>2,733Sq Ft</td>\n",
       "      <td>0.87 Acres</td>\n",
       "      <td></td>\n",
       "      <td>9</td>\n",
       "      <td>4</td>\n",
       "      <td>3.0</td>\n",
       "      <td>Yes</td>\n",
       "      <td>1,861,281</td>\n",
       "    </tr>\n",
       "    <tr>\n",
       "      <th>4</th>\n",
       "      <td>CA</td>\n",
       "      <td>Contra-Costa-County</td>\n",
       "      <td>Orinda</td>\n",
       "      <td>40 Via Floreado</td>\n",
       "      <td>94563</td>\n",
       "      <td>Single Family Residential</td>\n",
       "      <td>New</td>\n",
       "      <td>2,150,000</td>\n",
       "      <td>1926</td>\n",
       "      <td>5.0</td>\n",
       "      <td>3.5</td>\n",
       "      <td>2516.0</td>\n",
       "      <td>2,516Sq Ft</td>\n",
       "      <td>0.50 Acres</td>\n",
       "      <td></td>\n",
       "      <td>9</td>\n",
       "      <td>1</td>\n",
       "      <td>4.0</td>\n",
       "      <td>Yes</td>\n",
       "      <td>2,152,108</td>\n",
       "    </tr>\n",
       "    <tr>\n",
       "      <th>...</th>\n",
       "      <td>...</td>\n",
       "      <td>...</td>\n",
       "      <td>...</td>\n",
       "      <td>...</td>\n",
       "      <td>...</td>\n",
       "      <td>...</td>\n",
       "      <td>...</td>\n",
       "      <td>...</td>\n",
       "      <td>...</td>\n",
       "      <td>...</td>\n",
       "      <td>...</td>\n",
       "      <td>...</td>\n",
       "      <td>...</td>\n",
       "      <td>...</td>\n",
       "      <td>...</td>\n",
       "      <td>...</td>\n",
       "      <td>...</td>\n",
       "      <td>...</td>\n",
       "      <td>...</td>\n",
       "      <td>...</td>\n",
       "    </tr>\n",
       "    <tr>\n",
       "      <th>1228</th>\n",
       "      <td>CA</td>\n",
       "      <td>San-Mateo-County</td>\n",
       "      <td>REDWOOD CITY</td>\n",
       "      <td>327 G St</td>\n",
       "      <td>94063</td>\n",
       "      <td>Single Family Home</td>\n",
       "      <td>Active</td>\n",
       "      <td>1,649,000</td>\n",
       "      <td>1951</td>\n",
       "      <td>3.0</td>\n",
       "      <td>2.0</td>\n",
       "      <td>1244.0</td>\n",
       "      <td>1,244Sq Ft</td>\n",
       "      <td>5,876 Sq. Ft.</td>\n",
       "      <td></td>\n",
       "      <td>9</td>\n",
       "      <td>65</td>\n",
       "      <td>81.0</td>\n",
       "      <td>Yes</td>\n",
       "      <td>1,674,965</td>\n",
       "    </tr>\n",
       "    <tr>\n",
       "      <th>1229</th>\n",
       "      <td>CA</td>\n",
       "      <td>San-Mateo-County</td>\n",
       "      <td>HILLSBOROUGH</td>\n",
       "      <td>5 Jewell Pl</td>\n",
       "      <td>94010</td>\n",
       "      <td>Single Family Home</td>\n",
       "      <td>Active</td>\n",
       "      <td>4,888,000</td>\n",
       "      <td>1965</td>\n",
       "      <td>3.0</td>\n",
       "      <td>3.0</td>\n",
       "      <td>2890.0</td>\n",
       "      <td>2,890Sq Ft</td>\n",
       "      <td>0.62 Acres</td>\n",
       "      <td></td>\n",
       "      <td>9</td>\n",
       "      <td>1</td>\n",
       "      <td>2.0</td>\n",
       "      <td>Yes</td>\n",
       "      <td>4,889,102</td>\n",
       "    </tr>\n",
       "    <tr>\n",
       "      <th>1230</th>\n",
       "      <td>CA</td>\n",
       "      <td>San-Mateo-County</td>\n",
       "      <td>BELMONT</td>\n",
       "      <td>3322 Plateau Dr</td>\n",
       "      <td>94002</td>\n",
       "      <td>Single Family Home</td>\n",
       "      <td>Active</td>\n",
       "      <td>2,488,000</td>\n",
       "      <td>1966</td>\n",
       "      <td>6.0</td>\n",
       "      <td>3.0</td>\n",
       "      <td>2240.0</td>\n",
       "      <td>2,240Sq Ft</td>\n",
       "      <td>10,290 Sq. Ft.</td>\n",
       "      <td></td>\n",
       "      <td>9</td>\n",
       "      <td>9</td>\n",
       "      <td>19.0</td>\n",
       "      <td>Yes</td>\n",
       "      <td>2,463,021</td>\n",
       "    </tr>\n",
       "    <tr>\n",
       "      <th>1231</th>\n",
       "      <td>CA</td>\n",
       "      <td>San-Mateo-County</td>\n",
       "      <td>San Mateo</td>\n",
       "      <td>102 Waters Park Cir</td>\n",
       "      <td>94403</td>\n",
       "      <td>Townhouse</td>\n",
       "      <td>New</td>\n",
       "      <td>1,463,917</td>\n",
       "      <td>2021</td>\n",
       "      <td>2.0</td>\n",
       "      <td>2.5</td>\n",
       "      <td>1602.0</td>\n",
       "      <td>1,602Sq Ft</td>\n",
       "      <td>10,290 Sq. Ft.</td>\n",
       "      <td>$350/month</td>\n",
       "      <td>7</td>\n",
       "      <td>48</td>\n",
       "      <td>75.0</td>\n",
       "      <td>Yes</td>\n",
       "      <td>1,462,581</td>\n",
       "    </tr>\n",
       "    <tr>\n",
       "      <th>1232</th>\n",
       "      <td>CA</td>\n",
       "      <td>San-Mateo-County</td>\n",
       "      <td>FOSTER CITY</td>\n",
       "      <td>1032 Sanderling St</td>\n",
       "      <td>94404</td>\n",
       "      <td>Single Family Home</td>\n",
       "      <td>Active</td>\n",
       "      <td>1,798,000</td>\n",
       "      <td>1965</td>\n",
       "      <td>4.0</td>\n",
       "      <td>3.0</td>\n",
       "      <td>2450.0</td>\n",
       "      <td>2,450Sq Ft</td>\n",
       "      <td>5,700 Sq. Ft.</td>\n",
       "      <td></td>\n",
       "      <td>7</td>\n",
       "      <td>38</td>\n",
       "      <td>68.0</td>\n",
       "      <td>Yes</td>\n",
       "      <td>1,841,263</td>\n",
       "    </tr>\n",
       "  </tbody>\n",
       "</table>\n",
       "<p>1233 rows × 20 columns</p>\n",
       "</div>"
      ],
      "text/plain": [
       "     State               County           City                 Street Zipcode  \\\n",
       "0       CA  Contra-Costa-County         Oakley        2537 Talaria Dr   94561   \n",
       "1       CA  Contra-Costa-County  Pleasant Hill          66 Kathryn Dr   94523   \n",
       "2       CA  Contra-Costa-County      San Ramon       3246 Ensenada Dr   94583   \n",
       "3       CA  Contra-Costa-County      Lafayette  1845 Reliez Valley Rd   94549   \n",
       "4       CA  Contra-Costa-County         Orinda        40 Via Floreado   94563   \n",
       "...    ...                  ...            ...                    ...     ...   \n",
       "1228    CA     San-Mateo-County   REDWOOD CITY               327 G St   94063   \n",
       "1229    CA     San-Mateo-County   HILLSBOROUGH            5 Jewell Pl   94010   \n",
       "1230    CA     San-Mateo-County        BELMONT        3322 Plateau Dr   94002   \n",
       "1231    CA     San-Mateo-County      San Mateo    102 Waters Park Cir   94403   \n",
       "1232    CA     San-Mateo-County    FOSTER CITY     1032 Sanderling St   94404   \n",
       "\n",
       "                  Property_Type          Status      Price  Year_Built  Beds  \\\n",
       "0     Single Family Residential  Back On Market    649,999        2014   3.0   \n",
       "1     Single Family Residential    Price Change    998,000        1952   3.0   \n",
       "2     Single Family Residential             New  1,395,000        1976   4.0   \n",
       "3     Single Family Residential          Active  1,848,888        1934   5.0   \n",
       "4     Single Family Residential             New  2,150,000        1926   5.0   \n",
       "...                         ...             ...        ...         ...   ...   \n",
       "1228         Single Family Home          Active  1,649,000        1951   3.0   \n",
       "1229         Single Family Home          Active  4,888,000        1965   3.0   \n",
       "1230         Single Family Home          Active  2,488,000        1966   6.0   \n",
       "1231                  Townhouse             New  1,463,917        2021   2.0   \n",
       "1232         Single Family Home          Active  1,798,000        1965   4.0   \n",
       "\n",
       "      Bath    Sqft        Acre        Lot Area     HOA Due School_rating  \\\n",
       "0      2.5  2279.0  2,279Sq Ft   6,228 Sq. Ft.  $114/month             6   \n",
       "1      1.0  1315.0  1,315Sq Ft   6,650 Sq. Ft.                         8   \n",
       "2      2.5  1880.0  1,880Sq Ft   7,000 Sq. Ft.                         9   \n",
       "3      3.5  2733.0  2,733Sq Ft      0.87 Acres                         9   \n",
       "4      3.5  2516.0  2,516Sq Ft      0.50 Acres                         9   \n",
       "...    ...     ...         ...             ...         ...           ...   \n",
       "1228   2.0  1244.0  1,244Sq Ft   5,876 Sq. Ft.                         9   \n",
       "1229   3.0  2890.0  2,890Sq Ft      0.62 Acres                         9   \n",
       "1230   3.0  2240.0  2,240Sq Ft  10,290 Sq. Ft.                         9   \n",
       "1231   2.5  1602.0  1,602Sq Ft  10,290 Sq. Ft.  $350/month             7   \n",
       "1232   3.0  2450.0  2,450Sq Ft   5,700 Sq. Ft.                         7   \n",
       "\n",
       "      WalkScore  Bike_Score Garage_availability Redfin_estimate  \n",
       "0             6        35.0                 Yes         655,836  \n",
       "1            83        76.0                 Yes       1,048,496  \n",
       "2            26        67.0                 Yes       1,413,765  \n",
       "3             4         3.0                 Yes       1,861,281  \n",
       "4             1         4.0                 Yes       2,152,108  \n",
       "...         ...         ...                 ...             ...  \n",
       "1228         65        81.0                 Yes       1,674,965  \n",
       "1229          1         2.0                 Yes       4,889,102  \n",
       "1230          9        19.0                 Yes       2,463,021  \n",
       "1231         48        75.0                 Yes       1,462,581  \n",
       "1232         38        68.0                 Yes       1,841,263  \n",
       "\n",
       "[1233 rows x 20 columns]"
      ]
     },
     "execution_count": 13,
     "metadata": {},
     "output_type": "execute_result"
    }
   ],
   "source": [
    "df"
   ]
  },
  {
   "cell_type": "code",
   "execution_count": null,
   "id": "83cad70a",
   "metadata": {},
   "outputs": [],
   "source": [
    "df.to_csv('Data_before_cleaning.csv')"
   ]
  },
  {
   "cell_type": "code",
   "execution_count": 16,
   "id": "1bd54a32",
   "metadata": {},
   "outputs": [],
   "source": [
    "#Data cleaning"
   ]
  },
  {
   "cell_type": "code",
   "execution_count": 17,
   "id": "1b9a9790",
   "metadata": {},
   "outputs": [
    {
     "data": {
      "text/plain": [
       "38"
      ]
     },
     "execution_count": 17,
     "metadata": {},
     "output_type": "execute_result"
    }
   ],
   "source": [
    "(df['Beds'].isna() & df['Bath'].isna()).sum()"
   ]
  },
  {
   "cell_type": "code",
   "execution_count": 18,
   "id": "376dae7e",
   "metadata": {},
   "outputs": [],
   "source": [
    "#If both beds and Bath have null values -> that indicates that the property is an empty land and there is no\n",
    "#built house. We will drop such rows"
   ]
  },
  {
   "cell_type": "code",
   "execution_count": 19,
   "id": "5dc2e220",
   "metadata": {},
   "outputs": [],
   "source": [
    "df = df.dropna(subset=['Beds', 'Bath'],how='all')"
   ]
  },
  {
   "cell_type": "code",
   "execution_count": 20,
   "id": "7f3d0ea7",
   "metadata": {},
   "outputs": [],
   "source": [
    "#Replacing Bike_Score null values as 0"
   ]
  },
  {
   "cell_type": "code",
   "execution_count": 21,
   "id": "9ef7c1a9",
   "metadata": {},
   "outputs": [
    {
     "name": "stderr",
     "output_type": "stream",
     "text": [
      "/Users/neenujose/opt/anaconda3/lib/python3.9/site-packages/pandas/core/generic.py:6392: SettingWithCopyWarning: \n",
      "A value is trying to be set on a copy of a slice from a DataFrame\n",
      "\n",
      "See the caveats in the documentation: https://pandas.pydata.org/pandas-docs/stable/user_guide/indexing.html#returning-a-view-versus-a-copy\n",
      "  return self._update_inplace(result)\n"
     ]
    }
   ],
   "source": [
    "df['Bike_Score'].fillna(0,inplace=True)"
   ]
  },
  {
   "cell_type": "code",
   "execution_count": 22,
   "id": "78952369",
   "metadata": {},
   "outputs": [],
   "source": [
    "#We have removed properties where both beds and baths are 0\n",
    "#To deal with remaining null values in Individual columns of Beds & Baths, we will replace it with 0 since \n",
    "#that means there is either no bedroom or not bathroom in that property"
   ]
  },
  {
   "cell_type": "code",
   "execution_count": 23,
   "id": "ad962425",
   "metadata": {},
   "outputs": [],
   "source": [
    "df['Beds'].fillna(0,inplace=True)\n",
    "df['Bath'].fillna(0,inplace=True)"
   ]
  },
  {
   "cell_type": "code",
   "execution_count": 24,
   "id": "62b0ac39",
   "metadata": {
    "scrolled": true
   },
   "outputs": [
    {
     "data": {
      "text/plain": [
       "State                  0\n",
       "County                 0\n",
       "City                   0\n",
       "Street                 0\n",
       "Zipcode                0\n",
       "Property_Type          0\n",
       "Status                 0\n",
       "Price                  0\n",
       "Year_Built             0\n",
       "Beds                   0\n",
       "Bath                   0\n",
       "Sqft                   2\n",
       "Acre                   0\n",
       "Lot Area               0\n",
       "HOA Due                0\n",
       "School_rating          9\n",
       "WalkScore              0\n",
       "Bike_Score             0\n",
       "Garage_availability    0\n",
       "Redfin_estimate        0\n",
       "dtype: int64"
      ]
     },
     "execution_count": 24,
     "metadata": {},
     "output_type": "execute_result"
    }
   ],
   "source": [
    "df.isna().sum()"
   ]
  },
  {
   "cell_type": "code",
   "execution_count": 25,
   "id": "1ae3523c",
   "metadata": {},
   "outputs": [],
   "source": [
    "#deleting rows where sqft is not provided(null) since sqft is a part of our analysis"
   ]
  },
  {
   "cell_type": "code",
   "execution_count": 26,
   "id": "0392a207",
   "metadata": {},
   "outputs": [],
   "source": [
    "df=df.dropna(subset=['Sqft'])"
   ]
  },
  {
   "cell_type": "code",
   "execution_count": 27,
   "id": "b42141c1",
   "metadata": {},
   "outputs": [],
   "source": [
    "#Removing special characters in columns(Price, Redfin_estimate, School_rating, Year_Built, HOA Due, Lot Area ) \n",
    "#and converting datatypes into relevant datatypes"
   ]
  },
  {
   "cell_type": "code",
   "execution_count": 28,
   "id": "ecc24db0",
   "metadata": {},
   "outputs": [],
   "source": [
    "df['Price'] = df['Price'].astype(str).str.replace(',','')\n",
    "df['Price'] = df['Price'].astype(float)"
   ]
  },
  {
   "cell_type": "code",
   "execution_count": 29,
   "id": "acd8c9f1",
   "metadata": {},
   "outputs": [],
   "source": [
    "#df['Redfin_estimate'] = df['Redfin_estimate'].apply(lambda x: 0 if str(x) == ',' else x)\n",
    "df['Redfin_estimate'] = df['Redfin_estimate'].astype(str).str.replace(',','')\n",
    "df['Redfin_estimate'] = df['Redfin_estimate'].apply(lambda x: 0 if str(x) == '' else x)\n",
    "df['Redfin_estimate'].fillna(0,inplace=True)\n",
    "df['Redfin_estimate'] = df['Redfin_estimate'].astype(float)"
   ]
  },
  {
   "cell_type": "code",
   "execution_count": 30,
   "id": "56a7a0bd",
   "metadata": {},
   "outputs": [],
   "source": [
    "df['School_rating'] = df['School_rating'].apply(lambda x: 0 if str(x) == '-' else x)\n",
    "df['School_rating'].fillna(0,inplace=True)\n",
    "df['School_rating'] = df['School_rating'].astype(int)"
   ]
  },
  {
   "cell_type": "code",
   "execution_count": 31,
   "id": "7fd96e79",
   "metadata": {},
   "outputs": [],
   "source": [
    "df['Year_Built'].fillna(0,inplace=True)\n",
    "df['Year_Built'] = df['Year_Built'].astype(int)"
   ]
  },
  {
   "cell_type": "code",
   "execution_count": 32,
   "id": "9534feec",
   "metadata": {},
   "outputs": [
    {
     "name": "stderr",
     "output_type": "stream",
     "text": [
      "/var/folders/6y/5vsy8lk50_nggsg92tkybjmm0000gn/T/ipykernel_1055/586923046.py:2: FutureWarning: The default value of regex will change from True to False in a future version. In addition, single character regular expressions will *not* be treated as literal strings when regex=True.\n",
      "  df['HOA Due'] = df['HOA Due'].str.replace('$','')\n"
     ]
    }
   ],
   "source": [
    "df['HOA Due'] = df['HOA Due'].str.replace(',','')\n",
    "df['HOA Due'] = df['HOA Due'].str.replace('$','')\n",
    "df['HOA Due'] = df['HOA Due'].str.replace('/month','')\n",
    "df['HOA Due'] = df['HOA Due'].apply(lambda x: 0 if str(x) == '' else x)\n",
    "df['HOA Due'].fillna(0,inplace=True)\n",
    "df['HOA Due'] = df['HOA Due'].astype(float)"
   ]
  },
  {
   "cell_type": "code",
   "execution_count": 33,
   "id": "d203eebb",
   "metadata": {},
   "outputs": [
    {
     "name": "stderr",
     "output_type": "stream",
     "text": [
      "/var/folders/6y/5vsy8lk50_nggsg92tkybjmm0000gn/T/ipykernel_1055/224277968.py:3: FutureWarning: The default value of regex will change from True to False in a future version.\n",
      "  df['Lot Area'] = df['Lot Area'].str.replace('Sq. Ft.','')\n"
     ]
    }
   ],
   "source": [
    "df['Lot Area'].fillna(0,inplace=True)\n",
    "df['Lot Area'] = df['Lot Area'].str.replace(',','')\n",
    "df['Lot Area'] = df['Lot Area'].str.replace('Sq. Ft.','')\n",
    "df['Lot Area'] = df['Lot Area'].apply(lambda x: float(str(x)[:-6])*43560 if str(x)[-5:] == 'Acres' else (float(str(x)[:-5]) if str(x)[-4:] == 'Acre' else x))\n",
    "df['Lot Area'] = df['Lot Area'].apply(lambda x: 0 if str(x) == '' else x)\n",
    "df['Lot Area'] = df['Lot Area'].astype(float)"
   ]
  },
  {
   "cell_type": "code",
   "execution_count": null,
   "id": "ab5117c6",
   "metadata": {},
   "outputs": [],
   "source": [
    "#dropping the acre column. It was only used to identify the values where we do not have sqft"
   ]
  },
  {
   "cell_type": "code",
   "execution_count": 34,
   "id": "0eebf210",
   "metadata": {},
   "outputs": [],
   "source": [
    "df=df.drop(columns=['Acre'])"
   ]
  },
  {
   "cell_type": "code",
   "execution_count": 35,
   "id": "f11c2209",
   "metadata": {},
   "outputs": [
    {
     "data": {
      "text/html": [
       "<div>\n",
       "<style scoped>\n",
       "    .dataframe tbody tr th:only-of-type {\n",
       "        vertical-align: middle;\n",
       "    }\n",
       "\n",
       "    .dataframe tbody tr th {\n",
       "        vertical-align: top;\n",
       "    }\n",
       "\n",
       "    .dataframe thead th {\n",
       "        text-align: right;\n",
       "    }\n",
       "</style>\n",
       "<table border=\"1\" class=\"dataframe\">\n",
       "  <thead>\n",
       "    <tr style=\"text-align: right;\">\n",
       "      <th></th>\n",
       "      <th>State</th>\n",
       "      <th>County</th>\n",
       "      <th>City</th>\n",
       "      <th>Street</th>\n",
       "      <th>Zipcode</th>\n",
       "      <th>Property_Type</th>\n",
       "      <th>Status</th>\n",
       "      <th>Price</th>\n",
       "      <th>Year_Built</th>\n",
       "      <th>Beds</th>\n",
       "      <th>Bath</th>\n",
       "      <th>Sqft</th>\n",
       "      <th>Lot Area</th>\n",
       "      <th>HOA Due</th>\n",
       "      <th>School_rating</th>\n",
       "      <th>WalkScore</th>\n",
       "      <th>Bike_Score</th>\n",
       "      <th>Garage_availability</th>\n",
       "      <th>Redfin_estimate</th>\n",
       "    </tr>\n",
       "  </thead>\n",
       "  <tbody>\n",
       "    <tr>\n",
       "      <th>0</th>\n",
       "      <td>CA</td>\n",
       "      <td>Contra-Costa-County</td>\n",
       "      <td>Oakley</td>\n",
       "      <td>2537 Talaria Dr</td>\n",
       "      <td>94561</td>\n",
       "      <td>Single Family Residential</td>\n",
       "      <td>Back On Market</td>\n",
       "      <td>649999.0</td>\n",
       "      <td>2014</td>\n",
       "      <td>3.0</td>\n",
       "      <td>2.5</td>\n",
       "      <td>2279.0</td>\n",
       "      <td>6228.0</td>\n",
       "      <td>114.0</td>\n",
       "      <td>6</td>\n",
       "      <td>6</td>\n",
       "      <td>35.0</td>\n",
       "      <td>Yes</td>\n",
       "      <td>655836.0</td>\n",
       "    </tr>\n",
       "    <tr>\n",
       "      <th>1</th>\n",
       "      <td>CA</td>\n",
       "      <td>Contra-Costa-County</td>\n",
       "      <td>Pleasant Hill</td>\n",
       "      <td>66 Kathryn Dr</td>\n",
       "      <td>94523</td>\n",
       "      <td>Single Family Residential</td>\n",
       "      <td>Price Change</td>\n",
       "      <td>998000.0</td>\n",
       "      <td>1952</td>\n",
       "      <td>3.0</td>\n",
       "      <td>1.0</td>\n",
       "      <td>1315.0</td>\n",
       "      <td>6650.0</td>\n",
       "      <td>0.0</td>\n",
       "      <td>8</td>\n",
       "      <td>83</td>\n",
       "      <td>76.0</td>\n",
       "      <td>Yes</td>\n",
       "      <td>1048496.0</td>\n",
       "    </tr>\n",
       "    <tr>\n",
       "      <th>2</th>\n",
       "      <td>CA</td>\n",
       "      <td>Contra-Costa-County</td>\n",
       "      <td>San Ramon</td>\n",
       "      <td>3246 Ensenada Dr</td>\n",
       "      <td>94583</td>\n",
       "      <td>Single Family Residential</td>\n",
       "      <td>New</td>\n",
       "      <td>1395000.0</td>\n",
       "      <td>1976</td>\n",
       "      <td>4.0</td>\n",
       "      <td>2.5</td>\n",
       "      <td>1880.0</td>\n",
       "      <td>7000.0</td>\n",
       "      <td>0.0</td>\n",
       "      <td>9</td>\n",
       "      <td>26</td>\n",
       "      <td>67.0</td>\n",
       "      <td>Yes</td>\n",
       "      <td>1413765.0</td>\n",
       "    </tr>\n",
       "    <tr>\n",
       "      <th>3</th>\n",
       "      <td>CA</td>\n",
       "      <td>Contra-Costa-County</td>\n",
       "      <td>Lafayette</td>\n",
       "      <td>1845 Reliez Valley Rd</td>\n",
       "      <td>94549</td>\n",
       "      <td>Single Family Residential</td>\n",
       "      <td>Active</td>\n",
       "      <td>1848888.0</td>\n",
       "      <td>1934</td>\n",
       "      <td>5.0</td>\n",
       "      <td>3.5</td>\n",
       "      <td>2733.0</td>\n",
       "      <td>37897.2</td>\n",
       "      <td>0.0</td>\n",
       "      <td>9</td>\n",
       "      <td>4</td>\n",
       "      <td>3.0</td>\n",
       "      <td>Yes</td>\n",
       "      <td>1861281.0</td>\n",
       "    </tr>\n",
       "    <tr>\n",
       "      <th>4</th>\n",
       "      <td>CA</td>\n",
       "      <td>Contra-Costa-County</td>\n",
       "      <td>Orinda</td>\n",
       "      <td>40 Via Floreado</td>\n",
       "      <td>94563</td>\n",
       "      <td>Single Family Residential</td>\n",
       "      <td>New</td>\n",
       "      <td>2150000.0</td>\n",
       "      <td>1926</td>\n",
       "      <td>5.0</td>\n",
       "      <td>3.5</td>\n",
       "      <td>2516.0</td>\n",
       "      <td>21780.0</td>\n",
       "      <td>0.0</td>\n",
       "      <td>9</td>\n",
       "      <td>1</td>\n",
       "      <td>4.0</td>\n",
       "      <td>Yes</td>\n",
       "      <td>2152108.0</td>\n",
       "    </tr>\n",
       "    <tr>\n",
       "      <th>...</th>\n",
       "      <td>...</td>\n",
       "      <td>...</td>\n",
       "      <td>...</td>\n",
       "      <td>...</td>\n",
       "      <td>...</td>\n",
       "      <td>...</td>\n",
       "      <td>...</td>\n",
       "      <td>...</td>\n",
       "      <td>...</td>\n",
       "      <td>...</td>\n",
       "      <td>...</td>\n",
       "      <td>...</td>\n",
       "      <td>...</td>\n",
       "      <td>...</td>\n",
       "      <td>...</td>\n",
       "      <td>...</td>\n",
       "      <td>...</td>\n",
       "      <td>...</td>\n",
       "      <td>...</td>\n",
       "    </tr>\n",
       "    <tr>\n",
       "      <th>1228</th>\n",
       "      <td>CA</td>\n",
       "      <td>San-Mateo-County</td>\n",
       "      <td>REDWOOD CITY</td>\n",
       "      <td>327 G St</td>\n",
       "      <td>94063</td>\n",
       "      <td>Single Family Home</td>\n",
       "      <td>Active</td>\n",
       "      <td>1649000.0</td>\n",
       "      <td>1951</td>\n",
       "      <td>3.0</td>\n",
       "      <td>2.0</td>\n",
       "      <td>1244.0</td>\n",
       "      <td>5876.0</td>\n",
       "      <td>0.0</td>\n",
       "      <td>9</td>\n",
       "      <td>65</td>\n",
       "      <td>81.0</td>\n",
       "      <td>Yes</td>\n",
       "      <td>1674965.0</td>\n",
       "    </tr>\n",
       "    <tr>\n",
       "      <th>1229</th>\n",
       "      <td>CA</td>\n",
       "      <td>San-Mateo-County</td>\n",
       "      <td>HILLSBOROUGH</td>\n",
       "      <td>5 Jewell Pl</td>\n",
       "      <td>94010</td>\n",
       "      <td>Single Family Home</td>\n",
       "      <td>Active</td>\n",
       "      <td>4888000.0</td>\n",
       "      <td>1965</td>\n",
       "      <td>3.0</td>\n",
       "      <td>3.0</td>\n",
       "      <td>2890.0</td>\n",
       "      <td>27007.2</td>\n",
       "      <td>0.0</td>\n",
       "      <td>9</td>\n",
       "      <td>1</td>\n",
       "      <td>2.0</td>\n",
       "      <td>Yes</td>\n",
       "      <td>4889102.0</td>\n",
       "    </tr>\n",
       "    <tr>\n",
       "      <th>1230</th>\n",
       "      <td>CA</td>\n",
       "      <td>San-Mateo-County</td>\n",
       "      <td>BELMONT</td>\n",
       "      <td>3322 Plateau Dr</td>\n",
       "      <td>94002</td>\n",
       "      <td>Single Family Home</td>\n",
       "      <td>Active</td>\n",
       "      <td>2488000.0</td>\n",
       "      <td>1966</td>\n",
       "      <td>6.0</td>\n",
       "      <td>3.0</td>\n",
       "      <td>2240.0</td>\n",
       "      <td>10290.0</td>\n",
       "      <td>0.0</td>\n",
       "      <td>9</td>\n",
       "      <td>9</td>\n",
       "      <td>19.0</td>\n",
       "      <td>Yes</td>\n",
       "      <td>2463021.0</td>\n",
       "    </tr>\n",
       "    <tr>\n",
       "      <th>1231</th>\n",
       "      <td>CA</td>\n",
       "      <td>San-Mateo-County</td>\n",
       "      <td>San Mateo</td>\n",
       "      <td>102 Waters Park Cir</td>\n",
       "      <td>94403</td>\n",
       "      <td>Townhouse</td>\n",
       "      <td>New</td>\n",
       "      <td>1463917.0</td>\n",
       "      <td>2021</td>\n",
       "      <td>2.0</td>\n",
       "      <td>2.5</td>\n",
       "      <td>1602.0</td>\n",
       "      <td>10290.0</td>\n",
       "      <td>350.0</td>\n",
       "      <td>7</td>\n",
       "      <td>48</td>\n",
       "      <td>75.0</td>\n",
       "      <td>Yes</td>\n",
       "      <td>1462581.0</td>\n",
       "    </tr>\n",
       "    <tr>\n",
       "      <th>1232</th>\n",
       "      <td>CA</td>\n",
       "      <td>San-Mateo-County</td>\n",
       "      <td>FOSTER CITY</td>\n",
       "      <td>1032 Sanderling St</td>\n",
       "      <td>94404</td>\n",
       "      <td>Single Family Home</td>\n",
       "      <td>Active</td>\n",
       "      <td>1798000.0</td>\n",
       "      <td>1965</td>\n",
       "      <td>4.0</td>\n",
       "      <td>3.0</td>\n",
       "      <td>2450.0</td>\n",
       "      <td>5700.0</td>\n",
       "      <td>0.0</td>\n",
       "      <td>7</td>\n",
       "      <td>38</td>\n",
       "      <td>68.0</td>\n",
       "      <td>Yes</td>\n",
       "      <td>1841263.0</td>\n",
       "    </tr>\n",
       "  </tbody>\n",
       "</table>\n",
       "<p>1193 rows × 19 columns</p>\n",
       "</div>"
      ],
      "text/plain": [
       "     State               County           City                 Street Zipcode  \\\n",
       "0       CA  Contra-Costa-County         Oakley        2537 Talaria Dr   94561   \n",
       "1       CA  Contra-Costa-County  Pleasant Hill          66 Kathryn Dr   94523   \n",
       "2       CA  Contra-Costa-County      San Ramon       3246 Ensenada Dr   94583   \n",
       "3       CA  Contra-Costa-County      Lafayette  1845 Reliez Valley Rd   94549   \n",
       "4       CA  Contra-Costa-County         Orinda        40 Via Floreado   94563   \n",
       "...    ...                  ...            ...                    ...     ...   \n",
       "1228    CA     San-Mateo-County   REDWOOD CITY               327 G St   94063   \n",
       "1229    CA     San-Mateo-County   HILLSBOROUGH            5 Jewell Pl   94010   \n",
       "1230    CA     San-Mateo-County        BELMONT        3322 Plateau Dr   94002   \n",
       "1231    CA     San-Mateo-County      San Mateo    102 Waters Park Cir   94403   \n",
       "1232    CA     San-Mateo-County    FOSTER CITY     1032 Sanderling St   94404   \n",
       "\n",
       "                  Property_Type          Status      Price  Year_Built  Beds  \\\n",
       "0     Single Family Residential  Back On Market   649999.0        2014   3.0   \n",
       "1     Single Family Residential    Price Change   998000.0        1952   3.0   \n",
       "2     Single Family Residential             New  1395000.0        1976   4.0   \n",
       "3     Single Family Residential          Active  1848888.0        1934   5.0   \n",
       "4     Single Family Residential             New  2150000.0        1926   5.0   \n",
       "...                         ...             ...        ...         ...   ...   \n",
       "1228         Single Family Home          Active  1649000.0        1951   3.0   \n",
       "1229         Single Family Home          Active  4888000.0        1965   3.0   \n",
       "1230         Single Family Home          Active  2488000.0        1966   6.0   \n",
       "1231                  Townhouse             New  1463917.0        2021   2.0   \n",
       "1232         Single Family Home          Active  1798000.0        1965   4.0   \n",
       "\n",
       "      Bath    Sqft  Lot Area  HOA Due  School_rating  WalkScore  Bike_Score  \\\n",
       "0      2.5  2279.0    6228.0    114.0              6          6        35.0   \n",
       "1      1.0  1315.0    6650.0      0.0              8         83        76.0   \n",
       "2      2.5  1880.0    7000.0      0.0              9         26        67.0   \n",
       "3      3.5  2733.0   37897.2      0.0              9          4         3.0   \n",
       "4      3.5  2516.0   21780.0      0.0              9          1         4.0   \n",
       "...    ...     ...       ...      ...            ...        ...         ...   \n",
       "1228   2.0  1244.0    5876.0      0.0              9         65        81.0   \n",
       "1229   3.0  2890.0   27007.2      0.0              9          1         2.0   \n",
       "1230   3.0  2240.0   10290.0      0.0              9          9        19.0   \n",
       "1231   2.5  1602.0   10290.0    350.0              7         48        75.0   \n",
       "1232   3.0  2450.0    5700.0      0.0              7         38        68.0   \n",
       "\n",
       "     Garage_availability  Redfin_estimate  \n",
       "0                    Yes         655836.0  \n",
       "1                    Yes        1048496.0  \n",
       "2                    Yes        1413765.0  \n",
       "3                    Yes        1861281.0  \n",
       "4                    Yes        2152108.0  \n",
       "...                  ...              ...  \n",
       "1228                 Yes        1674965.0  \n",
       "1229                 Yes        4889102.0  \n",
       "1230                 Yes        2463021.0  \n",
       "1231                 Yes        1462581.0  \n",
       "1232                 Yes        1841263.0  \n",
       "\n",
       "[1193 rows x 19 columns]"
      ]
     },
     "execution_count": 35,
     "metadata": {},
     "output_type": "execute_result"
    }
   ],
   "source": [
    "df"
   ]
  },
  {
   "cell_type": "code",
   "execution_count": 36,
   "id": "c1aa60c6",
   "metadata": {},
   "outputs": [],
   "source": [
    "df=df.reset_index()"
   ]
  },
  {
   "cell_type": "code",
   "execution_count": 37,
   "id": "96927fec",
   "metadata": {},
   "outputs": [],
   "source": [
    "df=df.drop(columns=['index'])"
   ]
  },
  {
   "cell_type": "code",
   "execution_count": 38,
   "id": "08e27042",
   "metadata": {},
   "outputs": [
    {
     "data": {
      "text/plain": [
       "State                   object\n",
       "County                  object\n",
       "City                    object\n",
       "Street                  object\n",
       "Zipcode                 object\n",
       "Property_Type           object\n",
       "Status                  object\n",
       "Price                  float64\n",
       "Year_Built               int64\n",
       "Beds                   float64\n",
       "Bath                   float64\n",
       "Sqft                   float64\n",
       "Lot Area               float64\n",
       "HOA Due                float64\n",
       "School_rating            int64\n",
       "WalkScore                int64\n",
       "Bike_Score             float64\n",
       "Garage_availability     object\n",
       "Redfin_estimate        float64\n",
       "dtype: object"
      ]
     },
     "execution_count": 38,
     "metadata": {},
     "output_type": "execute_result"
    }
   ],
   "source": [
    "df.dtypes"
   ]
  },
  {
   "cell_type": "code",
   "execution_count": 39,
   "id": "b3158554",
   "metadata": {},
   "outputs": [],
   "source": [
    "#Normalization"
   ]
  },
  {
   "cell_type": "code",
   "execution_count": 40,
   "id": "ac9f8540",
   "metadata": {},
   "outputs": [],
   "source": [
    "df['Street']=df['Street'].apply(lambda x:x[0]+x[1:].lower())"
   ]
  },
  {
   "cell_type": "code",
   "execution_count": 41,
   "id": "a942314b",
   "metadata": {},
   "outputs": [],
   "source": [
    "df['City']=df['City'].apply(lambda x:x[0]+x[1:].lower())"
   ]
  },
  {
   "cell_type": "code",
   "execution_count": 42,
   "id": "c23d5a0d",
   "metadata": {},
   "outputs": [],
   "source": [
    "df['State']=df['State'].apply(lambda x:x[0]+x[1:].lower())"
   ]
  },
  {
   "cell_type": "code",
   "execution_count": 43,
   "id": "4f950789",
   "metadata": {},
   "outputs": [],
   "source": [
    "df['Property_Type']=df['Property_Type'].apply(lambda x:x[0]+x[1:].lower())"
   ]
  },
  {
   "cell_type": "code",
   "execution_count": 44,
   "id": "055b2b4a",
   "metadata": {},
   "outputs": [],
   "source": [
    "df['Status']=df['Status'].apply(lambda x:x[0]+x[1:].lower())"
   ]
  },
  {
   "cell_type": "code",
   "execution_count": 45,
   "id": "ceee1e4c",
   "metadata": {},
   "outputs": [],
   "source": [
    "df['Garage_availability']=df['Garage_availability'].apply(lambda x:x[0]+x[1:].lower())"
   ]
  },
  {
   "cell_type": "code",
   "execution_count": 46,
   "id": "88fca7a3",
   "metadata": {},
   "outputs": [],
   "source": [
    "df['County']=df['County'].apply(lambda x:x[0]+x[1:].lower())"
   ]
  },
  {
   "cell_type": "code",
   "execution_count": 47,
   "id": "818bf405",
   "metadata": {},
   "outputs": [
    {
     "data": {
      "text/html": [
       "<div>\n",
       "<style scoped>\n",
       "    .dataframe tbody tr th:only-of-type {\n",
       "        vertical-align: middle;\n",
       "    }\n",
       "\n",
       "    .dataframe tbody tr th {\n",
       "        vertical-align: top;\n",
       "    }\n",
       "\n",
       "    .dataframe thead th {\n",
       "        text-align: right;\n",
       "    }\n",
       "</style>\n",
       "<table border=\"1\" class=\"dataframe\">\n",
       "  <thead>\n",
       "    <tr style=\"text-align: right;\">\n",
       "      <th></th>\n",
       "      <th>State</th>\n",
       "      <th>County</th>\n",
       "      <th>City</th>\n",
       "      <th>Street</th>\n",
       "      <th>Zipcode</th>\n",
       "      <th>Property_Type</th>\n",
       "      <th>Status</th>\n",
       "      <th>Price</th>\n",
       "      <th>Year_Built</th>\n",
       "      <th>Beds</th>\n",
       "      <th>Bath</th>\n",
       "      <th>Sqft</th>\n",
       "      <th>Lot Area</th>\n",
       "      <th>HOA Due</th>\n",
       "      <th>School_rating</th>\n",
       "      <th>WalkScore</th>\n",
       "      <th>Bike_Score</th>\n",
       "      <th>Garage_availability</th>\n",
       "      <th>Redfin_estimate</th>\n",
       "    </tr>\n",
       "  </thead>\n",
       "  <tbody>\n",
       "    <tr>\n",
       "      <th>0</th>\n",
       "      <td>Ca</td>\n",
       "      <td>Contra-costa-county</td>\n",
       "      <td>Oakley</td>\n",
       "      <td>2537 talaria dr</td>\n",
       "      <td>94561</td>\n",
       "      <td>Single family residential</td>\n",
       "      <td>Back on market</td>\n",
       "      <td>649999.0</td>\n",
       "      <td>2014</td>\n",
       "      <td>3.0</td>\n",
       "      <td>2.5</td>\n",
       "      <td>2279.0</td>\n",
       "      <td>6228.0</td>\n",
       "      <td>114.0</td>\n",
       "      <td>6</td>\n",
       "      <td>6</td>\n",
       "      <td>35.0</td>\n",
       "      <td>Yes</td>\n",
       "      <td>655836.0</td>\n",
       "    </tr>\n",
       "    <tr>\n",
       "      <th>1</th>\n",
       "      <td>Ca</td>\n",
       "      <td>Contra-costa-county</td>\n",
       "      <td>Pleasant hill</td>\n",
       "      <td>66 kathryn dr</td>\n",
       "      <td>94523</td>\n",
       "      <td>Single family residential</td>\n",
       "      <td>Price change</td>\n",
       "      <td>998000.0</td>\n",
       "      <td>1952</td>\n",
       "      <td>3.0</td>\n",
       "      <td>1.0</td>\n",
       "      <td>1315.0</td>\n",
       "      <td>6650.0</td>\n",
       "      <td>0.0</td>\n",
       "      <td>8</td>\n",
       "      <td>83</td>\n",
       "      <td>76.0</td>\n",
       "      <td>Yes</td>\n",
       "      <td>1048496.0</td>\n",
       "    </tr>\n",
       "    <tr>\n",
       "      <th>2</th>\n",
       "      <td>Ca</td>\n",
       "      <td>Contra-costa-county</td>\n",
       "      <td>San ramon</td>\n",
       "      <td>3246 ensenada dr</td>\n",
       "      <td>94583</td>\n",
       "      <td>Single family residential</td>\n",
       "      <td>New</td>\n",
       "      <td>1395000.0</td>\n",
       "      <td>1976</td>\n",
       "      <td>4.0</td>\n",
       "      <td>2.5</td>\n",
       "      <td>1880.0</td>\n",
       "      <td>7000.0</td>\n",
       "      <td>0.0</td>\n",
       "      <td>9</td>\n",
       "      <td>26</td>\n",
       "      <td>67.0</td>\n",
       "      <td>Yes</td>\n",
       "      <td>1413765.0</td>\n",
       "    </tr>\n",
       "    <tr>\n",
       "      <th>3</th>\n",
       "      <td>Ca</td>\n",
       "      <td>Contra-costa-county</td>\n",
       "      <td>Lafayette</td>\n",
       "      <td>1845 reliez valley rd</td>\n",
       "      <td>94549</td>\n",
       "      <td>Single family residential</td>\n",
       "      <td>Active</td>\n",
       "      <td>1848888.0</td>\n",
       "      <td>1934</td>\n",
       "      <td>5.0</td>\n",
       "      <td>3.5</td>\n",
       "      <td>2733.0</td>\n",
       "      <td>37897.2</td>\n",
       "      <td>0.0</td>\n",
       "      <td>9</td>\n",
       "      <td>4</td>\n",
       "      <td>3.0</td>\n",
       "      <td>Yes</td>\n",
       "      <td>1861281.0</td>\n",
       "    </tr>\n",
       "    <tr>\n",
       "      <th>4</th>\n",
       "      <td>Ca</td>\n",
       "      <td>Contra-costa-county</td>\n",
       "      <td>Orinda</td>\n",
       "      <td>40 via floreado</td>\n",
       "      <td>94563</td>\n",
       "      <td>Single family residential</td>\n",
       "      <td>New</td>\n",
       "      <td>2150000.0</td>\n",
       "      <td>1926</td>\n",
       "      <td>5.0</td>\n",
       "      <td>3.5</td>\n",
       "      <td>2516.0</td>\n",
       "      <td>21780.0</td>\n",
       "      <td>0.0</td>\n",
       "      <td>9</td>\n",
       "      <td>1</td>\n",
       "      <td>4.0</td>\n",
       "      <td>Yes</td>\n",
       "      <td>2152108.0</td>\n",
       "    </tr>\n",
       "    <tr>\n",
       "      <th>...</th>\n",
       "      <td>...</td>\n",
       "      <td>...</td>\n",
       "      <td>...</td>\n",
       "      <td>...</td>\n",
       "      <td>...</td>\n",
       "      <td>...</td>\n",
       "      <td>...</td>\n",
       "      <td>...</td>\n",
       "      <td>...</td>\n",
       "      <td>...</td>\n",
       "      <td>...</td>\n",
       "      <td>...</td>\n",
       "      <td>...</td>\n",
       "      <td>...</td>\n",
       "      <td>...</td>\n",
       "      <td>...</td>\n",
       "      <td>...</td>\n",
       "      <td>...</td>\n",
       "      <td>...</td>\n",
       "    </tr>\n",
       "    <tr>\n",
       "      <th>1188</th>\n",
       "      <td>Ca</td>\n",
       "      <td>San-mateo-county</td>\n",
       "      <td>Redwood city</td>\n",
       "      <td>327 g st</td>\n",
       "      <td>94063</td>\n",
       "      <td>Single family home</td>\n",
       "      <td>Active</td>\n",
       "      <td>1649000.0</td>\n",
       "      <td>1951</td>\n",
       "      <td>3.0</td>\n",
       "      <td>2.0</td>\n",
       "      <td>1244.0</td>\n",
       "      <td>5876.0</td>\n",
       "      <td>0.0</td>\n",
       "      <td>9</td>\n",
       "      <td>65</td>\n",
       "      <td>81.0</td>\n",
       "      <td>Yes</td>\n",
       "      <td>1674965.0</td>\n",
       "    </tr>\n",
       "    <tr>\n",
       "      <th>1189</th>\n",
       "      <td>Ca</td>\n",
       "      <td>San-mateo-county</td>\n",
       "      <td>Hillsborough</td>\n",
       "      <td>5 jewell pl</td>\n",
       "      <td>94010</td>\n",
       "      <td>Single family home</td>\n",
       "      <td>Active</td>\n",
       "      <td>4888000.0</td>\n",
       "      <td>1965</td>\n",
       "      <td>3.0</td>\n",
       "      <td>3.0</td>\n",
       "      <td>2890.0</td>\n",
       "      <td>27007.2</td>\n",
       "      <td>0.0</td>\n",
       "      <td>9</td>\n",
       "      <td>1</td>\n",
       "      <td>2.0</td>\n",
       "      <td>Yes</td>\n",
       "      <td>4889102.0</td>\n",
       "    </tr>\n",
       "    <tr>\n",
       "      <th>1190</th>\n",
       "      <td>Ca</td>\n",
       "      <td>San-mateo-county</td>\n",
       "      <td>Belmont</td>\n",
       "      <td>3322 plateau dr</td>\n",
       "      <td>94002</td>\n",
       "      <td>Single family home</td>\n",
       "      <td>Active</td>\n",
       "      <td>2488000.0</td>\n",
       "      <td>1966</td>\n",
       "      <td>6.0</td>\n",
       "      <td>3.0</td>\n",
       "      <td>2240.0</td>\n",
       "      <td>10290.0</td>\n",
       "      <td>0.0</td>\n",
       "      <td>9</td>\n",
       "      <td>9</td>\n",
       "      <td>19.0</td>\n",
       "      <td>Yes</td>\n",
       "      <td>2463021.0</td>\n",
       "    </tr>\n",
       "    <tr>\n",
       "      <th>1191</th>\n",
       "      <td>Ca</td>\n",
       "      <td>San-mateo-county</td>\n",
       "      <td>San mateo</td>\n",
       "      <td>102 waters park cir</td>\n",
       "      <td>94403</td>\n",
       "      <td>Townhouse</td>\n",
       "      <td>New</td>\n",
       "      <td>1463917.0</td>\n",
       "      <td>2021</td>\n",
       "      <td>2.0</td>\n",
       "      <td>2.5</td>\n",
       "      <td>1602.0</td>\n",
       "      <td>10290.0</td>\n",
       "      <td>350.0</td>\n",
       "      <td>7</td>\n",
       "      <td>48</td>\n",
       "      <td>75.0</td>\n",
       "      <td>Yes</td>\n",
       "      <td>1462581.0</td>\n",
       "    </tr>\n",
       "    <tr>\n",
       "      <th>1192</th>\n",
       "      <td>Ca</td>\n",
       "      <td>San-mateo-county</td>\n",
       "      <td>Foster city</td>\n",
       "      <td>1032 sanderling st</td>\n",
       "      <td>94404</td>\n",
       "      <td>Single family home</td>\n",
       "      <td>Active</td>\n",
       "      <td>1798000.0</td>\n",
       "      <td>1965</td>\n",
       "      <td>4.0</td>\n",
       "      <td>3.0</td>\n",
       "      <td>2450.0</td>\n",
       "      <td>5700.0</td>\n",
       "      <td>0.0</td>\n",
       "      <td>7</td>\n",
       "      <td>38</td>\n",
       "      <td>68.0</td>\n",
       "      <td>Yes</td>\n",
       "      <td>1841263.0</td>\n",
       "    </tr>\n",
       "  </tbody>\n",
       "</table>\n",
       "<p>1193 rows × 19 columns</p>\n",
       "</div>"
      ],
      "text/plain": [
       "     State               County           City                 Street Zipcode  \\\n",
       "0       Ca  Contra-costa-county         Oakley        2537 talaria dr   94561   \n",
       "1       Ca  Contra-costa-county  Pleasant hill          66 kathryn dr   94523   \n",
       "2       Ca  Contra-costa-county      San ramon       3246 ensenada dr   94583   \n",
       "3       Ca  Contra-costa-county      Lafayette  1845 reliez valley rd   94549   \n",
       "4       Ca  Contra-costa-county         Orinda        40 via floreado   94563   \n",
       "...    ...                  ...            ...                    ...     ...   \n",
       "1188    Ca     San-mateo-county   Redwood city               327 g st   94063   \n",
       "1189    Ca     San-mateo-county   Hillsborough            5 jewell pl   94010   \n",
       "1190    Ca     San-mateo-county        Belmont        3322 plateau dr   94002   \n",
       "1191    Ca     San-mateo-county      San mateo    102 waters park cir   94403   \n",
       "1192    Ca     San-mateo-county    Foster city     1032 sanderling st   94404   \n",
       "\n",
       "                  Property_Type          Status      Price  Year_Built  Beds  \\\n",
       "0     Single family residential  Back on market   649999.0        2014   3.0   \n",
       "1     Single family residential    Price change   998000.0        1952   3.0   \n",
       "2     Single family residential             New  1395000.0        1976   4.0   \n",
       "3     Single family residential          Active  1848888.0        1934   5.0   \n",
       "4     Single family residential             New  2150000.0        1926   5.0   \n",
       "...                         ...             ...        ...         ...   ...   \n",
       "1188         Single family home          Active  1649000.0        1951   3.0   \n",
       "1189         Single family home          Active  4888000.0        1965   3.0   \n",
       "1190         Single family home          Active  2488000.0        1966   6.0   \n",
       "1191                  Townhouse             New  1463917.0        2021   2.0   \n",
       "1192         Single family home          Active  1798000.0        1965   4.0   \n",
       "\n",
       "      Bath    Sqft  Lot Area  HOA Due  School_rating  WalkScore  Bike_Score  \\\n",
       "0      2.5  2279.0    6228.0    114.0              6          6        35.0   \n",
       "1      1.0  1315.0    6650.0      0.0              8         83        76.0   \n",
       "2      2.5  1880.0    7000.0      0.0              9         26        67.0   \n",
       "3      3.5  2733.0   37897.2      0.0              9          4         3.0   \n",
       "4      3.5  2516.0   21780.0      0.0              9          1         4.0   \n",
       "...    ...     ...       ...      ...            ...        ...         ...   \n",
       "1188   2.0  1244.0    5876.0      0.0              9         65        81.0   \n",
       "1189   3.0  2890.0   27007.2      0.0              9          1         2.0   \n",
       "1190   3.0  2240.0   10290.0      0.0              9          9        19.0   \n",
       "1191   2.5  1602.0   10290.0    350.0              7         48        75.0   \n",
       "1192   3.0  2450.0    5700.0      0.0              7         38        68.0   \n",
       "\n",
       "     Garage_availability  Redfin_estimate  \n",
       "0                    Yes         655836.0  \n",
       "1                    Yes        1048496.0  \n",
       "2                    Yes        1413765.0  \n",
       "3                    Yes        1861281.0  \n",
       "4                    Yes        2152108.0  \n",
       "...                  ...              ...  \n",
       "1188                 Yes        1674965.0  \n",
       "1189                 Yes        4889102.0  \n",
       "1190                 Yes        2463021.0  \n",
       "1191                 Yes        1462581.0  \n",
       "1192                 Yes        1841263.0  \n",
       "\n",
       "[1193 rows x 19 columns]"
      ]
     },
     "execution_count": 47,
     "metadata": {},
     "output_type": "execute_result"
    }
   ],
   "source": [
    "df"
   ]
  },
  {
   "cell_type": "code",
   "execution_count": null,
   "id": "348ff953",
   "metadata": {},
   "outputs": [],
   "source": [
    "#Removing Duplicates"
   ]
  },
  {
   "cell_type": "code",
   "execution_count": 48,
   "id": "db5288fe",
   "metadata": {},
   "outputs": [
    {
     "data": {
      "text/plain": [
       "False    1193\n",
       "dtype: int64"
      ]
     },
     "execution_count": 48,
     "metadata": {},
     "output_type": "execute_result"
    }
   ],
   "source": [
    "df.duplicated().value_counts()"
   ]
  },
  {
   "cell_type": "code",
   "execution_count": 49,
   "id": "3daff326",
   "metadata": {},
   "outputs": [],
   "source": [
    "df=df.drop_duplicates()"
   ]
  },
  {
   "cell_type": "code",
   "execution_count": 50,
   "id": "969321e6",
   "metadata": {},
   "outputs": [
    {
     "data": {
      "text/html": [
       "<div>\n",
       "<style scoped>\n",
       "    .dataframe tbody tr th:only-of-type {\n",
       "        vertical-align: middle;\n",
       "    }\n",
       "\n",
       "    .dataframe tbody tr th {\n",
       "        vertical-align: top;\n",
       "    }\n",
       "\n",
       "    .dataframe thead th {\n",
       "        text-align: right;\n",
       "    }\n",
       "</style>\n",
       "<table border=\"1\" class=\"dataframe\">\n",
       "  <thead>\n",
       "    <tr style=\"text-align: right;\">\n",
       "      <th></th>\n",
       "      <th>State</th>\n",
       "      <th>County</th>\n",
       "      <th>City</th>\n",
       "      <th>Street</th>\n",
       "      <th>Zipcode</th>\n",
       "      <th>Property_Type</th>\n",
       "      <th>Status</th>\n",
       "      <th>Price</th>\n",
       "      <th>Year_Built</th>\n",
       "      <th>Beds</th>\n",
       "      <th>Bath</th>\n",
       "      <th>Sqft</th>\n",
       "      <th>Lot Area</th>\n",
       "      <th>HOA Due</th>\n",
       "      <th>School_rating</th>\n",
       "      <th>WalkScore</th>\n",
       "      <th>Bike_Score</th>\n",
       "      <th>Garage_availability</th>\n",
       "      <th>Redfin_estimate</th>\n",
       "    </tr>\n",
       "  </thead>\n",
       "  <tbody>\n",
       "    <tr>\n",
       "      <th>0</th>\n",
       "      <td>Ca</td>\n",
       "      <td>Contra-costa-county</td>\n",
       "      <td>Oakley</td>\n",
       "      <td>2537 talaria dr</td>\n",
       "      <td>94561</td>\n",
       "      <td>Single family residential</td>\n",
       "      <td>Back on market</td>\n",
       "      <td>649999.0</td>\n",
       "      <td>2014</td>\n",
       "      <td>3.0</td>\n",
       "      <td>2.5</td>\n",
       "      <td>2279.0</td>\n",
       "      <td>6228.0</td>\n",
       "      <td>114.0</td>\n",
       "      <td>6</td>\n",
       "      <td>6</td>\n",
       "      <td>35.0</td>\n",
       "      <td>Yes</td>\n",
       "      <td>655836.0</td>\n",
       "    </tr>\n",
       "    <tr>\n",
       "      <th>1</th>\n",
       "      <td>Ca</td>\n",
       "      <td>Contra-costa-county</td>\n",
       "      <td>Pleasant hill</td>\n",
       "      <td>66 kathryn dr</td>\n",
       "      <td>94523</td>\n",
       "      <td>Single family residential</td>\n",
       "      <td>Price change</td>\n",
       "      <td>998000.0</td>\n",
       "      <td>1952</td>\n",
       "      <td>3.0</td>\n",
       "      <td>1.0</td>\n",
       "      <td>1315.0</td>\n",
       "      <td>6650.0</td>\n",
       "      <td>0.0</td>\n",
       "      <td>8</td>\n",
       "      <td>83</td>\n",
       "      <td>76.0</td>\n",
       "      <td>Yes</td>\n",
       "      <td>1048496.0</td>\n",
       "    </tr>\n",
       "    <tr>\n",
       "      <th>2</th>\n",
       "      <td>Ca</td>\n",
       "      <td>Contra-costa-county</td>\n",
       "      <td>San ramon</td>\n",
       "      <td>3246 ensenada dr</td>\n",
       "      <td>94583</td>\n",
       "      <td>Single family residential</td>\n",
       "      <td>New</td>\n",
       "      <td>1395000.0</td>\n",
       "      <td>1976</td>\n",
       "      <td>4.0</td>\n",
       "      <td>2.5</td>\n",
       "      <td>1880.0</td>\n",
       "      <td>7000.0</td>\n",
       "      <td>0.0</td>\n",
       "      <td>9</td>\n",
       "      <td>26</td>\n",
       "      <td>67.0</td>\n",
       "      <td>Yes</td>\n",
       "      <td>1413765.0</td>\n",
       "    </tr>\n",
       "    <tr>\n",
       "      <th>3</th>\n",
       "      <td>Ca</td>\n",
       "      <td>Contra-costa-county</td>\n",
       "      <td>Lafayette</td>\n",
       "      <td>1845 reliez valley rd</td>\n",
       "      <td>94549</td>\n",
       "      <td>Single family residential</td>\n",
       "      <td>Active</td>\n",
       "      <td>1848888.0</td>\n",
       "      <td>1934</td>\n",
       "      <td>5.0</td>\n",
       "      <td>3.5</td>\n",
       "      <td>2733.0</td>\n",
       "      <td>37897.2</td>\n",
       "      <td>0.0</td>\n",
       "      <td>9</td>\n",
       "      <td>4</td>\n",
       "      <td>3.0</td>\n",
       "      <td>Yes</td>\n",
       "      <td>1861281.0</td>\n",
       "    </tr>\n",
       "    <tr>\n",
       "      <th>4</th>\n",
       "      <td>Ca</td>\n",
       "      <td>Contra-costa-county</td>\n",
       "      <td>Orinda</td>\n",
       "      <td>40 via floreado</td>\n",
       "      <td>94563</td>\n",
       "      <td>Single family residential</td>\n",
       "      <td>New</td>\n",
       "      <td>2150000.0</td>\n",
       "      <td>1926</td>\n",
       "      <td>5.0</td>\n",
       "      <td>3.5</td>\n",
       "      <td>2516.0</td>\n",
       "      <td>21780.0</td>\n",
       "      <td>0.0</td>\n",
       "      <td>9</td>\n",
       "      <td>1</td>\n",
       "      <td>4.0</td>\n",
       "      <td>Yes</td>\n",
       "      <td>2152108.0</td>\n",
       "    </tr>\n",
       "    <tr>\n",
       "      <th>...</th>\n",
       "      <td>...</td>\n",
       "      <td>...</td>\n",
       "      <td>...</td>\n",
       "      <td>...</td>\n",
       "      <td>...</td>\n",
       "      <td>...</td>\n",
       "      <td>...</td>\n",
       "      <td>...</td>\n",
       "      <td>...</td>\n",
       "      <td>...</td>\n",
       "      <td>...</td>\n",
       "      <td>...</td>\n",
       "      <td>...</td>\n",
       "      <td>...</td>\n",
       "      <td>...</td>\n",
       "      <td>...</td>\n",
       "      <td>...</td>\n",
       "      <td>...</td>\n",
       "      <td>...</td>\n",
       "    </tr>\n",
       "    <tr>\n",
       "      <th>1188</th>\n",
       "      <td>Ca</td>\n",
       "      <td>San-mateo-county</td>\n",
       "      <td>Redwood city</td>\n",
       "      <td>327 g st</td>\n",
       "      <td>94063</td>\n",
       "      <td>Single family home</td>\n",
       "      <td>Active</td>\n",
       "      <td>1649000.0</td>\n",
       "      <td>1951</td>\n",
       "      <td>3.0</td>\n",
       "      <td>2.0</td>\n",
       "      <td>1244.0</td>\n",
       "      <td>5876.0</td>\n",
       "      <td>0.0</td>\n",
       "      <td>9</td>\n",
       "      <td>65</td>\n",
       "      <td>81.0</td>\n",
       "      <td>Yes</td>\n",
       "      <td>1674965.0</td>\n",
       "    </tr>\n",
       "    <tr>\n",
       "      <th>1189</th>\n",
       "      <td>Ca</td>\n",
       "      <td>San-mateo-county</td>\n",
       "      <td>Hillsborough</td>\n",
       "      <td>5 jewell pl</td>\n",
       "      <td>94010</td>\n",
       "      <td>Single family home</td>\n",
       "      <td>Active</td>\n",
       "      <td>4888000.0</td>\n",
       "      <td>1965</td>\n",
       "      <td>3.0</td>\n",
       "      <td>3.0</td>\n",
       "      <td>2890.0</td>\n",
       "      <td>27007.2</td>\n",
       "      <td>0.0</td>\n",
       "      <td>9</td>\n",
       "      <td>1</td>\n",
       "      <td>2.0</td>\n",
       "      <td>Yes</td>\n",
       "      <td>4889102.0</td>\n",
       "    </tr>\n",
       "    <tr>\n",
       "      <th>1190</th>\n",
       "      <td>Ca</td>\n",
       "      <td>San-mateo-county</td>\n",
       "      <td>Belmont</td>\n",
       "      <td>3322 plateau dr</td>\n",
       "      <td>94002</td>\n",
       "      <td>Single family home</td>\n",
       "      <td>Active</td>\n",
       "      <td>2488000.0</td>\n",
       "      <td>1966</td>\n",
       "      <td>6.0</td>\n",
       "      <td>3.0</td>\n",
       "      <td>2240.0</td>\n",
       "      <td>10290.0</td>\n",
       "      <td>0.0</td>\n",
       "      <td>9</td>\n",
       "      <td>9</td>\n",
       "      <td>19.0</td>\n",
       "      <td>Yes</td>\n",
       "      <td>2463021.0</td>\n",
       "    </tr>\n",
       "    <tr>\n",
       "      <th>1191</th>\n",
       "      <td>Ca</td>\n",
       "      <td>San-mateo-county</td>\n",
       "      <td>San mateo</td>\n",
       "      <td>102 waters park cir</td>\n",
       "      <td>94403</td>\n",
       "      <td>Townhouse</td>\n",
       "      <td>New</td>\n",
       "      <td>1463917.0</td>\n",
       "      <td>2021</td>\n",
       "      <td>2.0</td>\n",
       "      <td>2.5</td>\n",
       "      <td>1602.0</td>\n",
       "      <td>10290.0</td>\n",
       "      <td>350.0</td>\n",
       "      <td>7</td>\n",
       "      <td>48</td>\n",
       "      <td>75.0</td>\n",
       "      <td>Yes</td>\n",
       "      <td>1462581.0</td>\n",
       "    </tr>\n",
       "    <tr>\n",
       "      <th>1192</th>\n",
       "      <td>Ca</td>\n",
       "      <td>San-mateo-county</td>\n",
       "      <td>Foster city</td>\n",
       "      <td>1032 sanderling st</td>\n",
       "      <td>94404</td>\n",
       "      <td>Single family home</td>\n",
       "      <td>Active</td>\n",
       "      <td>1798000.0</td>\n",
       "      <td>1965</td>\n",
       "      <td>4.0</td>\n",
       "      <td>3.0</td>\n",
       "      <td>2450.0</td>\n",
       "      <td>5700.0</td>\n",
       "      <td>0.0</td>\n",
       "      <td>7</td>\n",
       "      <td>38</td>\n",
       "      <td>68.0</td>\n",
       "      <td>Yes</td>\n",
       "      <td>1841263.0</td>\n",
       "    </tr>\n",
       "  </tbody>\n",
       "</table>\n",
       "<p>1193 rows × 19 columns</p>\n",
       "</div>"
      ],
      "text/plain": [
       "     State               County           City                 Street Zipcode  \\\n",
       "0       Ca  Contra-costa-county         Oakley        2537 talaria dr   94561   \n",
       "1       Ca  Contra-costa-county  Pleasant hill          66 kathryn dr   94523   \n",
       "2       Ca  Contra-costa-county      San ramon       3246 ensenada dr   94583   \n",
       "3       Ca  Contra-costa-county      Lafayette  1845 reliez valley rd   94549   \n",
       "4       Ca  Contra-costa-county         Orinda        40 via floreado   94563   \n",
       "...    ...                  ...            ...                    ...     ...   \n",
       "1188    Ca     San-mateo-county   Redwood city               327 g st   94063   \n",
       "1189    Ca     San-mateo-county   Hillsborough            5 jewell pl   94010   \n",
       "1190    Ca     San-mateo-county        Belmont        3322 plateau dr   94002   \n",
       "1191    Ca     San-mateo-county      San mateo    102 waters park cir   94403   \n",
       "1192    Ca     San-mateo-county    Foster city     1032 sanderling st   94404   \n",
       "\n",
       "                  Property_Type          Status      Price  Year_Built  Beds  \\\n",
       "0     Single family residential  Back on market   649999.0        2014   3.0   \n",
       "1     Single family residential    Price change   998000.0        1952   3.0   \n",
       "2     Single family residential             New  1395000.0        1976   4.0   \n",
       "3     Single family residential          Active  1848888.0        1934   5.0   \n",
       "4     Single family residential             New  2150000.0        1926   5.0   \n",
       "...                         ...             ...        ...         ...   ...   \n",
       "1188         Single family home          Active  1649000.0        1951   3.0   \n",
       "1189         Single family home          Active  4888000.0        1965   3.0   \n",
       "1190         Single family home          Active  2488000.0        1966   6.0   \n",
       "1191                  Townhouse             New  1463917.0        2021   2.0   \n",
       "1192         Single family home          Active  1798000.0        1965   4.0   \n",
       "\n",
       "      Bath    Sqft  Lot Area  HOA Due  School_rating  WalkScore  Bike_Score  \\\n",
       "0      2.5  2279.0    6228.0    114.0              6          6        35.0   \n",
       "1      1.0  1315.0    6650.0      0.0              8         83        76.0   \n",
       "2      2.5  1880.0    7000.0      0.0              9         26        67.0   \n",
       "3      3.5  2733.0   37897.2      0.0              9          4         3.0   \n",
       "4      3.5  2516.0   21780.0      0.0              9          1         4.0   \n",
       "...    ...     ...       ...      ...            ...        ...         ...   \n",
       "1188   2.0  1244.0    5876.0      0.0              9         65        81.0   \n",
       "1189   3.0  2890.0   27007.2      0.0              9          1         2.0   \n",
       "1190   3.0  2240.0   10290.0      0.0              9          9        19.0   \n",
       "1191   2.5  1602.0   10290.0    350.0              7         48        75.0   \n",
       "1192   3.0  2450.0    5700.0      0.0              7         38        68.0   \n",
       "\n",
       "     Garage_availability  Redfin_estimate  \n",
       "0                    Yes         655836.0  \n",
       "1                    Yes        1048496.0  \n",
       "2                    Yes        1413765.0  \n",
       "3                    Yes        1861281.0  \n",
       "4                    Yes        2152108.0  \n",
       "...                  ...              ...  \n",
       "1188                 Yes        1674965.0  \n",
       "1189                 Yes        4889102.0  \n",
       "1190                 Yes        2463021.0  \n",
       "1191                 Yes        1462581.0  \n",
       "1192                 Yes        1841263.0  \n",
       "\n",
       "[1193 rows x 19 columns]"
      ]
     },
     "execution_count": 50,
     "metadata": {},
     "output_type": "execute_result"
    }
   ],
   "source": [
    "df"
   ]
  },
  {
   "cell_type": "code",
   "execution_count": 51,
   "id": "bde7052c",
   "metadata": {},
   "outputs": [
    {
     "data": {
      "text/plain": [
       "Price               115.210649\n",
       "Year_Built           -0.428832\n",
       "Beds                  4.093592\n",
       "Bath                  4.434679\n",
       "Sqft                 17.545597\n",
       "Lot Area           1034.096255\n",
       "HOA Due             106.361076\n",
       "School_rating         0.067668\n",
       "WalkScore            -1.205246\n",
       "Bike_Score           -0.412292\n",
       "Redfin_estimate     115.757196\n",
       "dtype: float64"
      ]
     },
     "execution_count": 51,
     "metadata": {},
     "output_type": "execute_result"
    }
   ],
   "source": [
    "df.kurt(numeric_only=True)"
   ]
  },
  {
   "cell_type": "code",
   "execution_count": 52,
   "id": "35632212",
   "metadata": {},
   "outputs": [
    {
     "data": {
      "text/plain": [
       "count    1.193000e+03\n",
       "mean     1.493836e+06\n",
       "std      1.690104e+06\n",
       "min      9.000000e+04\n",
       "25%      7.000000e+05\n",
       "50%      1.048888e+06\n",
       "75%      1.795000e+06\n",
       "max      3.195000e+07\n",
       "Name: Price, dtype: float64"
      ]
     },
     "execution_count": 52,
     "metadata": {},
     "output_type": "execute_result"
    }
   ],
   "source": [
    "df['Price'].describe()"
   ]
  },
  {
   "cell_type": "code",
   "execution_count": 53,
   "id": "f1f8b05d",
   "metadata": {},
   "outputs": [
    {
     "data": {
      "text/plain": [
       "count    1193.000000\n",
       "mean        3.279966\n",
       "std         1.256023\n",
       "min         0.000000\n",
       "25%         2.000000\n",
       "50%         3.000000\n",
       "75%         4.000000\n",
       "max        13.000000\n",
       "Name: Beds, dtype: float64"
      ]
     },
     "execution_count": 53,
     "metadata": {},
     "output_type": "execute_result"
    }
   ],
   "source": [
    "df['Beds'].describe()"
   ]
  },
  {
   "cell_type": "code",
   "execution_count": 54,
   "id": "68ed6b90",
   "metadata": {},
   "outputs": [
    {
     "data": {
      "text/plain": [
       "count    1193.000000\n",
       "mean        2.381391\n",
       "std         1.072055\n",
       "min         0.000000\n",
       "25%         2.000000\n",
       "50%         2.000000\n",
       "75%         3.000000\n",
       "max         9.000000\n",
       "Name: Bath, dtype: float64"
      ]
     },
     "execution_count": 54,
     "metadata": {},
     "output_type": "execute_result"
    }
   ],
   "source": [
    "df['Bath'].describe()"
   ]
  },
  {
   "cell_type": "code",
   "execution_count": 55,
   "id": "58394c2f",
   "metadata": {},
   "outputs": [
    {
     "data": {
      "text/plain": [
       "count     1193.000000\n",
       "mean      1969.083822\n",
       "std       1181.828598\n",
       "min        375.000000\n",
       "25%       1204.000000\n",
       "50%       1705.000000\n",
       "75%       2406.000000\n",
       "max      13825.000000\n",
       "Name: Sqft, dtype: float64"
      ]
     },
     "execution_count": 55,
     "metadata": {},
     "output_type": "execute_result"
    }
   ],
   "source": [
    "df['Sqft'].describe()"
   ]
  },
  {
   "cell_type": "code",
   "execution_count": 56,
   "id": "ece635ed",
   "metadata": {},
   "outputs": [
    {
     "data": {
      "text/plain": [
       "count    1193.000000\n",
       "mean      158.766974\n",
       "std       405.493186\n",
       "min         0.000000\n",
       "25%         0.000000\n",
       "50%         0.000000\n",
       "75%       214.000000\n",
       "max      6545.000000\n",
       "Name: HOA Due, dtype: float64"
      ]
     },
     "execution_count": 56,
     "metadata": {},
     "output_type": "execute_result"
    }
   ],
   "source": [
    "df['HOA Due'].describe()"
   ]
  },
  {
   "cell_type": "code",
   "execution_count": 57,
   "id": "511cb659",
   "metadata": {},
   "outputs": [
    {
     "data": {
      "text/plain": [
       "count    1.193000e+03\n",
       "mean     4.005982e+04\n",
       "std      5.922061e+05\n",
       "min      1.000000e+00\n",
       "25%      4.794000e+03\n",
       "50%      6.400000e+03\n",
       "75%      1.000000e+04\n",
       "max      1.975010e+07\n",
       "Name: Lot Area, dtype: float64"
      ]
     },
     "execution_count": 57,
     "metadata": {},
     "output_type": "execute_result"
    }
   ],
   "source": [
    "df['Lot Area'].describe()"
   ]
  },
  {
   "cell_type": "code",
   "execution_count": 58,
   "id": "32b2c706",
   "metadata": {},
   "outputs": [
    {
     "data": {
      "text/plain": [
       "count    1.193000e+03\n",
       "mean     1.356406e+06\n",
       "std      1.590475e+06\n",
       "min      0.000000e+00\n",
       "25%      6.263230e+05\n",
       "50%      9.692350e+05\n",
       "75%      1.674965e+06\n",
       "max      3.078192e+07\n",
       "Name: Redfin_estimate, dtype: float64"
      ]
     },
     "execution_count": 58,
     "metadata": {},
     "output_type": "execute_result"
    }
   ],
   "source": [
    "df['Redfin_estimate'].describe()"
   ]
  },
  {
   "cell_type": "code",
   "execution_count": null,
   "id": "5a3e42cd",
   "metadata": {},
   "outputs": [],
   "source": [
    "#Detecting Outliers"
   ]
  },
  {
   "cell_type": "code",
   "execution_count": 59,
   "id": "53f461d6",
   "metadata": {},
   "outputs": [
    {
     "data": {
      "text/plain": [
       "<AxesSubplot:xlabel='Price'>"
      ]
     },
     "execution_count": 59,
     "metadata": {},
     "output_type": "execute_result"
    },
    {
     "data": {
      "image/png": "[encoded data removed]",
      "text/plain": [
       "<Figure size 432x288 with 1 Axes>"
      ]
     },
     "metadata": {
      "needs_background": "light"
     },
     "output_type": "display_data"
    }
   ],
   "source": [
    "sns.boxplot(x=df['Price'])"
   ]
  },
  {
   "cell_type": "code",
   "execution_count": 60,
   "id": "ed43cd70",
   "metadata": {},
   "outputs": [
    {
     "data": {
      "text/plain": [
       "<AxesSubplot:xlabel='Beds'>"
      ]
     },
     "execution_count": 60,
     "metadata": {},
     "output_type": "execute_result"
    },
    {
     "data": {
      "image/png": "[encoded data removed]",
      "text/plain": [
       "<Figure size 432x288 with 1 Axes>"
      ]
     },
     "metadata": {
      "needs_background": "light"
     },
     "output_type": "display_data"
    }
   ],
   "source": [
    "sns.boxplot(x=df['Beds'])"
   ]
  },
  {
   "cell_type": "code",
   "execution_count": 61,
   "id": "bb436096",
   "metadata": {},
   "outputs": [
    {
     "data": {
      "text/plain": [
       "<AxesSubplot:xlabel='Bath'>"
      ]
     },
     "execution_count": 61,
     "metadata": {},
     "output_type": "execute_result"
    },
    {
     "data": {
      "image/png": "[encoded data removed]",
      "text/plain": [
       "<Figure size 432x288 with 1 Axes>"
      ]
     },
     "metadata": {
      "needs_background": "light"
     },
     "output_type": "display_data"
    }
   ],
   "source": [
    "sns.boxplot(x=df['Bath'])"
   ]
  },
  {
   "cell_type": "code",
   "execution_count": 62,
   "id": "58b96bf2",
   "metadata": {},
   "outputs": [
    {
     "data": {
      "text/plain": [
       "<AxesSubplot:xlabel='Sqft'>"
      ]
     },
     "execution_count": 62,
     "metadata": {},
     "output_type": "execute_result"
    },
    {
     "data": {
      "image/png": "[encoded data removed]",
      "text/plain": [
       "<Figure size 432x288 with 1 Axes>"
      ]
     },
     "metadata": {
      "needs_background": "light"
     },
     "output_type": "display_data"
    }
   ],
   "source": [
    "sns.boxplot(x=df['Sqft'])"
   ]
  },
  {
   "cell_type": "code",
   "execution_count": 63,
   "id": "ec7c6728",
   "metadata": {},
   "outputs": [
    {
     "data": {
      "text/plain": [
       "<AxesSubplot:xlabel='HOA Due'>"
      ]
     },
     "execution_count": 63,
     "metadata": {},
     "output_type": "execute_result"
    },
    {
     "data": {
      "image/png": "[encoded data removed]",
      "text/plain": [
       "<Figure size 432x288 with 1 Axes>"
      ]
     },
     "metadata": {
      "needs_background": "light"
     },
     "output_type": "display_data"
    }
   ],
   "source": [
    "sns.boxplot(x=df['HOA Due'])"
   ]
  },
  {
   "cell_type": "code",
   "execution_count": 64,
   "id": "eaf7dba3",
   "metadata": {},
   "outputs": [
    {
     "data": {
      "text/plain": [
       "<AxesSubplot:xlabel='Lot Area'>"
      ]
     },
     "execution_count": 64,
     "metadata": {},
     "output_type": "execute_result"
    },
    {
     "data": {
      "image/png": "[encoded data removed]",
      "text/plain": [
       "<Figure size 432x288 with 1 Axes>"
      ]
     },
     "metadata": {
      "needs_background": "light"
     },
     "output_type": "display_data"
    }
   ],
   "source": [
    "sns.boxplot(x=df['Lot Area'])"
   ]
  },
  {
   "cell_type": "code",
   "execution_count": 65,
   "id": "c3e7eec8",
   "metadata": {},
   "outputs": [
    {
     "data": {
      "text/plain": [
       "<AxesSubplot:xlabel='Redfin_estimate'>"
      ]
     },
     "execution_count": 65,
     "metadata": {},
     "output_type": "execute_result"
    },
    {
     "data": {
      "image/png": "[encoded data removed]",
      "text/plain": [
       "<Figure size 432x288 with 1 Axes>"
      ]
     },
     "metadata": {
      "needs_background": "light"
     },
     "output_type": "display_data"
    }
   ],
   "source": [
    "sns.boxplot(x=df['Redfin_estimate'])"
   ]
  },
  {
   "cell_type": "code",
   "execution_count": 66,
   "id": "8eb60ab5",
   "metadata": {},
   "outputs": [
    {
     "data": {
      "text/plain": [
       "1095000.0"
      ]
     },
     "execution_count": 66,
     "metadata": {},
     "output_type": "execute_result"
    }
   ],
   "source": [
    "Q1_Price = df['Price'].quantile(0.25)\n",
    "Q3_Price = df['Price'].quantile(0.75)\n",
    "IQR_Price = Q3_Price - Q1_Price\n",
    "IQR_Price"
   ]
  },
  {
   "cell_type": "code",
   "execution_count": 67,
   "id": "ee4dcd27",
   "metadata": {},
   "outputs": [
    {
     "data": {
      "text/plain": [
       "2.0"
      ]
     },
     "execution_count": 67,
     "metadata": {},
     "output_type": "execute_result"
    }
   ],
   "source": [
    "Q1_Beds = df['Beds'].quantile(0.25)\n",
    "Q3_Beds = df['Beds'].quantile(0.75)\n",
    "IQR_Beds = Q3_Beds - Q1_Beds\n",
    "IQR_Beds"
   ]
  },
  {
   "cell_type": "code",
   "execution_count": 68,
   "id": "05af9973",
   "metadata": {},
   "outputs": [
    {
     "data": {
      "text/plain": [
       "1.0"
      ]
     },
     "execution_count": 68,
     "metadata": {},
     "output_type": "execute_result"
    }
   ],
   "source": [
    "Q1_Bath = df['Bath'].quantile(0.25)\n",
    "Q3_Bath = df['Bath'].quantile(0.75)\n",
    "IQR_Bath = Q3_Bath - Q1_Bath\n",
    "IQR_Bath"
   ]
  },
  {
   "cell_type": "code",
   "execution_count": 69,
   "id": "fd080ba0",
   "metadata": {},
   "outputs": [
    {
     "data": {
      "text/plain": [
       "1202.0"
      ]
     },
     "execution_count": 69,
     "metadata": {},
     "output_type": "execute_result"
    }
   ],
   "source": [
    "Q1_Sqft = df['Sqft'].quantile(0.25)\n",
    "Q3_Sqft = df['Sqft'].quantile(0.75)\n",
    "IQR_Sqft = Q3_Sqft - Q1_Sqft\n",
    "IQR_Sqft"
   ]
  },
  {
   "cell_type": "code",
   "execution_count": 70,
   "id": "c28e83c9",
   "metadata": {},
   "outputs": [
    {
     "data": {
      "text/plain": [
       "214.0"
      ]
     },
     "execution_count": 70,
     "metadata": {},
     "output_type": "execute_result"
    }
   ],
   "source": [
    "Q1_HOA = df['HOA Due'].quantile(0.25)\n",
    "Q3_HOA = df['HOA Due'].quantile(0.75)\n",
    "IQR_HOA = Q3_HOA - Q1_HOA\n",
    "IQR_HOA"
   ]
  },
  {
   "cell_type": "code",
   "execution_count": 71,
   "id": "9522026b",
   "metadata": {},
   "outputs": [
    {
     "data": {
      "text/plain": [
       "5206.0"
      ]
     },
     "execution_count": 71,
     "metadata": {},
     "output_type": "execute_result"
    }
   ],
   "source": [
    "Q1_LotArea = df['Lot Area'].quantile(0.25)\n",
    "Q3_LotArea = df['Lot Area'].quantile(0.75)\n",
    "IQR_LotArea = Q3_LotArea - Q1_LotArea\n",
    "IQR_LotArea"
   ]
  },
  {
   "cell_type": "code",
   "execution_count": 72,
   "id": "81b3e04d",
   "metadata": {},
   "outputs": [
    {
     "data": {
      "text/plain": [
       "1048642.0"
      ]
     },
     "execution_count": 72,
     "metadata": {},
     "output_type": "execute_result"
    }
   ],
   "source": [
    "Q1_RedfinEstimate = df['Redfin_estimate'].quantile(0.25)\n",
    "Q3_RedfinEstimate = df['Redfin_estimate'].quantile(0.75)\n",
    "IQR_RedfinEstimate = Q3_RedfinEstimate - Q1_RedfinEstimate\n",
    "IQR_RedfinEstimate"
   ]
  },
  {
   "cell_type": "code",
   "execution_count": 73,
   "id": "c7bb49bb",
   "metadata": {},
   "outputs": [],
   "source": [
    "df['Price'] = df['Price'][~((df['Price'] < (Q1_Price - 1.5 * IQR_Price)) |(df['Price'] > \n",
    "                                                                           (Q3_Price + 1.5 * IQR_Price)))]"
   ]
  },
  {
   "cell_type": "code",
   "execution_count": 74,
   "id": "b304ee8c",
   "metadata": {},
   "outputs": [],
   "source": [
    "df['Beds'] = df['Beds'][~((df['Beds'] < (Q1_Beds - 1.5 * IQR_Beds)) |(df['Beds'] > \n",
    "                                                                           (Q3_Beds + 1.5 * IQR_Beds)))]"
   ]
  },
  {
   "cell_type": "code",
   "execution_count": 75,
   "id": "f59b2b27",
   "metadata": {},
   "outputs": [],
   "source": [
    "df['Bath'] = df['Bath'][~((df['Bath'] < (Q1_Bath - 1.5 * IQR_Bath)) |(df['Bath'] > \n",
    "                                                                           (Q3_Bath + 1.5 * IQR_Bath)))]"
   ]
  },
  {
   "cell_type": "code",
   "execution_count": 76,
   "id": "dc7172b5",
   "metadata": {},
   "outputs": [],
   "source": [
    "df['Sqft'] = df['Sqft'][~((df['Sqft'] < (Q1_Sqft - 1.5 * IQR_Sqft)) |(df['Sqft'] > \n",
    "                                                                           (Q3_Sqft + 1.5 * IQR_Sqft)))]"
   ]
  },
  {
   "cell_type": "code",
   "execution_count": 77,
   "id": "55b6aaef",
   "metadata": {},
   "outputs": [],
   "source": [
    "df['HOA Due'] = df['HOA Due'][~((df['HOA Due'] < (Q1_HOA - 1.5 * IQR_HOA)) |(df['HOA Due'] > \n",
    "                                                                           (Q3_HOA + 1.5 * IQR_HOA)))]"
   ]
  },
  {
   "cell_type": "code",
   "execution_count": 78,
   "id": "5e7d25ab",
   "metadata": {},
   "outputs": [],
   "source": [
    "df['Lot Area'] = df['Lot Area'][~((df['Lot Area'] < (Q1_LotArea - 1.5 * IQR_LotArea)) |(df['Lot Area'] > \n",
    "                                                                           (Q3_LotArea + 1.5 * IQR_LotArea)))]"
   ]
  },
  {
   "cell_type": "code",
   "execution_count": 79,
   "id": "3e55c705",
   "metadata": {},
   "outputs": [],
   "source": [
    "df['Redfin_estimate'] = df['Redfin_estimate'][~((df['Redfin_estimate'] < (Q1_RedfinEstimate - 1.5 * IQR_RedfinEstimate)) |(df['Redfin_estimate'] > \n",
    "                                                                           (Q3_RedfinEstimate + 1.5 * IQR_RedfinEstimate)))]"
   ]
  },
  {
   "cell_type": "code",
   "execution_count": 80,
   "id": "71e618a8",
   "metadata": {},
   "outputs": [
    {
     "data": {
      "text/plain": [
       "State                    0\n",
       "County                   0\n",
       "City                     0\n",
       "Street                   0\n",
       "Zipcode                  0\n",
       "Property_Type            0\n",
       "Status                   0\n",
       "Price                   71\n",
       "Year_Built               0\n",
       "Beds                    11\n",
       "Bath                    35\n",
       "Sqft                    49\n",
       "Lot Area               161\n",
       "HOA Due                107\n",
       "School_rating            0\n",
       "WalkScore                0\n",
       "Bike_Score               0\n",
       "Garage_availability      0\n",
       "Redfin_estimate         77\n",
       "dtype: int64"
      ]
     },
     "execution_count": 80,
     "metadata": {},
     "output_type": "execute_result"
    }
   ],
   "source": [
    "df.isna().sum() #number of outliers removed"
   ]
  },
  {
   "cell_type": "code",
   "execution_count": 81,
   "id": "ec75f6f8",
   "metadata": {},
   "outputs": [
    {
     "data": {
      "text/html": [
       "<div>\n",
       "<style scoped>\n",
       "    .dataframe tbody tr th:only-of-type {\n",
       "        vertical-align: middle;\n",
       "    }\n",
       "\n",
       "    .dataframe tbody tr th {\n",
       "        vertical-align: top;\n",
       "    }\n",
       "\n",
       "    .dataframe thead th {\n",
       "        text-align: right;\n",
       "    }\n",
       "</style>\n",
       "<table border=\"1\" class=\"dataframe\">\n",
       "  <thead>\n",
       "    <tr style=\"text-align: right;\">\n",
       "      <th></th>\n",
       "      <th>State</th>\n",
       "      <th>County</th>\n",
       "      <th>City</th>\n",
       "      <th>Street</th>\n",
       "      <th>Zipcode</th>\n",
       "      <th>Property_Type</th>\n",
       "      <th>Status</th>\n",
       "      <th>Price</th>\n",
       "      <th>Year_Built</th>\n",
       "      <th>Beds</th>\n",
       "      <th>Bath</th>\n",
       "      <th>Sqft</th>\n",
       "      <th>Lot Area</th>\n",
       "      <th>HOA Due</th>\n",
       "      <th>School_rating</th>\n",
       "      <th>WalkScore</th>\n",
       "      <th>Bike_Score</th>\n",
       "      <th>Garage_availability</th>\n",
       "      <th>Redfin_estimate</th>\n",
       "    </tr>\n",
       "  </thead>\n",
       "  <tbody>\n",
       "    <tr>\n",
       "      <th>0</th>\n",
       "      <td>Ca</td>\n",
       "      <td>Contra-costa-county</td>\n",
       "      <td>Oakley</td>\n",
       "      <td>2537 talaria dr</td>\n",
       "      <td>94561</td>\n",
       "      <td>Single family residential</td>\n",
       "      <td>Back on market</td>\n",
       "      <td>649999.0</td>\n",
       "      <td>2014</td>\n",
       "      <td>3.0</td>\n",
       "      <td>2.5</td>\n",
       "      <td>2279.0</td>\n",
       "      <td>6228.0</td>\n",
       "      <td>114.0</td>\n",
       "      <td>6</td>\n",
       "      <td>6</td>\n",
       "      <td>35.0</td>\n",
       "      <td>Yes</td>\n",
       "      <td>655836.0</td>\n",
       "    </tr>\n",
       "    <tr>\n",
       "      <th>1</th>\n",
       "      <td>Ca</td>\n",
       "      <td>Contra-costa-county</td>\n",
       "      <td>Pleasant hill</td>\n",
       "      <td>66 kathryn dr</td>\n",
       "      <td>94523</td>\n",
       "      <td>Single family residential</td>\n",
       "      <td>Price change</td>\n",
       "      <td>998000.0</td>\n",
       "      <td>1952</td>\n",
       "      <td>3.0</td>\n",
       "      <td>1.0</td>\n",
       "      <td>1315.0</td>\n",
       "      <td>6650.0</td>\n",
       "      <td>0.0</td>\n",
       "      <td>8</td>\n",
       "      <td>83</td>\n",
       "      <td>76.0</td>\n",
       "      <td>Yes</td>\n",
       "      <td>1048496.0</td>\n",
       "    </tr>\n",
       "    <tr>\n",
       "      <th>2</th>\n",
       "      <td>Ca</td>\n",
       "      <td>Contra-costa-county</td>\n",
       "      <td>San ramon</td>\n",
       "      <td>3246 ensenada dr</td>\n",
       "      <td>94583</td>\n",
       "      <td>Single family residential</td>\n",
       "      <td>New</td>\n",
       "      <td>1395000.0</td>\n",
       "      <td>1976</td>\n",
       "      <td>4.0</td>\n",
       "      <td>2.5</td>\n",
       "      <td>1880.0</td>\n",
       "      <td>7000.0</td>\n",
       "      <td>0.0</td>\n",
       "      <td>9</td>\n",
       "      <td>26</td>\n",
       "      <td>67.0</td>\n",
       "      <td>Yes</td>\n",
       "      <td>1413765.0</td>\n",
       "    </tr>\n",
       "    <tr>\n",
       "      <th>5</th>\n",
       "      <td>Ca</td>\n",
       "      <td>Contra-costa-county</td>\n",
       "      <td>Rodeo</td>\n",
       "      <td>30 london ln</td>\n",
       "      <td>94572</td>\n",
       "      <td>Single family residential</td>\n",
       "      <td>New</td>\n",
       "      <td>1249000.0</td>\n",
       "      <td>2022</td>\n",
       "      <td>4.0</td>\n",
       "      <td>3.5</td>\n",
       "      <td>2996.0</td>\n",
       "      <td>4850.0</td>\n",
       "      <td>0.0</td>\n",
       "      <td>0</td>\n",
       "      <td>4</td>\n",
       "      <td>8.0</td>\n",
       "      <td>Yes</td>\n",
       "      <td>0.0</td>\n",
       "    </tr>\n",
       "    <tr>\n",
       "      <th>7</th>\n",
       "      <td>Ca</td>\n",
       "      <td>Contra-costa-county</td>\n",
       "      <td>Pittsburg</td>\n",
       "      <td>153 shannon</td>\n",
       "      <td>94565</td>\n",
       "      <td>Mobile/manufactured home</td>\n",
       "      <td>Active</td>\n",
       "      <td>159900.0</td>\n",
       "      <td>2022</td>\n",
       "      <td>2.0</td>\n",
       "      <td>1.0</td>\n",
       "      <td>720.0</td>\n",
       "      <td>8760.0</td>\n",
       "      <td>0.0</td>\n",
       "      <td>5</td>\n",
       "      <td>7</td>\n",
       "      <td>30.0</td>\n",
       "      <td>Yes</td>\n",
       "      <td>160645.0</td>\n",
       "    </tr>\n",
       "    <tr>\n",
       "      <th>...</th>\n",
       "      <td>...</td>\n",
       "      <td>...</td>\n",
       "      <td>...</td>\n",
       "      <td>...</td>\n",
       "      <td>...</td>\n",
       "      <td>...</td>\n",
       "      <td>...</td>\n",
       "      <td>...</td>\n",
       "      <td>...</td>\n",
       "      <td>...</td>\n",
       "      <td>...</td>\n",
       "      <td>...</td>\n",
       "      <td>...</td>\n",
       "      <td>...</td>\n",
       "      <td>...</td>\n",
       "      <td>...</td>\n",
       "      <td>...</td>\n",
       "      <td>...</td>\n",
       "      <td>...</td>\n",
       "    </tr>\n",
       "    <tr>\n",
       "      <th>1185</th>\n",
       "      <td>Ca</td>\n",
       "      <td>San-mateo-county</td>\n",
       "      <td>East palo alto</td>\n",
       "      <td>332 azalia dr</td>\n",
       "      <td>94303</td>\n",
       "      <td>Single family home</td>\n",
       "      <td>Active</td>\n",
       "      <td>1100000.0</td>\n",
       "      <td>1951</td>\n",
       "      <td>3.0</td>\n",
       "      <td>2.0</td>\n",
       "      <td>1130.0</td>\n",
       "      <td>5000.0</td>\n",
       "      <td>0.0</td>\n",
       "      <td>7</td>\n",
       "      <td>47</td>\n",
       "      <td>76.0</td>\n",
       "      <td>Yes</td>\n",
       "      <td>1098562.0</td>\n",
       "    </tr>\n",
       "    <tr>\n",
       "      <th>1188</th>\n",
       "      <td>Ca</td>\n",
       "      <td>San-mateo-county</td>\n",
       "      <td>Redwood city</td>\n",
       "      <td>327 g st</td>\n",
       "      <td>94063</td>\n",
       "      <td>Single family home</td>\n",
       "      <td>Active</td>\n",
       "      <td>1649000.0</td>\n",
       "      <td>1951</td>\n",
       "      <td>3.0</td>\n",
       "      <td>2.0</td>\n",
       "      <td>1244.0</td>\n",
       "      <td>5876.0</td>\n",
       "      <td>0.0</td>\n",
       "      <td>9</td>\n",
       "      <td>65</td>\n",
       "      <td>81.0</td>\n",
       "      <td>Yes</td>\n",
       "      <td>1674965.0</td>\n",
       "    </tr>\n",
       "    <tr>\n",
       "      <th>1190</th>\n",
       "      <td>Ca</td>\n",
       "      <td>San-mateo-county</td>\n",
       "      <td>Belmont</td>\n",
       "      <td>3322 plateau dr</td>\n",
       "      <td>94002</td>\n",
       "      <td>Single family home</td>\n",
       "      <td>Active</td>\n",
       "      <td>2488000.0</td>\n",
       "      <td>1966</td>\n",
       "      <td>6.0</td>\n",
       "      <td>3.0</td>\n",
       "      <td>2240.0</td>\n",
       "      <td>10290.0</td>\n",
       "      <td>0.0</td>\n",
       "      <td>9</td>\n",
       "      <td>9</td>\n",
       "      <td>19.0</td>\n",
       "      <td>Yes</td>\n",
       "      <td>2463021.0</td>\n",
       "    </tr>\n",
       "    <tr>\n",
       "      <th>1191</th>\n",
       "      <td>Ca</td>\n",
       "      <td>San-mateo-county</td>\n",
       "      <td>San mateo</td>\n",
       "      <td>102 waters park cir</td>\n",
       "      <td>94403</td>\n",
       "      <td>Townhouse</td>\n",
       "      <td>New</td>\n",
       "      <td>1463917.0</td>\n",
       "      <td>2021</td>\n",
       "      <td>2.0</td>\n",
       "      <td>2.5</td>\n",
       "      <td>1602.0</td>\n",
       "      <td>10290.0</td>\n",
       "      <td>350.0</td>\n",
       "      <td>7</td>\n",
       "      <td>48</td>\n",
       "      <td>75.0</td>\n",
       "      <td>Yes</td>\n",
       "      <td>1462581.0</td>\n",
       "    </tr>\n",
       "    <tr>\n",
       "      <th>1192</th>\n",
       "      <td>Ca</td>\n",
       "      <td>San-mateo-county</td>\n",
       "      <td>Foster city</td>\n",
       "      <td>1032 sanderling st</td>\n",
       "      <td>94404</td>\n",
       "      <td>Single family home</td>\n",
       "      <td>Active</td>\n",
       "      <td>1798000.0</td>\n",
       "      <td>1965</td>\n",
       "      <td>4.0</td>\n",
       "      <td>3.0</td>\n",
       "      <td>2450.0</td>\n",
       "      <td>5700.0</td>\n",
       "      <td>0.0</td>\n",
       "      <td>7</td>\n",
       "      <td>38</td>\n",
       "      <td>68.0</td>\n",
       "      <td>Yes</td>\n",
       "      <td>1841263.0</td>\n",
       "    </tr>\n",
       "  </tbody>\n",
       "</table>\n",
       "<p>886 rows × 19 columns</p>\n",
       "</div>"
      ],
      "text/plain": [
       "     State               County            City               Street Zipcode  \\\n",
       "0       Ca  Contra-costa-county          Oakley      2537 talaria dr   94561   \n",
       "1       Ca  Contra-costa-county   Pleasant hill        66 kathryn dr   94523   \n",
       "2       Ca  Contra-costa-county       San ramon     3246 ensenada dr   94583   \n",
       "5       Ca  Contra-costa-county           Rodeo         30 london ln   94572   \n",
       "7       Ca  Contra-costa-county       Pittsburg          153 shannon   94565   \n",
       "...    ...                  ...             ...                  ...     ...   \n",
       "1185    Ca     San-mateo-county  East palo alto        332 azalia dr   94303   \n",
       "1188    Ca     San-mateo-county    Redwood city             327 g st   94063   \n",
       "1190    Ca     San-mateo-county         Belmont      3322 plateau dr   94002   \n",
       "1191    Ca     San-mateo-county       San mateo  102 waters park cir   94403   \n",
       "1192    Ca     San-mateo-county     Foster city   1032 sanderling st   94404   \n",
       "\n",
       "                  Property_Type          Status      Price  Year_Built  Beds  \\\n",
       "0     Single family residential  Back on market   649999.0        2014   3.0   \n",
       "1     Single family residential    Price change   998000.0        1952   3.0   \n",
       "2     Single family residential             New  1395000.0        1976   4.0   \n",
       "5     Single family residential             New  1249000.0        2022   4.0   \n",
       "7      Mobile/manufactured home          Active   159900.0        2022   2.0   \n",
       "...                         ...             ...        ...         ...   ...   \n",
       "1185         Single family home          Active  1100000.0        1951   3.0   \n",
       "1188         Single family home          Active  1649000.0        1951   3.0   \n",
       "1190         Single family home          Active  2488000.0        1966   6.0   \n",
       "1191                  Townhouse             New  1463917.0        2021   2.0   \n",
       "1192         Single family home          Active  1798000.0        1965   4.0   \n",
       "\n",
       "      Bath    Sqft  Lot Area  HOA Due  School_rating  WalkScore  Bike_Score  \\\n",
       "0      2.5  2279.0    6228.0    114.0              6          6        35.0   \n",
       "1      1.0  1315.0    6650.0      0.0              8         83        76.0   \n",
       "2      2.5  1880.0    7000.0      0.0              9         26        67.0   \n",
       "5      3.5  2996.0    4850.0      0.0              0          4         8.0   \n",
       "7      1.0   720.0    8760.0      0.0              5          7        30.0   \n",
       "...    ...     ...       ...      ...            ...        ...         ...   \n",
       "1185   2.0  1130.0    5000.0      0.0              7         47        76.0   \n",
       "1188   2.0  1244.0    5876.0      0.0              9         65        81.0   \n",
       "1190   3.0  2240.0   10290.0      0.0              9          9        19.0   \n",
       "1191   2.5  1602.0   10290.0    350.0              7         48        75.0   \n",
       "1192   3.0  2450.0    5700.0      0.0              7         38        68.0   \n",
       "\n",
       "     Garage_availability  Redfin_estimate  \n",
       "0                    Yes         655836.0  \n",
       "1                    Yes        1048496.0  \n",
       "2                    Yes        1413765.0  \n",
       "5                    Yes              0.0  \n",
       "7                    Yes         160645.0  \n",
       "...                  ...              ...  \n",
       "1185                 Yes        1098562.0  \n",
       "1188                 Yes        1674965.0  \n",
       "1190                 Yes        2463021.0  \n",
       "1191                 Yes        1462581.0  \n",
       "1192                 Yes        1841263.0  \n",
       "\n",
       "[886 rows x 19 columns]"
      ]
     },
     "execution_count": 81,
     "metadata": {},
     "output_type": "execute_result"
    }
   ],
   "source": [
    "df = df.dropna() #removing the null values. The outliers were removed and replaced by null values\n",
    "df"
   ]
  },
  {
   "cell_type": "code",
   "execution_count": null,
   "id": "b325d876",
   "metadata": {},
   "outputs": [],
   "source": [
    "#Boxplot after removing outliers"
   ]
  },
  {
   "cell_type": "code",
   "execution_count": 82,
   "id": "0c32ffe4",
   "metadata": {
    "scrolled": true
   },
   "outputs": [
    {
     "data": {
      "text/plain": [
       "<AxesSubplot:xlabel='Price'>"
      ]
     },
     "execution_count": 82,
     "metadata": {},
     "output_type": "execute_result"
    },
    {
     "data": {
      "image/png": "[encoded data removed]",
      "text/plain": [
       "<Figure size 432x288 with 1 Axes>"
      ]
     },
     "metadata": {
      "needs_background": "light"
     },
     "output_type": "display_data"
    }
   ],
   "source": [
    "sns.boxplot(x=df['Price'])"
   ]
  },
  {
   "cell_type": "code",
   "execution_count": null,
   "id": "5549f346",
   "metadata": {},
   "outputs": [],
   "source": []
  },
  {
   "cell_type": "code",
   "execution_count": 83,
   "id": "9f052d65",
   "metadata": {},
   "outputs": [
    {
     "data": {
      "text/plain": [
       "<AxesSubplot:xlabel='Beds'>"
      ]
     },
     "execution_count": 83,
     "metadata": {},
     "output_type": "execute_result"
    },
    {
     "data": {
      "image/png": "[encoded data removed]",
      "text/plain": [
       "<Figure size 432x288 with 1 Axes>"
      ]
     },
     "metadata": {
      "needs_background": "light"
     },
     "output_type": "display_data"
    }
   ],
   "source": [
    "sns.boxplot(x=df['Beds'])"
   ]
  },
  {
   "cell_type": "code",
   "execution_count": 84,
   "id": "140d8c69",
   "metadata": {},
   "outputs": [
    {
     "data": {
      "text/plain": [
       "<AxesSubplot:xlabel='Bath'>"
      ]
     },
     "execution_count": 84,
     "metadata": {},
     "output_type": "execute_result"
    },
    {
     "data": {
      "image/png": "[encoded data removed]",
      "text/plain": [
       "<Figure size 432x288 with 1 Axes>"
      ]
     },
     "metadata": {
      "needs_background": "light"
     },
     "output_type": "display_data"
    }
   ],
   "source": [
    "sns.boxplot(x=df['Bath'])"
   ]
  },
  {
   "cell_type": "code",
   "execution_count": 85,
   "id": "f5515697",
   "metadata": {},
   "outputs": [
    {
     "data": {
      "text/plain": [
       "<AxesSubplot:xlabel='Sqft'>"
      ]
     },
     "execution_count": 85,
     "metadata": {},
     "output_type": "execute_result"
    },
    {
     "data": {
      "image/png": "[encoded data removed]",
      "text/plain": [
       "<Figure size 432x288 with 1 Axes>"
      ]
     },
     "metadata": {
      "needs_background": "light"
     },
     "output_type": "display_data"
    }
   ],
   "source": [
    "sns.boxplot(x=df['Sqft'])"
   ]
  },
  {
   "cell_type": "code",
   "execution_count": 86,
   "id": "784e7bf9",
   "metadata": {},
   "outputs": [
    {
     "data": {
      "text/plain": [
       "<AxesSubplot:xlabel='HOA Due'>"
      ]
     },
     "execution_count": 86,
     "metadata": {},
     "output_type": "execute_result"
    },
    {
     "data": {
      "image/png": "[encoded data removed]",
      "text/plain": [
       "<Figure size 432x288 with 1 Axes>"
      ]
     },
     "metadata": {
      "needs_background": "light"
     },
     "output_type": "display_data"
    }
   ],
   "source": [
    "sns.boxplot(x=df['HOA Due'])"
   ]
  },
  {
   "cell_type": "code",
   "execution_count": 87,
   "id": "ce374cfc",
   "metadata": {},
   "outputs": [
    {
     "data": {
      "text/plain": [
       "<AxesSubplot:xlabel='Lot Area'>"
      ]
     },
     "execution_count": 87,
     "metadata": {},
     "output_type": "execute_result"
    },
    {
     "data": {
      "image/png": "[encoded data removed]",
      "text/plain": [
       "<Figure size 432x288 with 1 Axes>"
      ]
     },
     "metadata": {
      "needs_background": "light"
     },
     "output_type": "display_data"
    }
   ],
   "source": [
    "sns.boxplot(x=df['Lot Area'])"
   ]
  },
  {
   "cell_type": "code",
   "execution_count": 88,
   "id": "c2f84328",
   "metadata": {},
   "outputs": [
    {
     "data": {
      "text/plain": [
       "<AxesSubplot:xlabel='Redfin_estimate'>"
      ]
     },
     "execution_count": 88,
     "metadata": {},
     "output_type": "execute_result"
    },
    {
     "data": {
      "image/png": "[encoded data removed]",
      "text/plain": [
       "<Figure size 432x288 with 1 Axes>"
      ]
     },
     "metadata": {
      "needs_background": "light"
     },
     "output_type": "display_data"
    }
   ],
   "source": [
    "sns.boxplot(x=df['Redfin_estimate'])"
   ]
  },
  {
   "cell_type": "code",
   "execution_count": 89,
   "id": "f0f8e914",
   "metadata": {},
   "outputs": [],
   "source": [
    "#Exporting to csv"
   ]
  },
  {
   "cell_type": "code",
   "execution_count": 90,
   "id": "2c03ecfd",
   "metadata": {},
   "outputs": [],
   "source": [
    "df.to_csv('Dataset_AfterDataCleaningFinal.csv',index=False)"
   ]
  },
  {
   "cell_type": "code",
   "execution_count": 91,
   "id": "e781b942",
   "metadata": {},
   "outputs": [
    {
     "data": {
      "text/html": [
       "<div>\n",
       "<style scoped>\n",
       "    .dataframe tbody tr th:only-of-type {\n",
       "        vertical-align: middle;\n",
       "    }\n",
       "\n",
       "    .dataframe tbody tr th {\n",
       "        vertical-align: top;\n",
       "    }\n",
       "\n",
       "    .dataframe thead th {\n",
       "        text-align: right;\n",
       "    }\n",
       "</style>\n",
       "<table border=\"1\" class=\"dataframe\">\n",
       "  <thead>\n",
       "    <tr style=\"text-align: right;\">\n",
       "      <th></th>\n",
       "      <th>State</th>\n",
       "      <th>County</th>\n",
       "      <th>City</th>\n",
       "      <th>Street</th>\n",
       "      <th>Zipcode</th>\n",
       "      <th>Property_Type</th>\n",
       "      <th>Status</th>\n",
       "      <th>Price</th>\n",
       "      <th>Year_Built</th>\n",
       "      <th>Beds</th>\n",
       "      <th>Bath</th>\n",
       "      <th>Sqft</th>\n",
       "      <th>Lot Area</th>\n",
       "      <th>HOA Due</th>\n",
       "      <th>School_rating</th>\n",
       "      <th>WalkScore</th>\n",
       "      <th>Bike_Score</th>\n",
       "      <th>Garage_availability</th>\n",
       "      <th>Redfin_estimate</th>\n",
       "    </tr>\n",
       "  </thead>\n",
       "  <tbody>\n",
       "    <tr>\n",
       "      <th>0</th>\n",
       "      <td>Ca</td>\n",
       "      <td>Contra-costa-county</td>\n",
       "      <td>Oakley</td>\n",
       "      <td>2537 talaria dr</td>\n",
       "      <td>94561</td>\n",
       "      <td>Single family residential</td>\n",
       "      <td>Back on market</td>\n",
       "      <td>649999.0</td>\n",
       "      <td>2014</td>\n",
       "      <td>3.0</td>\n",
       "      <td>2.5</td>\n",
       "      <td>2279.0</td>\n",
       "      <td>6228.0</td>\n",
       "      <td>114.0</td>\n",
       "      <td>6</td>\n",
       "      <td>6</td>\n",
       "      <td>35.0</td>\n",
       "      <td>Yes</td>\n",
       "      <td>655836.0</td>\n",
       "    </tr>\n",
       "    <tr>\n",
       "      <th>1</th>\n",
       "      <td>Ca</td>\n",
       "      <td>Contra-costa-county</td>\n",
       "      <td>Pleasant hill</td>\n",
       "      <td>66 kathryn dr</td>\n",
       "      <td>94523</td>\n",
       "      <td>Single family residential</td>\n",
       "      <td>Price change</td>\n",
       "      <td>998000.0</td>\n",
       "      <td>1952</td>\n",
       "      <td>3.0</td>\n",
       "      <td>1.0</td>\n",
       "      <td>1315.0</td>\n",
       "      <td>6650.0</td>\n",
       "      <td>0.0</td>\n",
       "      <td>8</td>\n",
       "      <td>83</td>\n",
       "      <td>76.0</td>\n",
       "      <td>Yes</td>\n",
       "      <td>1048496.0</td>\n",
       "    </tr>\n",
       "    <tr>\n",
       "      <th>2</th>\n",
       "      <td>Ca</td>\n",
       "      <td>Contra-costa-county</td>\n",
       "      <td>San ramon</td>\n",
       "      <td>3246 ensenada dr</td>\n",
       "      <td>94583</td>\n",
       "      <td>Single family residential</td>\n",
       "      <td>New</td>\n",
       "      <td>1395000.0</td>\n",
       "      <td>1976</td>\n",
       "      <td>4.0</td>\n",
       "      <td>2.5</td>\n",
       "      <td>1880.0</td>\n",
       "      <td>7000.0</td>\n",
       "      <td>0.0</td>\n",
       "      <td>9</td>\n",
       "      <td>26</td>\n",
       "      <td>67.0</td>\n",
       "      <td>Yes</td>\n",
       "      <td>1413765.0</td>\n",
       "    </tr>\n",
       "    <tr>\n",
       "      <th>5</th>\n",
       "      <td>Ca</td>\n",
       "      <td>Contra-costa-county</td>\n",
       "      <td>Rodeo</td>\n",
       "      <td>30 london ln</td>\n",
       "      <td>94572</td>\n",
       "      <td>Single family residential</td>\n",
       "      <td>New</td>\n",
       "      <td>1249000.0</td>\n",
       "      <td>2022</td>\n",
       "      <td>4.0</td>\n",
       "      <td>3.5</td>\n",
       "      <td>2996.0</td>\n",
       "      <td>4850.0</td>\n",
       "      <td>0.0</td>\n",
       "      <td>0</td>\n",
       "      <td>4</td>\n",
       "      <td>8.0</td>\n",
       "      <td>Yes</td>\n",
       "      <td>0.0</td>\n",
       "    </tr>\n",
       "    <tr>\n",
       "      <th>7</th>\n",
       "      <td>Ca</td>\n",
       "      <td>Contra-costa-county</td>\n",
       "      <td>Pittsburg</td>\n",
       "      <td>153 shannon</td>\n",
       "      <td>94565</td>\n",
       "      <td>Mobile/manufactured home</td>\n",
       "      <td>Active</td>\n",
       "      <td>159900.0</td>\n",
       "      <td>2022</td>\n",
       "      <td>2.0</td>\n",
       "      <td>1.0</td>\n",
       "      <td>720.0</td>\n",
       "      <td>8760.0</td>\n",
       "      <td>0.0</td>\n",
       "      <td>5</td>\n",
       "      <td>7</td>\n",
       "      <td>30.0</td>\n",
       "      <td>Yes</td>\n",
       "      <td>160645.0</td>\n",
       "    </tr>\n",
       "    <tr>\n",
       "      <th>...</th>\n",
       "      <td>...</td>\n",
       "      <td>...</td>\n",
       "      <td>...</td>\n",
       "      <td>...</td>\n",
       "      <td>...</td>\n",
       "      <td>...</td>\n",
       "      <td>...</td>\n",
       "      <td>...</td>\n",
       "      <td>...</td>\n",
       "      <td>...</td>\n",
       "      <td>...</td>\n",
       "      <td>...</td>\n",
       "      <td>...</td>\n",
       "      <td>...</td>\n",
       "      <td>...</td>\n",
       "      <td>...</td>\n",
       "      <td>...</td>\n",
       "      <td>...</td>\n",
       "      <td>...</td>\n",
       "    </tr>\n",
       "    <tr>\n",
       "      <th>1185</th>\n",
       "      <td>Ca</td>\n",
       "      <td>San-mateo-county</td>\n",
       "      <td>East palo alto</td>\n",
       "      <td>332 azalia dr</td>\n",
       "      <td>94303</td>\n",
       "      <td>Single family home</td>\n",
       "      <td>Active</td>\n",
       "      <td>1100000.0</td>\n",
       "      <td>1951</td>\n",
       "      <td>3.0</td>\n",
       "      <td>2.0</td>\n",
       "      <td>1130.0</td>\n",
       "      <td>5000.0</td>\n",
       "      <td>0.0</td>\n",
       "      <td>7</td>\n",
       "      <td>47</td>\n",
       "      <td>76.0</td>\n",
       "      <td>Yes</td>\n",
       "      <td>1098562.0</td>\n",
       "    </tr>\n",
       "    <tr>\n",
       "      <th>1188</th>\n",
       "      <td>Ca</td>\n",
       "      <td>San-mateo-county</td>\n",
       "      <td>Redwood city</td>\n",
       "      <td>327 g st</td>\n",
       "      <td>94063</td>\n",
       "      <td>Single family home</td>\n",
       "      <td>Active</td>\n",
       "      <td>1649000.0</td>\n",
       "      <td>1951</td>\n",
       "      <td>3.0</td>\n",
       "      <td>2.0</td>\n",
       "      <td>1244.0</td>\n",
       "      <td>5876.0</td>\n",
       "      <td>0.0</td>\n",
       "      <td>9</td>\n",
       "      <td>65</td>\n",
       "      <td>81.0</td>\n",
       "      <td>Yes</td>\n",
       "      <td>1674965.0</td>\n",
       "    </tr>\n",
       "    <tr>\n",
       "      <th>1190</th>\n",
       "      <td>Ca</td>\n",
       "      <td>San-mateo-county</td>\n",
       "      <td>Belmont</td>\n",
       "      <td>3322 plateau dr</td>\n",
       "      <td>94002</td>\n",
       "      <td>Single family home</td>\n",
       "      <td>Active</td>\n",
       "      <td>2488000.0</td>\n",
       "      <td>1966</td>\n",
       "      <td>6.0</td>\n",
       "      <td>3.0</td>\n",
       "      <td>2240.0</td>\n",
       "      <td>10290.0</td>\n",
       "      <td>0.0</td>\n",
       "      <td>9</td>\n",
       "      <td>9</td>\n",
       "      <td>19.0</td>\n",
       "      <td>Yes</td>\n",
       "      <td>2463021.0</td>\n",
       "    </tr>\n",
       "    <tr>\n",
       "      <th>1191</th>\n",
       "      <td>Ca</td>\n",
       "      <td>San-mateo-county</td>\n",
       "      <td>San mateo</td>\n",
       "      <td>102 waters park cir</td>\n",
       "      <td>94403</td>\n",
       "      <td>Townhouse</td>\n",
       "      <td>New</td>\n",
       "      <td>1463917.0</td>\n",
       "      <td>2021</td>\n",
       "      <td>2.0</td>\n",
       "      <td>2.5</td>\n",
       "      <td>1602.0</td>\n",
       "      <td>10290.0</td>\n",
       "      <td>350.0</td>\n",
       "      <td>7</td>\n",
       "      <td>48</td>\n",
       "      <td>75.0</td>\n",
       "      <td>Yes</td>\n",
       "      <td>1462581.0</td>\n",
       "    </tr>\n",
       "    <tr>\n",
       "      <th>1192</th>\n",
       "      <td>Ca</td>\n",
       "      <td>San-mateo-county</td>\n",
       "      <td>Foster city</td>\n",
       "      <td>1032 sanderling st</td>\n",
       "      <td>94404</td>\n",
       "      <td>Single family home</td>\n",
       "      <td>Active</td>\n",
       "      <td>1798000.0</td>\n",
       "      <td>1965</td>\n",
       "      <td>4.0</td>\n",
       "      <td>3.0</td>\n",
       "      <td>2450.0</td>\n",
       "      <td>5700.0</td>\n",
       "      <td>0.0</td>\n",
       "      <td>7</td>\n",
       "      <td>38</td>\n",
       "      <td>68.0</td>\n",
       "      <td>Yes</td>\n",
       "      <td>1841263.0</td>\n",
       "    </tr>\n",
       "  </tbody>\n",
       "</table>\n",
       "<p>886 rows × 19 columns</p>\n",
       "</div>"
      ],
      "text/plain": [
       "     State               County            City               Street Zipcode  \\\n",
       "0       Ca  Contra-costa-county          Oakley      2537 talaria dr   94561   \n",
       "1       Ca  Contra-costa-county   Pleasant hill        66 kathryn dr   94523   \n",
       "2       Ca  Contra-costa-county       San ramon     3246 ensenada dr   94583   \n",
       "5       Ca  Contra-costa-county           Rodeo         30 london ln   94572   \n",
       "7       Ca  Contra-costa-county       Pittsburg          153 shannon   94565   \n",
       "...    ...                  ...             ...                  ...     ...   \n",
       "1185    Ca     San-mateo-county  East palo alto        332 azalia dr   94303   \n",
       "1188    Ca     San-mateo-county    Redwood city             327 g st   94063   \n",
       "1190    Ca     San-mateo-county         Belmont      3322 plateau dr   94002   \n",
       "1191    Ca     San-mateo-county       San mateo  102 waters park cir   94403   \n",
       "1192    Ca     San-mateo-county     Foster city   1032 sanderling st   94404   \n",
       "\n",
       "                  Property_Type          Status      Price  Year_Built  Beds  \\\n",
       "0     Single family residential  Back on market   649999.0        2014   3.0   \n",
       "1     Single family residential    Price change   998000.0        1952   3.0   \n",
       "2     Single family residential             New  1395000.0        1976   4.0   \n",
       "5     Single family residential             New  1249000.0        2022   4.0   \n",
       "7      Mobile/manufactured home          Active   159900.0        2022   2.0   \n",
       "...                         ...             ...        ...         ...   ...   \n",
       "1185         Single family home          Active  1100000.0        1951   3.0   \n",
       "1188         Single family home          Active  1649000.0        1951   3.0   \n",
       "1190         Single family home          Active  2488000.0        1966   6.0   \n",
       "1191                  Townhouse             New  1463917.0        2021   2.0   \n",
       "1192         Single family home          Active  1798000.0        1965   4.0   \n",
       "\n",
       "      Bath    Sqft  Lot Area  HOA Due  School_rating  WalkScore  Bike_Score  \\\n",
       "0      2.5  2279.0    6228.0    114.0              6          6        35.0   \n",
       "1      1.0  1315.0    6650.0      0.0              8         83        76.0   \n",
       "2      2.5  1880.0    7000.0      0.0              9         26        67.0   \n",
       "5      3.5  2996.0    4850.0      0.0              0          4         8.0   \n",
       "7      1.0   720.0    8760.0      0.0              5          7        30.0   \n",
       "...    ...     ...       ...      ...            ...        ...         ...   \n",
       "1185   2.0  1130.0    5000.0      0.0              7         47        76.0   \n",
       "1188   2.0  1244.0    5876.0      0.0              9         65        81.0   \n",
       "1190   3.0  2240.0   10290.0      0.0              9          9        19.0   \n",
       "1191   2.5  1602.0   10290.0    350.0              7         48        75.0   \n",
       "1192   3.0  2450.0    5700.0      0.0              7         38        68.0   \n",
       "\n",
       "     Garage_availability  Redfin_estimate  \n",
       "0                    Yes         655836.0  \n",
       "1                    Yes        1048496.0  \n",
       "2                    Yes        1413765.0  \n",
       "5                    Yes              0.0  \n",
       "7                    Yes         160645.0  \n",
       "...                  ...              ...  \n",
       "1185                 Yes        1098562.0  \n",
       "1188                 Yes        1674965.0  \n",
       "1190                 Yes        2463021.0  \n",
       "1191                 Yes        1462581.0  \n",
       "1192                 Yes        1841263.0  \n",
       "\n",
       "[886 rows x 19 columns]"
      ]
     },
     "execution_count": 91,
     "metadata": {},
     "output_type": "execute_result"
    }
   ],
   "source": [
    "df"
   ]
  },
  {
   "cell_type": "code",
   "execution_count": null,
   "id": "8c0615a1",
   "metadata": {},
   "outputs": [],
   "source": []
  }
 ],
 "metadata": {
  "kernelspec": {
   "display_name": "Python 3 (ipykernel)",
   "language": "python",
   "name": "python3"
  },
  "language_info": {
   "codemirror_mode": {
    "name": "ipython",
    "version": 3
   },
   "file_extension": ".py",
   "mimetype": "text/x-python",
   "name": "python",
   "nbconvert_exporter": "python",
   "pygments_lexer": "ipython3",
   "version": "3.11.4"
  }
 },
 "nbformat": 4,
 "nbformat_minor": 5
}
